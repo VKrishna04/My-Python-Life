{
 "cells": [
  {
   "cell_type": "code",
   "execution_count": 23,
   "id": "53ee74b2",
   "metadata": {
    "execution": {
     "iopub.execute_input": "2024-09-23T22:20:54.213568Z",
     "iopub.status.busy": "2024-09-23T22:20:54.213083Z",
     "iopub.status.idle": "2024-09-23T22:20:54.223170Z",
     "shell.execute_reply": "2024-09-23T22:20:54.222321Z"
    },
    "papermill": {
     "duration": 0.022324,
     "end_time": "2024-09-23T22:20:54.225423",
     "exception": false,
     "start_time": "2024-09-23T22:20:54.203099",
     "status": "completed"
    },
    "tags": []
   },
   "outputs": [],
   "source": [
    "import warnings\n",
    "warnings.filterwarnings('ignore')"
   ]
  },
  {
   "cell_type": "code",
   "execution_count": 24,
   "id": "9d857712",
   "metadata": {
    "execution": {
     "iopub.execute_input": "2024-09-23T22:20:54.242653Z",
     "iopub.status.busy": "2024-09-23T22:20:54.241902Z",
     "iopub.status.idle": "2024-09-23T22:20:56.171638Z",
     "shell.execute_reply": "2024-09-23T22:20:56.170550Z"
    },
    "papermill": {
     "duration": 1.940799,
     "end_time": "2024-09-23T22:20:56.174077",
     "exception": false,
     "start_time": "2024-09-23T22:20:54.233278",
     "status": "completed"
    },
    "tags": []
   },
   "outputs": [],
   "source": [
    "# Import necessary libraries\n",
    "import pandas as pd\n",
    "import numpy as np\n",
    "import matplotlib.pyplot as plt\n",
    "import seaborn as sns"
   ]
  },
  {
   "cell_type": "code",
   "execution_count": 25,
   "id": "6d0f5c2e",
   "metadata": {
    "execution": {
     "iopub.execute_input": "2024-09-23T22:20:56.191460Z",
     "iopub.status.busy": "2024-09-23T22:20:56.190463Z",
     "iopub.status.idle": "2024-09-23T22:20:57.041149Z",
     "shell.execute_reply": "2024-09-23T22:20:57.040247Z"
    },
    "papermill": {
     "duration": 0.861735,
     "end_time": "2024-09-23T22:20:57.043566",
     "exception": false,
     "start_time": "2024-09-23T22:20:56.181831",
     "status": "completed"
    },
    "tags": []
   },
   "outputs": [],
   "source": [
    "Data = pd.read_csv(r\".\\dataset\\nearest-earth-objects(1910-2024).csv\")"
   ]
  },
  {
   "cell_type": "code",
   "execution_count": 26,
   "id": "e5e91b21",
   "metadata": {
    "execution": {
     "iopub.execute_input": "2024-09-23T22:20:57.060463Z",
     "iopub.status.busy": "2024-09-23T22:20:57.059535Z",
     "iopub.status.idle": "2024-09-23T22:20:57.067191Z",
     "shell.execute_reply": "2024-09-23T22:20:57.066233Z"
    },
    "papermill": {
     "duration": 0.018245,
     "end_time": "2024-09-23T22:20:57.069362",
     "exception": false,
     "start_time": "2024-09-23T22:20:57.051117",
     "status": "completed"
    },
    "tags": []
   },
   "outputs": [
    {
     "data": {
      "text/plain": [
       "(338199, 9)"
      ]
     },
     "execution_count": 26,
     "metadata": {},
     "output_type": "execute_result"
    }
   ],
   "source": [
    "Data.shape"
   ]
  },
  {
   "cell_type": "code",
   "execution_count": 27,
   "id": "2291c4d1",
   "metadata": {
    "execution": {
     "iopub.execute_input": "2024-09-23T22:20:57.086448Z",
     "iopub.status.busy": "2024-09-23T22:20:57.085709Z",
     "iopub.status.idle": "2024-09-23T22:20:57.111779Z",
     "shell.execute_reply": "2024-09-23T22:20:57.110797Z"
    },
    "papermill": {
     "duration": 0.037039,
     "end_time": "2024-09-23T22:20:57.114032",
     "exception": false,
     "start_time": "2024-09-23T22:20:57.076993",
     "status": "completed"
    },
    "tags": []
   },
   "outputs": [
    {
     "data": {
      "text/html": [
       "<div>\n",
       "<style scoped>\n",
       "    .dataframe tbody tr th:only-of-type {\n",
       "        vertical-align: middle;\n",
       "    }\n",
       "\n",
       "    .dataframe tbody tr th {\n",
       "        vertical-align: top;\n",
       "    }\n",
       "\n",
       "    .dataframe thead th {\n",
       "        text-align: right;\n",
       "    }\n",
       "</style>\n",
       "<table border=\"1\" class=\"dataframe\">\n",
       "  <thead>\n",
       "    <tr style=\"text-align: right;\">\n",
       "      <th></th>\n",
       "      <th>neo_id</th>\n",
       "      <th>name</th>\n",
       "      <th>absolute_magnitude</th>\n",
       "      <th>estimated_diameter_min</th>\n",
       "      <th>estimated_diameter_max</th>\n",
       "      <th>orbiting_body</th>\n",
       "      <th>relative_velocity</th>\n",
       "      <th>miss_distance</th>\n",
       "      <th>is_hazardous</th>\n",
       "    </tr>\n",
       "  </thead>\n",
       "  <tbody>\n",
       "    <tr>\n",
       "      <th>0</th>\n",
       "      <td>2162117</td>\n",
       "      <td>162117 (1998 SD15)</td>\n",
       "      <td>19.14</td>\n",
       "      <td>0.394962</td>\n",
       "      <td>0.883161</td>\n",
       "      <td>Earth</td>\n",
       "      <td>71745.401048</td>\n",
       "      <td>5.814362e+07</td>\n",
       "      <td>False</td>\n",
       "    </tr>\n",
       "    <tr>\n",
       "      <th>1</th>\n",
       "      <td>2349507</td>\n",
       "      <td>349507 (2008 QY)</td>\n",
       "      <td>18.50</td>\n",
       "      <td>0.530341</td>\n",
       "      <td>1.185878</td>\n",
       "      <td>Earth</td>\n",
       "      <td>109949.757148</td>\n",
       "      <td>5.580105e+07</td>\n",
       "      <td>True</td>\n",
       "    </tr>\n",
       "    <tr>\n",
       "      <th>2</th>\n",
       "      <td>2455415</td>\n",
       "      <td>455415 (2003 GA)</td>\n",
       "      <td>21.45</td>\n",
       "      <td>0.136319</td>\n",
       "      <td>0.304818</td>\n",
       "      <td>Earth</td>\n",
       "      <td>24865.506798</td>\n",
       "      <td>6.720689e+07</td>\n",
       "      <td>False</td>\n",
       "    </tr>\n",
       "    <tr>\n",
       "      <th>3</th>\n",
       "      <td>3132126</td>\n",
       "      <td>(2002 PB)</td>\n",
       "      <td>20.63</td>\n",
       "      <td>0.198863</td>\n",
       "      <td>0.444672</td>\n",
       "      <td>Earth</td>\n",
       "      <td>78890.076805</td>\n",
       "      <td>3.039644e+07</td>\n",
       "      <td>False</td>\n",
       "    </tr>\n",
       "    <tr>\n",
       "      <th>4</th>\n",
       "      <td>3557844</td>\n",
       "      <td>(2011 DW)</td>\n",
       "      <td>22.70</td>\n",
       "      <td>0.076658</td>\n",
       "      <td>0.171412</td>\n",
       "      <td>Earth</td>\n",
       "      <td>56036.519484</td>\n",
       "      <td>6.311863e+07</td>\n",
       "      <td>False</td>\n",
       "    </tr>\n",
       "    <tr>\n",
       "      <th>5</th>\n",
       "      <td>3656926</td>\n",
       "      <td>(2014 BT8)</td>\n",
       "      <td>25.00</td>\n",
       "      <td>0.026580</td>\n",
       "      <td>0.059435</td>\n",
       "      <td>Earth</td>\n",
       "      <td>47477.649832</td>\n",
       "      <td>4.290521e+07</td>\n",
       "      <td>False</td>\n",
       "    </tr>\n",
       "    <tr>\n",
       "      <th>6</th>\n",
       "      <td>3421513</td>\n",
       "      <td>(2008 OX1)</td>\n",
       "      <td>21.50</td>\n",
       "      <td>0.133216</td>\n",
       "      <td>0.297879</td>\n",
       "      <td>Earth</td>\n",
       "      <td>57853.295346</td>\n",
       "      <td>2.727908e+07</td>\n",
       "      <td>True</td>\n",
       "    </tr>\n",
       "    <tr>\n",
       "      <th>7</th>\n",
       "      <td>3541504</td>\n",
       "      <td>(2010 OF101)</td>\n",
       "      <td>19.75</td>\n",
       "      <td>0.298233</td>\n",
       "      <td>0.666868</td>\n",
       "      <td>Earth</td>\n",
       "      <td>46972.486794</td>\n",
       "      <td>6.997593e+07</td>\n",
       "      <td>False</td>\n",
       "    </tr>\n",
       "    <tr>\n",
       "      <th>8</th>\n",
       "      <td>3836942</td>\n",
       "      <td>(2018 YH)</td>\n",
       "      <td>21.70</td>\n",
       "      <td>0.121494</td>\n",
       "      <td>0.271669</td>\n",
       "      <td>Earth</td>\n",
       "      <td>37424.548382</td>\n",
       "      <td>5.657727e+06</td>\n",
       "      <td>True</td>\n",
       "    </tr>\n",
       "    <tr>\n",
       "      <th>9</th>\n",
       "      <td>3892166</td>\n",
       "      <td>(2019 UP13)</td>\n",
       "      <td>23.45</td>\n",
       "      <td>0.054269</td>\n",
       "      <td>0.121350</td>\n",
       "      <td>Earth</td>\n",
       "      <td>38524.867869</td>\n",
       "      <td>6.166118e+07</td>\n",
       "      <td>False</td>\n",
       "    </tr>\n",
       "  </tbody>\n",
       "</table>\n",
       "</div>"
      ],
      "text/plain": [
       "    neo_id                name  absolute_magnitude  estimated_diameter_min  \\\n",
       "0  2162117  162117 (1998 SD15)               19.14                0.394962   \n",
       "1  2349507    349507 (2008 QY)               18.50                0.530341   \n",
       "2  2455415    455415 (2003 GA)               21.45                0.136319   \n",
       "3  3132126           (2002 PB)               20.63                0.198863   \n",
       "4  3557844           (2011 DW)               22.70                0.076658   \n",
       "5  3656926          (2014 BT8)               25.00                0.026580   \n",
       "6  3421513          (2008 OX1)               21.50                0.133216   \n",
       "7  3541504        (2010 OF101)               19.75                0.298233   \n",
       "8  3836942           (2018 YH)               21.70                0.121494   \n",
       "9  3892166         (2019 UP13)               23.45                0.054269   \n",
       "\n",
       "   estimated_diameter_max orbiting_body  relative_velocity  miss_distance  \\\n",
       "0                0.883161         Earth       71745.401048   5.814362e+07   \n",
       "1                1.185878         Earth      109949.757148   5.580105e+07   \n",
       "2                0.304818         Earth       24865.506798   6.720689e+07   \n",
       "3                0.444672         Earth       78890.076805   3.039644e+07   \n",
       "4                0.171412         Earth       56036.519484   6.311863e+07   \n",
       "5                0.059435         Earth       47477.649832   4.290521e+07   \n",
       "6                0.297879         Earth       57853.295346   2.727908e+07   \n",
       "7                0.666868         Earth       46972.486794   6.997593e+07   \n",
       "8                0.271669         Earth       37424.548382   5.657727e+06   \n",
       "9                0.121350         Earth       38524.867869   6.166118e+07   \n",
       "\n",
       "   is_hazardous  \n",
       "0         False  \n",
       "1          True  \n",
       "2         False  \n",
       "3         False  \n",
       "4         False  \n",
       "5         False  \n",
       "6          True  \n",
       "7         False  \n",
       "8          True  \n",
       "9         False  "
      ]
     },
     "execution_count": 27,
     "metadata": {},
     "output_type": "execute_result"
    }
   ],
   "source": [
    "Data.head(10)"
   ]
  },
  {
   "cell_type": "code",
   "execution_count": 28,
   "id": "21a9ce19",
   "metadata": {
    "execution": {
     "iopub.execute_input": "2024-09-23T22:20:57.131229Z",
     "iopub.status.busy": "2024-09-23T22:20:57.130854Z",
     "iopub.status.idle": "2024-09-23T22:20:57.189333Z",
     "shell.execute_reply": "2024-09-23T22:20:57.188336Z"
    },
    "papermill": {
     "duration": 0.069819,
     "end_time": "2024-09-23T22:20:57.191800",
     "exception": false,
     "start_time": "2024-09-23T22:20:57.121981",
     "status": "completed"
    },
    "tags": []
   },
   "outputs": [
    {
     "name": "stdout",
     "output_type": "stream",
     "text": [
      "<class 'pandas.core.frame.DataFrame'>\n",
      "RangeIndex: 338199 entries, 0 to 338198\n",
      "Data columns (total 9 columns):\n",
      " #   Column                  Non-Null Count   Dtype  \n",
      "---  ------                  --------------   -----  \n",
      " 0   neo_id                  338199 non-null  int64  \n",
      " 1   name                    338199 non-null  object \n",
      " 2   absolute_magnitude      338171 non-null  float64\n",
      " 3   estimated_diameter_min  338171 non-null  float64\n",
      " 4   estimated_diameter_max  338171 non-null  float64\n",
      " 5   orbiting_body           338199 non-null  object \n",
      " 6   relative_velocity       338199 non-null  float64\n",
      " 7   miss_distance           338199 non-null  float64\n",
      " 8   is_hazardous            338199 non-null  bool   \n",
      "dtypes: bool(1), float64(5), int64(1), object(2)\n",
      "memory usage: 21.0+ MB\n"
     ]
    }
   ],
   "source": [
    "Data.info()"
   ]
  },
  {
   "cell_type": "code",
   "execution_count": 29,
   "id": "6b40bc3b",
   "metadata": {
    "execution": {
     "iopub.execute_input": "2024-09-23T22:20:57.209203Z",
     "iopub.status.busy": "2024-09-23T22:20:57.208819Z",
     "iopub.status.idle": "2024-09-23T22:20:57.327163Z",
     "shell.execute_reply": "2024-09-23T22:20:57.326149Z"
    },
    "papermill": {
     "duration": 0.129668,
     "end_time": "2024-09-23T22:20:57.329457",
     "exception": false,
     "start_time": "2024-09-23T22:20:57.199789",
     "status": "completed"
    },
    "tags": []
   },
   "outputs": [
    {
     "data": {
      "text/html": [
       "<div>\n",
       "<style scoped>\n",
       "    .dataframe tbody tr th:only-of-type {\n",
       "        vertical-align: middle;\n",
       "    }\n",
       "\n",
       "    .dataframe tbody tr th {\n",
       "        vertical-align: top;\n",
       "    }\n",
       "\n",
       "    .dataframe thead th {\n",
       "        text-align: right;\n",
       "    }\n",
       "</style>\n",
       "<table border=\"1\" class=\"dataframe\">\n",
       "  <thead>\n",
       "    <tr style=\"text-align: right;\">\n",
       "      <th></th>\n",
       "      <th>neo_id</th>\n",
       "      <th>absolute_magnitude</th>\n",
       "      <th>estimated_diameter_min</th>\n",
       "      <th>estimated_diameter_max</th>\n",
       "      <th>relative_velocity</th>\n",
       "      <th>miss_distance</th>\n",
       "    </tr>\n",
       "  </thead>\n",
       "  <tbody>\n",
       "    <tr>\n",
       "      <th>count</th>\n",
       "      <td>3.381990e+05</td>\n",
       "      <td>338171.000000</td>\n",
       "      <td>338171.000000</td>\n",
       "      <td>338171.000000</td>\n",
       "      <td>338199.000000</td>\n",
       "      <td>3.381990e+05</td>\n",
       "    </tr>\n",
       "    <tr>\n",
       "      <th>mean</th>\n",
       "      <td>1.759939e+07</td>\n",
       "      <td>22.932525</td>\n",
       "      <td>0.157812</td>\n",
       "      <td>0.352878</td>\n",
       "      <td>51060.662908</td>\n",
       "      <td>4.153535e+07</td>\n",
       "    </tr>\n",
       "    <tr>\n",
       "      <th>std</th>\n",
       "      <td>2.287225e+07</td>\n",
       "      <td>2.911216</td>\n",
       "      <td>0.313885</td>\n",
       "      <td>0.701869</td>\n",
       "      <td>26399.238435</td>\n",
       "      <td>2.077399e+07</td>\n",
       "    </tr>\n",
       "    <tr>\n",
       "      <th>min</th>\n",
       "      <td>2.000433e+06</td>\n",
       "      <td>9.250000</td>\n",
       "      <td>0.000511</td>\n",
       "      <td>0.001143</td>\n",
       "      <td>203.346433</td>\n",
       "      <td>6.745533e+03</td>\n",
       "    </tr>\n",
       "    <tr>\n",
       "      <th>25%</th>\n",
       "      <td>3.373980e+06</td>\n",
       "      <td>20.740000</td>\n",
       "      <td>0.025384</td>\n",
       "      <td>0.056760</td>\n",
       "      <td>30712.031471</td>\n",
       "      <td>2.494540e+07</td>\n",
       "    </tr>\n",
       "    <tr>\n",
       "      <th>50%</th>\n",
       "      <td>3.742127e+06</td>\n",
       "      <td>22.800000</td>\n",
       "      <td>0.073207</td>\n",
       "      <td>0.163697</td>\n",
       "      <td>47560.465474</td>\n",
       "      <td>4.332674e+07</td>\n",
       "    </tr>\n",
       "    <tr>\n",
       "      <th>75%</th>\n",
       "      <td>5.405374e+07</td>\n",
       "      <td>25.100000</td>\n",
       "      <td>0.189041</td>\n",
       "      <td>0.422708</td>\n",
       "      <td>66673.820614</td>\n",
       "      <td>5.933961e+07</td>\n",
       "    </tr>\n",
       "    <tr>\n",
       "      <th>max</th>\n",
       "      <td>5.446281e+07</td>\n",
       "      <td>33.580000</td>\n",
       "      <td>37.545248</td>\n",
       "      <td>83.953727</td>\n",
       "      <td>291781.106613</td>\n",
       "      <td>7.479865e+07</td>\n",
       "    </tr>\n",
       "  </tbody>\n",
       "</table>\n",
       "</div>"
      ],
      "text/plain": [
       "             neo_id  absolute_magnitude  estimated_diameter_min  \\\n",
       "count  3.381990e+05       338171.000000           338171.000000   \n",
       "mean   1.759939e+07           22.932525                0.157812   \n",
       "std    2.287225e+07            2.911216                0.313885   \n",
       "min    2.000433e+06            9.250000                0.000511   \n",
       "25%    3.373980e+06           20.740000                0.025384   \n",
       "50%    3.742127e+06           22.800000                0.073207   \n",
       "75%    5.405374e+07           25.100000                0.189041   \n",
       "max    5.446281e+07           33.580000               37.545248   \n",
       "\n",
       "       estimated_diameter_max  relative_velocity  miss_distance  \n",
       "count           338171.000000      338199.000000   3.381990e+05  \n",
       "mean                 0.352878       51060.662908   4.153535e+07  \n",
       "std                  0.701869       26399.238435   2.077399e+07  \n",
       "min                  0.001143         203.346433   6.745533e+03  \n",
       "25%                  0.056760       30712.031471   2.494540e+07  \n",
       "50%                  0.163697       47560.465474   4.332674e+07  \n",
       "75%                  0.422708       66673.820614   5.933961e+07  \n",
       "max                 83.953727      291781.106613   7.479865e+07  "
      ]
     },
     "execution_count": 29,
     "metadata": {},
     "output_type": "execute_result"
    }
   ],
   "source": [
    "Data.describe()"
   ]
  },
  {
   "cell_type": "code",
   "execution_count": 30,
   "id": "aaa3e0bc",
   "metadata": {
    "execution": {
     "iopub.execute_input": "2024-09-23T22:20:57.347327Z",
     "iopub.status.busy": "2024-09-23T22:20:57.346921Z",
     "iopub.status.idle": "2024-09-23T22:20:57.386784Z",
     "shell.execute_reply": "2024-09-23T22:20:57.385831Z"
    },
    "papermill": {
     "duration": 0.05158,
     "end_time": "2024-09-23T22:20:57.389214",
     "exception": false,
     "start_time": "2024-09-23T22:20:57.337634",
     "status": "completed"
    },
    "tags": []
   },
   "outputs": [],
   "source": [
    "missing_values = Data.isnull().sum()"
   ]
  },
  {
   "cell_type": "code",
   "execution_count": 31,
   "id": "5bad44d3",
   "metadata": {
    "execution": {
     "iopub.execute_input": "2024-09-23T22:20:57.407426Z",
     "iopub.status.busy": "2024-09-23T22:20:57.407015Z",
     "iopub.status.idle": "2024-09-23T22:20:57.414430Z",
     "shell.execute_reply": "2024-09-23T22:20:57.413376Z"
    },
    "papermill": {
     "duration": 0.019049,
     "end_time": "2024-09-23T22:20:57.416496",
     "exception": false,
     "start_time": "2024-09-23T22:20:57.397447",
     "status": "completed"
    },
    "tags": []
   },
   "outputs": [
    {
     "data": {
      "text/plain": [
       "neo_id                     0\n",
       "name                       0\n",
       "absolute_magnitude        28\n",
       "estimated_diameter_min    28\n",
       "estimated_diameter_max    28\n",
       "orbiting_body              0\n",
       "relative_velocity          0\n",
       "miss_distance              0\n",
       "is_hazardous               0\n",
       "dtype: int64"
      ]
     },
     "execution_count": 31,
     "metadata": {},
     "output_type": "execute_result"
    }
   ],
   "source": [
    "missing_values"
   ]
  },
  {
   "cell_type": "code",
   "execution_count": 32,
   "id": "83de87d7",
   "metadata": {
    "execution": {
     "iopub.execute_input": "2024-09-23T22:20:57.434825Z",
     "iopub.status.busy": "2024-09-23T22:20:57.434435Z",
     "iopub.status.idle": "2024-09-23T22:20:57.619350Z",
     "shell.execute_reply": "2024-09-23T22:20:57.618115Z"
    },
    "papermill": {
     "duration": 0.197943,
     "end_time": "2024-09-23T22:20:57.622877",
     "exception": false,
     "start_time": "2024-09-23T22:20:57.424934",
     "status": "completed"
    },
    "tags": []
   },
   "outputs": [
    {
     "data": {
      "text/plain": [
       "0"
      ]
     },
     "execution_count": 32,
     "metadata": {},
     "output_type": "execute_result"
    }
   ],
   "source": [
    "Data.duplicated().sum()\n"
   ]
  },
  {
   "cell_type": "code",
   "execution_count": 33,
   "id": "7ae8ac77",
   "metadata": {
    "execution": {
     "iopub.execute_input": "2024-09-23T22:20:57.642737Z",
     "iopub.status.busy": "2024-09-23T22:20:57.641667Z",
     "iopub.status.idle": "2024-09-23T22:20:57.656133Z",
     "shell.execute_reply": "2024-09-23T22:20:57.655060Z"
    },
    "papermill": {
     "duration": 0.02701,
     "end_time": "2024-09-23T22:20:57.658799",
     "exception": false,
     "start_time": "2024-09-23T22:20:57.631789",
     "status": "completed"
    },
    "tags": []
   },
   "outputs": [],
   "source": [
    "# Handle missing values by filling with the mean for numerical columns\n",
    "Data['absolute_magnitude'].fillna(Data['absolute_magnitude'].mean(), inplace=True)\n",
    "Data['estimated_diameter_min'].fillna(Data['estimated_diameter_min'].mean(), inplace=True)\n",
    "Data['estimated_diameter_max'].fillna(Data['estimated_diameter_max'].mean(), inplace=True)"
   ]
  },
  {
   "cell_type": "code",
   "execution_count": 34,
   "id": "9f091257",
   "metadata": {
    "execution": {
     "iopub.execute_input": "2024-09-23T22:20:57.677874Z",
     "iopub.status.busy": "2024-09-23T22:20:57.676989Z",
     "iopub.status.idle": "2024-09-23T22:20:57.719904Z",
     "shell.execute_reply": "2024-09-23T22:20:57.718772Z"
    },
    "papermill": {
     "duration": 0.054912,
     "end_time": "2024-09-23T22:20:57.722230",
     "exception": false,
     "start_time": "2024-09-23T22:20:57.667318",
     "status": "completed"
    },
    "tags": []
   },
   "outputs": [
    {
     "data": {
      "text/plain": [
       "neo_id                    0\n",
       "name                      0\n",
       "absolute_magnitude        0\n",
       "estimated_diameter_min    0\n",
       "estimated_diameter_max    0\n",
       "orbiting_body             0\n",
       "relative_velocity         0\n",
       "miss_distance             0\n",
       "is_hazardous              0\n",
       "dtype: int64"
      ]
     },
     "execution_count": 34,
     "metadata": {},
     "output_type": "execute_result"
    }
   ],
   "source": [
    "missing_values = Data.isnull().sum()\n",
    "missing_values"
   ]
  },
  {
   "cell_type": "code",
   "execution_count": 35,
   "id": "6d36df5a",
   "metadata": {
    "execution": {
     "iopub.execute_input": "2024-09-23T22:20:57.741323Z",
     "iopub.status.busy": "2024-09-23T22:20:57.740507Z",
     "iopub.status.idle": "2024-09-23T22:20:58.000188Z",
     "shell.execute_reply": "2024-09-23T22:20:57.998958Z"
    },
    "papermill": {
     "duration": 0.27174,
     "end_time": "2024-09-23T22:20:58.002524",
     "exception": false,
     "start_time": "2024-09-23T22:20:57.730784",
     "status": "completed"
    },
    "tags": []
   },
   "outputs": [
    {
     "data": {
      "image/png": "[encoded data removed]",
      "text/plain": [
       "<Figure size 640x480 with 1 Axes>"
      ]
     },
     "metadata": {},
     "output_type": "display_data"
    }
   ],
   "source": [
    "# Distribution of 'is_hazardous'\n",
    "sns.countplot(x='is_hazardous', data=Data)\n",
    "plt.title('Distribution of Hazardous vs Non-Hazardous NEOs')\n",
    "plt.show()"
   ]
  },
  {
   "cell_type": "code",
   "execution_count": 36,
   "id": "086818f8",
   "metadata": {
    "execution": {
     "iopub.execute_input": "2024-09-23T22:20:58.022530Z",
     "iopub.status.busy": "2024-09-23T22:20:58.022002Z",
     "iopub.status.idle": "2024-09-23T22:21:00.070794Z",
     "shell.execute_reply": "2024-09-23T22:21:00.069773Z"
    },
    "papermill": {
     "duration": 2.061277,
     "end_time": "2024-09-23T22:21:00.073140",
     "exception": false,
     "start_time": "2024-09-23T22:20:58.011863",
     "status": "completed"
    },
    "tags": []
   },
   "outputs": [
    {
     "data": {
      "image/png": "[encoded data removed]",
      "text/plain": [
       "<Figure size 1000x600 with 1 Axes>"
      ]
     },
     "metadata": {},
     "output_type": "display_data"
    }
   ],
   "source": [
    "# Distribution of Absolute Magnitude\n",
    "plt.figure(figsize=(10, 6))\n",
    "sns.histplot(Data['absolute_magnitude'], bins=50, kde=True)\n",
    "plt.title('Distribution of Absolute Magnitude')\n",
    "plt.show()"
   ]
  },
  {
   "cell_type": "code",
   "execution_count": 37,
   "id": "f385030a",
   "metadata": {
    "execution": {
     "iopub.execute_input": "2024-09-23T22:21:00.095249Z",
     "iopub.status.busy": "2024-09-23T22:21:00.094534Z",
     "iopub.status.idle": "2024-09-23T22:21:00.550164Z",
     "shell.execute_reply": "2024-09-23T22:21:00.549163Z"
    },
    "papermill": {
     "duration": 0.469312,
     "end_time": "2024-09-23T22:21:00.552391",
     "exception": false,
     "start_time": "2024-09-23T22:21:00.083079",
     "status": "completed"
    },
    "tags": []
   },
   "outputs": [
    {
     "data": {
      "image/png": "[encoded data removed]",
      "text/plain": [
       "<Figure size 800x600 with 2 Axes>"
      ]
     },
     "metadata": {},
     "output_type": "display_data"
    }
   ],
   "source": [
    "# Select only numeric columns for correlation\n",
    "numeric_data = Data.select_dtypes(include=[np.number])\n",
    "\n",
    "# Correlation matrix\n",
    "plt.figure(figsize=(8, 6))\n",
    "corr_matrix = numeric_data.corr()\n",
    "\n",
    "# Plot heatmap\n",
    "sns.heatmap(corr_matrix, annot=True, cmap='coolwarm', linewidths=0.5)\n",
    "plt.title('Correlation Matrix')\n",
    "plt.show()\n"
   ]
  },
  {
   "cell_type": "code",
   "execution_count": 38,
   "id": "26048098",
   "metadata": {
    "execution": {
     "iopub.execute_input": "2024-09-23T22:21:00.576609Z",
     "iopub.status.busy": "2024-09-23T22:21:00.575640Z",
     "iopub.status.idle": "2024-09-23T22:21:10.508482Z",
     "shell.execute_reply": "2024-09-23T22:21:10.507311Z"
    },
    "papermill": {
     "duration": 9.947309,
     "end_time": "2024-09-23T22:21:10.510950",
     "exception": false,
     "start_time": "2024-09-23T22:21:00.563641",
     "status": "completed"
    },
    "tags": []
   },
   "outputs": [
    {
     "data": {
      "image/png": "[encoded data removed]",
      "text/plain": [
       "<Figure size 1000x600 with 1 Axes>"
      ]
     },
     "metadata": {},
     "output_type": "display_data"
    }
   ],
   "source": [
    "# Scatter plot of Estimated Diameter vs Absolute Magnitude\n",
    "plt.figure(figsize=(10, 6))\n",
    "sns.scatterplot(x='absolute_magnitude', y='estimated_diameter_max', hue='is_hazardous', data=Data)\n",
    "plt.title('Estimated Diameter vs Absolute Magnitude')\n",
    "plt.show()"
   ]
  },
  {
   "cell_type": "code",
   "execution_count": 39,
   "id": "66bcde4c",
   "metadata": {
    "execution": {
     "iopub.execute_input": "2024-09-23T22:21:10.535874Z",
     "iopub.status.busy": "2024-09-23T22:21:10.534952Z",
     "iopub.status.idle": "2024-09-23T22:21:10.672289Z",
     "shell.execute_reply": "2024-09-23T22:21:10.671156Z"
    },
    "papermill": {
     "duration": 0.152358,
     "end_time": "2024-09-23T22:21:10.674764",
     "exception": false,
     "start_time": "2024-09-23T22:21:10.522406",
     "status": "completed"
    },
    "tags": []
   },
   "outputs": [],
   "source": [
    "from sklearn.preprocessing import StandardScaler, LabelEncoder"
   ]
  },
  {
   "cell_type": "code",
   "execution_count": 40,
   "id": "cf69208b",
   "metadata": {
    "execution": {
     "iopub.execute_input": "2024-09-23T22:21:10.699652Z",
     "iopub.status.busy": "2024-09-23T22:21:10.698714Z",
     "iopub.status.idle": "2024-09-23T22:21:10.767430Z",
     "shell.execute_reply": "2024-09-23T22:21:10.766383Z"
    },
    "papermill": {
     "duration": 0.083649,
     "end_time": "2024-09-23T22:21:10.769787",
     "exception": false,
     "start_time": "2024-09-23T22:21:10.686138",
     "status": "completed"
    },
    "tags": []
   },
   "outputs": [],
   "source": [
    "# Encoding the 'orbiting_body' column\n",
    "label_encoder = LabelEncoder()\n",
    "Data['orbiting_body'] = label_encoder.fit_transform(Data['orbiting_body'])"
   ]
  },
  {
   "cell_type": "code",
   "execution_count": 41,
   "id": "e32c830b",
   "metadata": {
    "execution": {
     "iopub.execute_input": "2024-09-23T22:21:10.794070Z",
     "iopub.status.busy": "2024-09-23T22:21:10.793678Z",
     "iopub.status.idle": "2024-09-23T22:21:10.800794Z",
     "shell.execute_reply": "2024-09-23T22:21:10.799777Z"
    },
    "papermill": {
     "duration": 0.022028,
     "end_time": "2024-09-23T22:21:10.803129",
     "exception": false,
     "start_time": "2024-09-23T22:21:10.781101",
     "status": "completed"
    },
    "tags": []
   },
   "outputs": [
    {
     "data": {
      "text/plain": [
       "Index(['neo_id', 'name', 'absolute_magnitude', 'estimated_diameter_min',\n",
       "       'estimated_diameter_max', 'orbiting_body', 'relative_velocity',\n",
       "       'miss_distance', 'is_hazardous'],\n",
       "      dtype='object')"
      ]
     },
     "execution_count": 41,
     "metadata": {},
     "output_type": "execute_result"
    }
   ],
   "source": [
    "Data.columns"
   ]
  },
  {
   "cell_type": "code",
   "execution_count": 42,
   "id": "adaf6f53",
   "metadata": {
    "execution": {
     "iopub.execute_input": "2024-09-23T22:21:10.827587Z",
     "iopub.status.busy": "2024-09-23T22:21:10.827175Z",
     "iopub.status.idle": "2024-09-23T22:21:10.839427Z",
     "shell.execute_reply": "2024-09-23T22:21:10.838482Z"
    },
    "papermill": {
     "duration": 0.027131,
     "end_time": "2024-09-23T22:21:10.841667",
     "exception": false,
     "start_time": "2024-09-23T22:21:10.814536",
     "status": "completed"
    },
    "tags": []
   },
   "outputs": [],
   "source": [
    "# Feature selection\n",
    "X = Data.drop(['neo_id', 'name', 'is_hazardous'], axis=1)\n",
    "y = Data['is_hazardous']"
   ]
  },
  {
   "cell_type": "code",
   "execution_count": 43,
   "id": "57f41742",
   "metadata": {
    "execution": {
     "iopub.execute_input": "2024-09-23T22:21:10.866689Z",
     "iopub.status.busy": "2024-09-23T22:21:10.865754Z",
     "iopub.status.idle": "2024-09-23T22:21:11.663463Z",
     "shell.execute_reply": "2024-09-23T22:21:11.662248Z"
    },
    "papermill": {
     "duration": 0.813029,
     "end_time": "2024-09-23T22:21:11.666080",
     "exception": false,
     "start_time": "2024-09-23T22:21:10.853051",
     "status": "completed"
    },
    "tags": []
   },
   "outputs": [],
   "source": [
    "# Handle imbalanced classes using SMOTE\n",
    "from imblearn.over_sampling import SMOTE\n",
    "\n",
    "smote = SMOTE(random_state=42)\n",
    "X_resampled, y_resampled = smote.fit_resample(X, y)"
   ]
  },
  {
   "cell_type": "code",
   "execution_count": 44,
   "id": "7a8a1b5d",
   "metadata": {
    "execution": {
     "iopub.execute_input": "2024-09-23T22:21:11.693478Z",
     "iopub.status.busy": "2024-09-23T22:21:11.692187Z",
     "iopub.status.idle": "2024-09-23T22:21:11.808166Z",
     "shell.execute_reply": "2024-09-23T22:21:11.807230Z"
    },
    "papermill": {
     "duration": 0.131796,
     "end_time": "2024-09-23T22:21:11.810815",
     "exception": false,
     "start_time": "2024-09-23T22:21:11.679019",
     "status": "completed"
    },
    "tags": []
   },
   "outputs": [],
   "source": [
    "# Split the data into training and testing sets\n",
    "from sklearn.model_selection import train_test_split\n",
    "X_train, X_test, y_train, y_test = train_test_split(X_resampled, y_resampled, test_size=0.3, random_state=42)\n"
   ]
  },
  {
   "cell_type": "code",
   "execution_count": 45,
   "id": "5156884f",
   "metadata": {
    "execution": {
     "iopub.execute_input": "2024-09-23T22:21:11.835447Z",
     "iopub.status.busy": "2024-09-23T22:21:11.835033Z",
     "iopub.status.idle": "2024-09-23T22:21:11.898852Z",
     "shell.execute_reply": "2024-09-23T22:21:11.897973Z"
    },
    "papermill": {
     "duration": 0.078993,
     "end_time": "2024-09-23T22:21:11.901331",
     "exception": false,
     "start_time": "2024-09-23T22:21:11.822338",
     "status": "completed"
    },
    "tags": []
   },
   "outputs": [],
   "source": [
    "# Standardize the numerical features\n",
    "scaler = StandardScaler()\n",
    "X_train = scaler.fit_transform(X_train)\n",
    "X_test = scaler.transform(X_test)"
   ]
  },
  {
   "cell_type": "code",
   "execution_count": 46,
   "id": "40a44623",
   "metadata": {
    "code_folding": [],
    "execution": {
     "iopub.execute_input": "2024-09-23T22:21:11.926184Z",
     "iopub.status.busy": "2024-09-23T22:21:11.925471Z",
     "iopub.status.idle": "2024-09-23T22:21:12.420271Z",
     "shell.execute_reply": "2024-09-23T22:21:12.419070Z"
    },
    "papermill": {
     "duration": 0.511013,
     "end_time": "2024-09-23T22:21:12.423823",
     "exception": false,
     "start_time": "2024-09-23T22:21:11.912810",
     "status": "completed"
    },
    "tags": []
   },
   "outputs": [
    {
     "data": {
      "text/html": [
       "<style>#sk-container-id-1 {\n",
       "  /* Definition of color scheme common for light and dark mode */\n",
       "  --sklearn-color-text: black;\n",
       "  --sklearn-color-line: gray;\n",
       "  /* Definition of color scheme for unfitted estimators */\n",
       "  --sklearn-color-unfitted-level-0: #fff5e6;\n",
       "  --sklearn-color-unfitted-level-1: #f6e4d2;\n",
       "  --sklearn-color-unfitted-level-2: #ffe0b3;\n",
       "  --sklearn-color-unfitted-level-3: chocolate;\n",
       "  /* Definition of color scheme for fitted estimators */\n",
       "  --sklearn-color-fitted-level-0: #f0f8ff;\n",
       "  --sklearn-color-fitted-level-1: #d4ebff;\n",
       "  --sklearn-color-fitted-level-2: #b3dbfd;\n",
       "  --sklearn-color-fitted-level-3: cornflowerblue;\n",
       "\n",
       "  /* Specific color for light theme */\n",
       "  --sklearn-color-text-on-default-background: var(--sg-text-color, var(--theme-code-foreground, var(--jp-content-font-color1, black)));\n",
       "  --sklearn-color-background: var(--sg-background-color, var(--theme-background, var(--jp-layout-color0, white)));\n",
       "  --sklearn-color-border-box: var(--sg-text-color, var(--theme-code-foreground, var(--jp-content-font-color1, black)));\n",
       "  --sklearn-color-icon: #696969;\n",
       "\n",
       "  @media (prefers-color-scheme: dark) {\n",
       "    /* Redefinition of color scheme for dark theme */\n",
       "    --sklearn-color-text-on-default-background: var(--sg-text-color, var(--theme-code-foreground, var(--jp-content-font-color1, white)));\n",
       "    --sklearn-color-background: var(--sg-background-color, var(--theme-background, var(--jp-layout-color0, #111)));\n",
       "    --sklearn-color-border-box: var(--sg-text-color, var(--theme-code-foreground, var(--jp-content-font-color1, white)));\n",
       "    --sklearn-color-icon: #878787;\n",
       "  }\n",
       "}\n",
       "\n",
       "#sk-container-id-1 {\n",
       "  color: var(--sklearn-color-text);\n",
       "}\n",
       "\n",
       "#sk-container-id-1 pre {\n",
       "  padding: 0;\n",
       "}\n",
       "\n",
       "#sk-container-id-1 input.sk-hidden--visually {\n",
       "  border: 0;\n",
       "  clip: rect(1px 1px 1px 1px);\n",
       "  clip: rect(1px, 1px, 1px, 1px);\n",
       "  height: 1px;\n",
       "  margin: -1px;\n",
       "  overflow: hidden;\n",
       "  padding: 0;\n",
       "  position: absolute;\n",
       "  width: 1px;\n",
       "}\n",
       "\n",
       "#sk-container-id-1 div.sk-dashed-wrapped {\n",
       "  border: 1px dashed var(--sklearn-color-line);\n",
       "  margin: 0 0.4em 0.5em 0.4em;\n",
       "  box-sizing: border-box;\n",
       "  padding-bottom: 0.4em;\n",
       "  background-color: var(--sklearn-color-background);\n",
       "}\n",
       "\n",
       "#sk-container-id-1 div.sk-container {\n",
       "  /* jupyter's `normalize.less` sets `[hidden] { display: none; }`\n",
       "     but bootstrap.min.css set `[hidden] { display: none !important; }`\n",
       "     so we also need the `!important` here to be able to override the\n",
       "     default hidden behavior on the sphinx rendered scikit-learn.org.\n",
       "     See: https://github.com/scikit-learn/scikit-learn/issues/21755 */\n",
       "  display: inline-block !important;\n",
       "  position: relative;\n",
       "}\n",
       "\n",
       "#sk-container-id-1 div.sk-text-repr-fallback {\n",
       "  display: none;\n",
       "}\n",
       "\n",
       "div.sk-parallel-item,\n",
       "div.sk-serial,\n",
       "div.sk-item {\n",
       "  /* draw centered vertical line to link estimators */\n",
       "  background-image: linear-gradient(var(--sklearn-color-text-on-default-background), var(--sklearn-color-text-on-default-background));\n",
       "  background-size: 2px 100%;\n",
       "  background-repeat: no-repeat;\n",
       "  background-position: center center;\n",
       "}\n",
       "\n",
       "/* Parallel-specific style estimator block */\n",
       "\n",
       "#sk-container-id-1 div.sk-parallel-item::after {\n",
       "  content: \"\";\n",
       "  width: 100%;\n",
       "  border-bottom: 2px solid var(--sklearn-color-text-on-default-background);\n",
       "  flex-grow: 1;\n",
       "}\n",
       "\n",
       "#sk-container-id-1 div.sk-parallel {\n",
       "  display: flex;\n",
       "  align-items: stretch;\n",
       "  justify-content: center;\n",
       "  background-color: var(--sklearn-color-background);\n",
       "  position: relative;\n",
       "}\n",
       "\n",
       "#sk-container-id-1 div.sk-parallel-item {\n",
       "  display: flex;\n",
       "  flex-direction: column;\n",
       "}\n",
       "\n",
       "#sk-container-id-1 div.sk-parallel-item:first-child::after {\n",
       "  align-self: flex-end;\n",
       "  width: 50%;\n",
       "}\n",
       "\n",
       "#sk-container-id-1 div.sk-parallel-item:last-child::after {\n",
       "  align-self: flex-start;\n",
       "  width: 50%;\n",
       "}\n",
       "\n",
       "#sk-container-id-1 div.sk-parallel-item:only-child::after {\n",
       "  width: 0;\n",
       "}\n",
       "\n",
       "/* Serial-specific style estimator block */\n",
       "\n",
       "#sk-container-id-1 div.sk-serial {\n",
       "  display: flex;\n",
       "  flex-direction: column;\n",
       "  align-items: center;\n",
       "  background-color: var(--sklearn-color-background);\n",
       "  padding-right: 1em;\n",
       "  padding-left: 1em;\n",
       "}\n",
       "\n",
       "\n",
       "/* Toggleable style: style used for estimator/Pipeline/ColumnTransformer box that is\n",
       "clickable and can be expanded/collapsed.\n",
       "- Pipeline and ColumnTransformer use this feature and define the default style\n",
       "- Estimators will overwrite some part of the style using the `sk-estimator` class\n",
       "*/\n",
       "\n",
       "/* Pipeline and ColumnTransformer style (default) */\n",
       "\n",
       "#sk-container-id-1 div.sk-toggleable {\n",
       "  /* Default theme specific background. It is overwritten whether we have a\n",
       "  specific estimator or a Pipeline/ColumnTransformer */\n",
       "  background-color: var(--sklearn-color-background);\n",
       "}\n",
       "\n",
       "/* Toggleable label */\n",
       "#sk-container-id-1 label.sk-toggleable__label {\n",
       "  cursor: pointer;\n",
       "  display: block;\n",
       "  width: 100%;\n",
       "  margin-bottom: 0;\n",
       "  padding: 0.5em;\n",
       "  box-sizing: border-box;\n",
       "  text-align: center;\n",
       "}\n",
       "\n",
       "#sk-container-id-1 label.sk-toggleable__label-arrow:before {\n",
       "  /* Arrow on the left of the label */\n",
       "  content: \"▸\";\n",
       "  float: left;\n",
       "  margin-right: 0.25em;\n",
       "  color: var(--sklearn-color-icon);\n",
       "}\n",
       "\n",
       "#sk-container-id-1 label.sk-toggleable__label-arrow:hover:before {\n",
       "  color: var(--sklearn-color-text);\n",
       "}\n",
       "\n",
       "/* Toggleable content - dropdown */\n",
       "\n",
       "#sk-container-id-1 div.sk-toggleable__content {\n",
       "  max-height: 0;\n",
       "  max-width: 0;\n",
       "  overflow: hidden;\n",
       "  text-align: left;\n",
       "  /* unfitted */\n",
       "  background-color: var(--sklearn-color-unfitted-level-0);\n",
       "}\n",
       "\n",
       "#sk-container-id-1 div.sk-toggleable__content.fitted {\n",
       "  /* fitted */\n",
       "  background-color: var(--sklearn-color-fitted-level-0);\n",
       "}\n",
       "\n",
       "#sk-container-id-1 div.sk-toggleable__content pre {\n",
       "  margin: 0.2em;\n",
       "  border-radius: 0.25em;\n",
       "  color: var(--sklearn-color-text);\n",
       "  /* unfitted */\n",
       "  background-color: var(--sklearn-color-unfitted-level-0);\n",
       "}\n",
       "\n",
       "#sk-container-id-1 div.sk-toggleable__content.fitted pre {\n",
       "  /* unfitted */\n",
       "  background-color: var(--sklearn-color-fitted-level-0);\n",
       "}\n",
       "\n",
       "#sk-container-id-1 input.sk-toggleable__control:checked~div.sk-toggleable__content {\n",
       "  /* Expand drop-down */\n",
       "  max-height: 200px;\n",
       "  max-width: 100%;\n",
       "  overflow: auto;\n",
       "}\n",
       "\n",
       "#sk-container-id-1 input.sk-toggleable__control:checked~label.sk-toggleable__label-arrow:before {\n",
       "  content: \"▾\";\n",
       "}\n",
       "\n",
       "/* Pipeline/ColumnTransformer-specific style */\n",
       "\n",
       "#sk-container-id-1 div.sk-label input.sk-toggleable__control:checked~label.sk-toggleable__label {\n",
       "  color: var(--sklearn-color-text);\n",
       "  background-color: var(--sklearn-color-unfitted-level-2);\n",
       "}\n",
       "\n",
       "#sk-container-id-1 div.sk-label.fitted input.sk-toggleable__control:checked~label.sk-toggleable__label {\n",
       "  background-color: var(--sklearn-color-fitted-level-2);\n",
       "}\n",
       "\n",
       "/* Estimator-specific style */\n",
       "\n",
       "/* Colorize estimator box */\n",
       "#sk-container-id-1 div.sk-estimator input.sk-toggleable__control:checked~label.sk-toggleable__label {\n",
       "  /* unfitted */\n",
       "  background-color: var(--sklearn-color-unfitted-level-2);\n",
       "}\n",
       "\n",
       "#sk-container-id-1 div.sk-estimator.fitted input.sk-toggleable__control:checked~label.sk-toggleable__label {\n",
       "  /* fitted */\n",
       "  background-color: var(--sklearn-color-fitted-level-2);\n",
       "}\n",
       "\n",
       "#sk-container-id-1 div.sk-label label.sk-toggleable__label,\n",
       "#sk-container-id-1 div.sk-label label {\n",
       "  /* The background is the default theme color */\n",
       "  color: var(--sklearn-color-text-on-default-background);\n",
       "}\n",
       "\n",
       "/* On hover, darken the color of the background */\n",
       "#sk-container-id-1 div.sk-label:hover label.sk-toggleable__label {\n",
       "  color: var(--sklearn-color-text);\n",
       "  background-color: var(--sklearn-color-unfitted-level-2);\n",
       "}\n",
       "\n",
       "/* Label box, darken color on hover, fitted */\n",
       "#sk-container-id-1 div.sk-label.fitted:hover label.sk-toggleable__label.fitted {\n",
       "  color: var(--sklearn-color-text);\n",
       "  background-color: var(--sklearn-color-fitted-level-2);\n",
       "}\n",
       "\n",
       "/* Estimator label */\n",
       "\n",
       "#sk-container-id-1 div.sk-label label {\n",
       "  font-family: monospace;\n",
       "  font-weight: bold;\n",
       "  display: inline-block;\n",
       "  line-height: 1.2em;\n",
       "}\n",
       "\n",
       "#sk-container-id-1 div.sk-label-container {\n",
       "  text-align: center;\n",
       "}\n",
       "\n",
       "/* Estimator-specific */\n",
       "#sk-container-id-1 div.sk-estimator {\n",
       "  font-family: monospace;\n",
       "  border: 1px dotted var(--sklearn-color-border-box);\n",
       "  border-radius: 0.25em;\n",
       "  box-sizing: border-box;\n",
       "  margin-bottom: 0.5em;\n",
       "  /* unfitted */\n",
       "  background-color: var(--sklearn-color-unfitted-level-0);\n",
       "}\n",
       "\n",
       "#sk-container-id-1 div.sk-estimator.fitted {\n",
       "  /* fitted */\n",
       "  background-color: var(--sklearn-color-fitted-level-0);\n",
       "}\n",
       "\n",
       "/* on hover */\n",
       "#sk-container-id-1 div.sk-estimator:hover {\n",
       "  /* unfitted */\n",
       "  background-color: var(--sklearn-color-unfitted-level-2);\n",
       "}\n",
       "\n",
       "#sk-container-id-1 div.sk-estimator.fitted:hover {\n",
       "  /* fitted */\n",
       "  background-color: var(--sklearn-color-fitted-level-2);\n",
       "}\n",
       "\n",
       "/* Specification for estimator info (e.g. \"i\" and \"?\") */\n",
       "\n",
       "/* Common style for \"i\" and \"?\" */\n",
       "\n",
       ".sk-estimator-doc-link,\n",
       "a:link.sk-estimator-doc-link,\n",
       "a:visited.sk-estimator-doc-link {\n",
       "  float: right;\n",
       "  font-size: smaller;\n",
       "  line-height: 1em;\n",
       "  font-family: monospace;\n",
       "  background-color: var(--sklearn-color-background);\n",
       "  border-radius: 1em;\n",
       "  height: 1em;\n",
       "  width: 1em;\n",
       "  text-decoration: none !important;\n",
       "  margin-left: 1ex;\n",
       "  /* unfitted */\n",
       "  border: var(--sklearn-color-unfitted-level-1) 1pt solid;\n",
       "  color: var(--sklearn-color-unfitted-level-1);\n",
       "}\n",
       "\n",
       ".sk-estimator-doc-link.fitted,\n",
       "a:link.sk-estimator-doc-link.fitted,\n",
       "a:visited.sk-estimator-doc-link.fitted {\n",
       "  /* fitted */\n",
       "  border: var(--sklearn-color-fitted-level-1) 1pt solid;\n",
       "  color: var(--sklearn-color-fitted-level-1);\n",
       "}\n",
       "\n",
       "/* On hover */\n",
       "div.sk-estimator:hover .sk-estimator-doc-link:hover,\n",
       ".sk-estimator-doc-link:hover,\n",
       "div.sk-label-container:hover .sk-estimator-doc-link:hover,\n",
       ".sk-estimator-doc-link:hover {\n",
       "  /* unfitted */\n",
       "  background-color: var(--sklearn-color-unfitted-level-3);\n",
       "  color: var(--sklearn-color-background);\n",
       "  text-decoration: none;\n",
       "}\n",
       "\n",
       "div.sk-estimator.fitted:hover .sk-estimator-doc-link.fitted:hover,\n",
       ".sk-estimator-doc-link.fitted:hover,\n",
       "div.sk-label-container:hover .sk-estimator-doc-link.fitted:hover,\n",
       ".sk-estimator-doc-link.fitted:hover {\n",
       "  /* fitted */\n",
       "  background-color: var(--sklearn-color-fitted-level-3);\n",
       "  color: var(--sklearn-color-background);\n",
       "  text-decoration: none;\n",
       "}\n",
       "\n",
       "/* Span, style for the box shown on hovering the info icon */\n",
       ".sk-estimator-doc-link span {\n",
       "  display: none;\n",
       "  z-index: 9999;\n",
       "  position: relative;\n",
       "  font-weight: normal;\n",
       "  right: .2ex;\n",
       "  padding: .5ex;\n",
       "  margin: .5ex;\n",
       "  width: min-content;\n",
       "  min-width: 20ex;\n",
       "  max-width: 50ex;\n",
       "  color: var(--sklearn-color-text);\n",
       "  box-shadow: 2pt 2pt 4pt #999;\n",
       "  /* unfitted */\n",
       "  background: var(--sklearn-color-unfitted-level-0);\n",
       "  border: .5pt solid var(--sklearn-color-unfitted-level-3);\n",
       "}\n",
       "\n",
       ".sk-estimator-doc-link.fitted span {\n",
       "  /* fitted */\n",
       "  background: var(--sklearn-color-fitted-level-0);\n",
       "  border: var(--sklearn-color-fitted-level-3);\n",
       "}\n",
       "\n",
       ".sk-estimator-doc-link:hover span {\n",
       "  display: block;\n",
       "}\n",
       "\n",
       "/* \"?\"-specific style due to the `<a>` HTML tag */\n",
       "\n",
       "#sk-container-id-1 a.estimator_doc_link {\n",
       "  float: right;\n",
       "  font-size: 1rem;\n",
       "  line-height: 1em;\n",
       "  font-family: monospace;\n",
       "  background-color: var(--sklearn-color-background);\n",
       "  border-radius: 1rem;\n",
       "  height: 1rem;\n",
       "  width: 1rem;\n",
       "  text-decoration: none;\n",
       "  /* unfitted */\n",
       "  color: var(--sklearn-color-unfitted-level-1);\n",
       "  border: var(--sklearn-color-unfitted-level-1) 1pt solid;\n",
       "}\n",
       "\n",
       "#sk-container-id-1 a.estimator_doc_link.fitted {\n",
       "  /* fitted */\n",
       "  border: var(--sklearn-color-fitted-level-1) 1pt solid;\n",
       "  color: var(--sklearn-color-fitted-level-1);\n",
       "}\n",
       "\n",
       "/* On hover */\n",
       "#sk-container-id-1 a.estimator_doc_link:hover {\n",
       "  /* unfitted */\n",
       "  background-color: var(--sklearn-color-unfitted-level-3);\n",
       "  color: var(--sklearn-color-background);\n",
       "  text-decoration: none;\n",
       "}\n",
       "\n",
       "#sk-container-id-1 a.estimator_doc_link.fitted:hover {\n",
       "  /* fitted */\n",
       "  background-color: var(--sklearn-color-fitted-level-3);\n",
       "}\n",
       "</style><div id=\"sk-container-id-1\" class=\"sk-top-container\"><div class=\"sk-text-repr-fallback\"><pre>LogisticRegression(random_state=42)</pre><b>In a Jupyter environment, please rerun this cell to show the HTML representation or trust the notebook. <br />On GitHub, the HTML representation is unable to render, please try loading this page with nbviewer.org.</b></div><div class=\"sk-container\" hidden><div class=\"sk-item\"><div class=\"sk-estimator fitted sk-toggleable\"><input class=\"sk-toggleable__control sk-hidden--visually\" id=\"sk-estimator-id-1\" type=\"checkbox\" checked><label for=\"sk-estimator-id-1\" class=\"sk-toggleable__label fitted sk-toggleable__label-arrow fitted\">&nbsp;&nbsp;LogisticRegression<a class=\"sk-estimator-doc-link fitted\" rel=\"noreferrer\" target=\"_blank\" href=\"https://scikit-learn.org/1.5/modules/generated/sklearn.linear_model.LogisticRegression.html\">?<span>Documentation for LogisticRegression</span></a><span class=\"sk-estimator-doc-link fitted\">i<span>Fitted</span></span></label><div class=\"sk-toggleable__content fitted\"><pre>LogisticRegression(random_state=42)</pre></div> </div></div></div></div>"
      ],
      "text/plain": [
       "LogisticRegression(random_state=42)"
      ]
     },
     "execution_count": 46,
     "metadata": {},
     "output_type": "execute_result"
    }
   ],
   "source": [
    "# Train a Logistic Regression model\n",
    "from sklearn.linear_model import LogisticRegression\n",
    "\n",
    "lr_model = LogisticRegression(random_state=42)\n",
    "lr_model.fit(X_train, y_train)"
   ]
  },
  {
   "cell_type": "code",
   "execution_count": 47,
   "id": "10d1fbbd",
   "metadata": {
    "execution": {
     "iopub.execute_input": "2024-09-23T22:21:12.467117Z",
     "iopub.status.busy": "2024-09-23T22:21:12.466576Z",
     "iopub.status.idle": "2024-09-23T22:21:12.474554Z",
     "shell.execute_reply": "2024-09-23T22:21:12.473327Z"
    },
    "papermill": {
     "duration": 0.033754,
     "end_time": "2024-09-23T22:21:12.478031",
     "exception": false,
     "start_time": "2024-09-23T22:21:12.444277",
     "status": "completed"
    },
    "tags": []
   },
   "outputs": [],
   "source": [
    "from sklearn.metrics import accuracy_score, classification_report, confusion_matrix, roc_curve, auc\n"
   ]
  },
  {
   "cell_type": "code",
   "execution_count": 48,
   "id": "5059b24d",
   "metadata": {
    "execution": {
     "iopub.execute_input": "2024-09-23T22:21:12.519979Z",
     "iopub.status.busy": "2024-09-23T22:21:12.519434Z",
     "iopub.status.idle": "2024-09-23T22:21:12.954911Z",
     "shell.execute_reply": "2024-09-23T22:21:12.953728Z"
    },
    "papermill": {
     "duration": 0.459502,
     "end_time": "2024-09-23T22:21:12.957343",
     "exception": false,
     "start_time": "2024-09-23T22:21:12.497841",
     "status": "completed"
    },
    "tags": []
   },
   "outputs": [
    {
     "name": "stdout",
     "output_type": "stream",
     "text": [
      "Logistic Regression Report:\n",
      "              precision    recall  f1-score   support\n",
      "\n",
      "       False       0.88      0.72      0.79     88580\n",
      "        True       0.76      0.90      0.83     88443\n",
      "\n",
      "    accuracy                           0.81    177023\n",
      "   macro avg       0.82      0.81      0.81    177023\n",
      "weighted avg       0.82      0.81      0.81    177023\n",
      "\n",
      "Confusion Matrix:\n",
      "[[63375 25205]\n",
      " [ 8496 79947]]\n"
     ]
    }
   ],
   "source": [
    "# Predict and evaluate the Logistic Regression model\n",
    "y_pred_lr = lr_model.predict(X_test)\n",
    "print(\"Logistic Regression Report:\")\n",
    "print(classification_report(y_test, y_pred_lr))\n",
    "print(\"Confusion Matrix:\")\n",
    "print(confusion_matrix(y_test, y_pred_lr))"
   ]
  },
  {
   "cell_type": "code",
   "execution_count": 49,
   "id": "669d932a",
   "metadata": {
    "execution": {
     "iopub.execute_input": "2024-09-23T22:21:12.982968Z",
     "iopub.status.busy": "2024-09-23T22:21:12.982578Z",
     "iopub.status.idle": "2024-09-23T22:21:13.007081Z",
     "shell.execute_reply": "2024-09-23T22:21:13.005910Z"
    },
    "papermill": {
     "duration": 0.040282,
     "end_time": "2024-09-23T22:21:13.009661",
     "exception": false,
     "start_time": "2024-09-23T22:21:12.969379",
     "status": "completed"
    },
    "tags": []
   },
   "outputs": [
    {
     "data": {
      "text/plain": [
       "0.8096236082316987"
      ]
     },
     "execution_count": 49,
     "metadata": {},
     "output_type": "execute_result"
    }
   ],
   "source": [
    "lr_accuracy = accuracy_score(y_test, y_pred_lr)\n",
    "lr_accuracy"
   ]
  },
  {
   "cell_type": "code",
   "execution_count": 50,
   "id": "1f3ea4c9",
   "metadata": {
    "execution": {
     "iopub.execute_input": "2024-09-23T22:21:13.036603Z",
     "iopub.status.busy": "2024-09-23T22:21:13.035580Z",
     "iopub.status.idle": "2024-09-23T22:23:52.841418Z",
     "shell.execute_reply": "2024-09-23T22:23:52.840317Z"
    },
    "papermill": {
     "duration": 159.834421,
     "end_time": "2024-09-23T22:23:52.856396",
     "exception": false,
     "start_time": "2024-09-23T22:21:13.021975",
     "status": "completed"
    },
    "tags": []
   },
   "outputs": [],
   "source": [
    "# Train a Random Forest Classifier\n",
    "from sklearn.ensemble import RandomForestClassifier\n",
    "\n",
    "rf_model = RandomForestClassifier(random_state=42)\n",
    "rf_model.fit(X_train, y_train)\n"
   ]
  },
  {
   "cell_type": "code",
   "execution_count": 29,
   "id": "d9aba80d",
   "metadata": {
    "execution": {
     "iopub.execute_input": "2024-09-23T22:23:52.883463Z",
     "iopub.status.busy": "2024-09-23T22:23:52.882685Z",
     "iopub.status.idle": "2024-09-23T22:23:57.443299Z",
     "shell.execute_reply": "2024-09-23T22:23:57.442042Z"
    },
    "papermill": {
     "duration": 4.576916,
     "end_time": "2024-09-23T22:23:57.445856",
     "exception": false,
     "start_time": "2024-09-23T22:23:52.868940",
     "status": "completed"
    },
    "tags": []
   },
   "outputs": [
    {
     "name": "stdout",
     "output_type": "stream",
     "text": [
      "Random Forest Classifier Report:\n",
      "              precision    recall  f1-score   support\n",
      "\n",
      "       False       0.95      0.95      0.95     88580\n",
      "        True       0.95      0.95      0.95     88443\n",
      "\n",
      "    accuracy                           0.95    177023\n",
      "   macro avg       0.95      0.95      0.95    177023\n",
      "weighted avg       0.95      0.95      0.95    177023\n",
      "\n",
      "Confusion Matrix:\n",
      "[[83987  4593]\n",
      " [ 4547 83896]]\n"
     ]
    }
   ],
   "source": [
    "# Predict and evaluate the Random Forest model\n",
    "\n",
    "y_pred_rf = rf_model.predict(X_test)\n",
    "print(\"Random Forest Classifier Report:\")\n",
    "print(classification_report(y_test, y_pred_rf))\n",
    "print(\"Confusion Matrix:\")\n",
    "print(confusion_matrix(y_test, y_pred_rf))\n"
   ]
  },
  {
   "cell_type": "code",
   "execution_count": 30,
   "id": "e16a0ea2",
   "metadata": {
    "execution": {
     "iopub.execute_input": "2024-09-23T22:23:57.473764Z",
     "iopub.status.busy": "2024-09-23T22:23:57.472961Z",
     "iopub.status.idle": "2024-09-23T22:23:57.497269Z",
     "shell.execute_reply": "2024-09-23T22:23:57.496029Z"
    },
    "papermill": {
     "duration": 0.040647,
     "end_time": "2024-09-23T22:23:57.499490",
     "exception": false,
     "start_time": "2024-09-23T22:23:57.458843",
     "status": "completed"
    },
    "tags": []
   },
   "outputs": [
    {
     "data": {
      "text/plain": [
       "0.9483682911260118"
      ]
     },
     "execution_count": 30,
     "metadata": {},
     "output_type": "execute_result"
    }
   ],
   "source": [
    "rf_accuracy = accuracy_score(y_test, y_pred_rf)\n",
    "rf_accuracy"
   ]
  },
  {
   "cell_type": "code",
   "execution_count": 31,
   "id": "659efd56",
   "metadata": {
    "execution": {
     "iopub.execute_input": "2024-09-23T22:23:57.527514Z",
     "iopub.status.busy": "2024-09-23T22:23:57.526444Z",
     "iopub.status.idle": "2024-09-23T22:24:01.936451Z",
     "shell.execute_reply": "2024-09-23T22:24:01.935384Z"
    },
    "papermill": {
     "duration": 4.426441,
     "end_time": "2024-09-23T22:24:01.938592",
     "exception": false,
     "start_time": "2024-09-23T22:23:57.512151",
     "status": "completed"
    },
    "tags": []
   },
   "outputs": [
    {
     "data": {
      "image/png": "[encoded data removed]",
      "text/plain": [
       "<Figure size 640x480 with 1 Axes>"
      ]
     },
     "metadata": {},
     "output_type": "display_data"
    }
   ],
   "source": [
    "# Plot ROC curve for Random Forest\n",
    "fpr_rf, tpr_rf, _ = roc_curve(y_test, rf_model.predict_proba(X_test)[:, 1])\n",
    "roc_auc_rf = auc(fpr_rf, tpr_rf)\n",
    "plt.figure()\n",
    "plt.plot(fpr_rf, tpr_rf, color='blue', lw=2, label='Random Forest ROC curve (area = %0.2f)' % roc_auc_rf)\n",
    "plt.plot([0, 1], [0, 1], color='gray', linestyle='--')\n",
    "plt.xlim([0.0, 1.0])\n",
    "plt.ylim([0.0, 1.05])\n",
    "plt.xlabel('False Positive Rate')\n",
    "plt.ylabel('True Positive Rate')\n",
    "plt.title('Receiver Operating Characteristic (ROC)')\n",
    "plt.legend(loc=\"lower right\")\n",
    "plt.show()"
   ]
  }
 ],
 "metadata": {
  "kaggle": {
   "accelerator": "none",
   "dataSources": [
    {
     "datasetId": 5410371,
     "sourceId": 8984243,
     "sourceType": "datasetVersion"
    }
   ],
   "dockerImageVersionId": 30761,
   "isGpuEnabled": false,
   "isInternetEnabled": true,
   "language": "python",
   "sourceType": "notebook"
  },
  "kernelspec": {
   "display_name": "Python 3",
   "language": "python",
   "name": "python3"
  },
  "language_info": {
   "codemirror_mode": {
    "name": "ipython",
    "version": 3
   },
   "file_extension": ".py",
   "mimetype": "text/x-python",
   "name": "python",
   "nbconvert_exporter": "python",
   "pygments_lexer": "ipython3",
   "version": "3.12.3"
  },
  "papermill": {
   "default_parameters": {},
   "duration": 191.097626,
   "end_time": "2024-09-23T22:24:02.700734",
   "environment_variables": {},
   "exception": null,
   "input_path": "__notebook__.ipynb",
   "output_path": "__notebook__.ipynb",
   "parameters": {},
   "start_time": "2024-09-23T22:20:51.603108",
   "version": "2.6.0"
  },
  "varInspector": {
   "cols": {
    "lenName": 16,
    "lenType": 16,
    "lenVar": 40
   },
   "kernels_config": {
    "python": {
     "delete_cmd_postfix": "",
     "delete_cmd_prefix": "del ",
     "library": "var_list.py",
     "varRefreshCmd": "print(var_dic_list())"
    },
    "r": {
     "delete_cmd_postfix": ") ",
     "delete_cmd_prefix": "rm(",
     "library": "var_list.r",
     "varRefreshCmd": "cat(var_dic_list()) "
    }
   },
   "types_to_exclude": [
    "module",
    "function",
    "builtin_function_or_method",
    "instance",
    "_Feature"
   ],
   "window_display": false
  }
 },
 "nbformat": 4,
 "nbformat_minor": 5
}
