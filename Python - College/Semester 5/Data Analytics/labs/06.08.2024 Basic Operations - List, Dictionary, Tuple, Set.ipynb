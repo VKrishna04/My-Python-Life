{
 "cells": [
  {
   "cell_type": "markdown",
   "id": "17b09385",
   "metadata": {},
   "source": [
    "Name: Krishna GSVV  \n",
    "Roll no. AV.EN.U4CSE22016  \n",
    "Date: 6/8/24  "
   ]
  },
  {
   "cell_type": "markdown",
   "id": "47a62797",
   "metadata": {},
   "source": [
    "# LIST"
   ]
  },
  {
   "cell_type": "code",
   "execution_count": 1,
   "id": "850b6986",
   "metadata": {},
   "outputs": [
    {
     "name": "stdout",
     "output_type": "stream",
     "text": [
      "['apple', 'cherry', 'orange']\n"
     ]
    }
   ],
   "source": [
    "fruits = [\"apple\", \"banana\", \"cherry\"]\n",
    "fruits.append(\"orange\")  # Add item\n",
    "fruits.remove(\"banana\")  # Remove item\n",
    "print(fruits)  # Output: ['apple', 'cherry', 'orange']\n"
   ]
  },
  {
   "cell_type": "code",
   "execution_count": 2,
   "id": "8512b2db",
   "metadata": {},
   "outputs": [
    {
     "name": "stdout",
     "output_type": "stream",
     "text": [
      "[0, 1, 4, 9, 16]\n"
     ]
    }
   ],
   "source": [
    "squares = [x**2 for x in range(5)]\n",
    "print(squares)  # Output: [0, 1, 4, 9, 16]\n"
   ]
  },
  {
   "cell_type": "code",
   "execution_count": 3,
   "id": "f4de7840",
   "metadata": {},
   "outputs": [
    {
     "name": "stdout",
     "output_type": "stream",
     "text": [
      "[1, 2, 3]\n",
      "[4, 5, 6]\n",
      "[7, 8, 9]\n"
     ]
    }
   ],
   "source": [
    "matrix = [[1, 2, 3], [4, 5, 6], [7, 8, 9]]\n",
    "for row in matrix:\n",
    "    print(row)  # Output: [1, 2, 3], [4, 5, 6], [7, 8, 9]\n"
   ]
  },
  {
   "cell_type": "code",
   "execution_count": 4,
   "id": "fd015af6",
   "metadata": {},
   "outputs": [
    {
     "name": "stdout",
     "output_type": "stream",
     "text": [
      "['dog', 'rabbit']\n"
     ]
    }
   ],
   "source": [
    "animals = ['cat', 'dog', 'rabbit', 'horse']\n",
    "subset = animals[1:3]\n",
    "print(subset)  # Output: ['dog', 'rabbit']\n"
   ]
  },
  {
   "cell_type": "markdown",
   "id": "9169bab9",
   "metadata": {},
   "source": [
    "# Dictionaries"
   ]
  },
  {
   "cell_type": "code",
   "execution_count": 5,
   "id": "328f5edb",
   "metadata": {},
   "outputs": [
    {
     "name": "stdout",
     "output_type": "stream",
     "text": [
      "{'name': 'Alice', 'age': 26, 'grade': 'A'}\n"
     ]
    }
   ],
   "source": [
    "student = {\"name\": \"Alice\", \"age\": 25, \"grade\": \"A\"}\n",
    "student[\"age\"] = 26  # Update value\n",
    "print(student)  # Output: {'name': 'Alice', 'age': 26, 'grade': 'A'}\n"
   ]
  },
  {
   "cell_type": "code",
   "execution_count": 6,
   "id": "bca12689",
   "metadata": {},
   "outputs": [
    {
     "name": "stdout",
     "output_type": "stream",
     "text": [
      "name: Alice\n",
      "age: 26\n",
      "grade: A\n"
     ]
    }
   ],
   "source": [
    "for key, value in student.items():\n",
    "    print(f\"{key}: {value}\")\n",
    "# Output:\n",
    "# name: Alice\n",
    "# age: 26\n",
    "# grade: A\n"
   ]
  },
  {
   "cell_type": "code",
   "execution_count": 7,
   "id": "4a7cd9ff",
   "metadata": {},
   "outputs": [
    {
     "name": "stdout",
     "output_type": "stream",
     "text": [
      "{0: 0, 1: 1, 2: 4, 3: 9, 4: 16}\n"
     ]
    }
   ],
   "source": [
    "squares_dict = {x: x**2 for x in range(5)}\n",
    "print(squares_dict)  # Output: {0: 0, 1: 1, 2: 4, 3: 9, 4: 16}\n"
   ]
  },
  {
   "cell_type": "code",
   "execution_count": 8,
   "id": "1dcd7004",
   "metadata": {},
   "outputs": [
    {
     "name": "stdout",
     "output_type": "stream",
     "text": [
      "John\n"
     ]
    }
   ],
   "source": [
    "classroom = {\n",
    "    \"student1\": {\"name\": \"John\", \"age\": 22},\n",
    "    \"student2\": {\"name\": \"Jane\", \"age\": 21}\n",
    "}\n",
    "print(classroom[\"student1\"][\"name\"])  # Output: John\n"
   ]
  },
  {
   "cell_type": "markdown",
   "id": "7fda2f15",
   "metadata": {},
   "source": [
    "#  Tuples"
   ]
  },
  {
   "cell_type": "code",
   "execution_count": 9,
   "id": "3174571a",
   "metadata": {},
   "outputs": [
    {
     "name": "stdout",
     "output_type": "stream",
     "text": [
      "3\n"
     ]
    }
   ],
   "source": [
    "my_tuple = (1, 2, 3, 4)\n",
    "print(my_tuple[2])  # Output: 3\n"
   ]
  },
  {
   "cell_type": "code",
   "execution_count": 10,
   "id": "e371f445",
   "metadata": {},
   "outputs": [
    {
     "name": "stdout",
     "output_type": "stream",
     "text": [
      "10 20\n"
     ]
    }
   ],
   "source": [
    "point = (10, 20)\n",
    "x, y = point\n",
    "print(x, y)  # Output: 10 20\n"
   ]
  },
  {
   "cell_type": "code",
   "execution_count": 11,
   "id": "3a63d8b0",
   "metadata": {},
   "outputs": [
    {
     "name": "stdout",
     "output_type": "stream",
     "text": [
      "('Alice', 25, True)\n"
     ]
    }
   ],
   "source": [
    "person = (\"Alice\", 25, True)\n",
    "print(person)  # Output: ('Alice', 25, True)\n"
   ]
  },
  {
   "cell_type": "code",
   "execution_count": 12,
   "id": "092a462f",
   "metadata": {},
   "outputs": [
    {
     "name": "stdout",
     "output_type": "stream",
     "text": [
      "(1, 2)\n",
      "(3, 4)\n",
      "(5, 6)\n"
     ]
    }
   ],
   "source": [
    "nested_tuple = ((1, 2), (3, 4), (5, 6))\n",
    "for pair in nested_tuple:\n",
    "    print(pair)\n",
    "# Output:\n",
    "# (1, 2)\n",
    "# (3, 4)\n",
    "# (5, 6)\n"
   ]
  },
  {
   "cell_type": "markdown",
   "id": "1398f45c",
   "metadata": {},
   "source": [
    "#  Sets"
   ]
  },
  {
   "cell_type": "code",
   "execution_count": 13,
   "id": "7261db3d",
   "metadata": {},
   "outputs": [
    {
     "name": "stdout",
     "output_type": "stream",
     "text": [
      "{'cherry', 'orange', 'apple'}\n"
     ]
    }
   ],
   "source": [
    "fruits = {\"apple\", \"banana\", \"cherry\"}\n",
    "fruits.add(\"orange\")\n",
    "fruits.discard(\"banana\")\n",
    "print(fruits)  # Output: {'apple', 'cherry', 'orange'}\n"
   ]
  },
  {
   "cell_type": "code",
   "execution_count": 14,
   "id": "e7f0d2ac",
   "metadata": {},
   "outputs": [
    {
     "name": "stdout",
     "output_type": "stream",
     "text": [
      "{1, 2, 3, 4, 5, 6}\n",
      "{3, 4}\n"
     ]
    }
   ],
   "source": [
    "A = {1, 2, 3, 4}\n",
    "B = {3, 4, 5, 6}\n",
    "print(A | B)  # Union: {1, 2, 3, 4, 5, 6}\n",
    "print(A & B)  # Intersection: {3, 4}\n"
   ]
  },
  {
   "cell_type": "code",
   "execution_count": 15,
   "id": "3bfcd21e",
   "metadata": {},
   "outputs": [
    {
     "name": "stdout",
     "output_type": "stream",
     "text": [
      "{1, 2}\n",
      "{1, 2, 5, 6}\n"
     ]
    }
   ],
   "source": [
    "print(A - B)  # Difference: {1, 2}\n",
    "print(A ^ B)  # Symmetric Difference: {1, 2, 5, 6}\n"
   ]
  },
  {
   "cell_type": "code",
   "execution_count": 17,
   "id": "ebe2bf40",
   "metadata": {},
   "outputs": [
    {
     "name": "stdout",
     "output_type": "stream",
     "text": [
      "{0, 64, 4, 36, 16}\n"
     ]
    }
   ],
   "source": [
    "even_squares = {x**2 for x in range(10) if x % 2 == 0}\n",
    "print(even_squares)  # Output: {0, 4, 16, 36, 64}\n"
   ]
  },
  {
   "cell_type": "code",
   "execution_count": null,
   "id": "93705fce",
   "metadata": {},
   "outputs": [],
   "source": []
  }
 ],
 "metadata": {
  "kernelspec": {
   "display_name": "Python 3 (ipykernel)",
   "language": "python",
   "name": "python3"
  },
  "language_info": {
   "codemirror_mode": {
    "name": "ipython",
    "version": 3
   },
   "file_extension": ".py",
   "mimetype": "text/x-python",
   "name": "python",
   "nbconvert_exporter": "python",
   "pygments_lexer": "ipython3",
   "version": "3.11.5"
  }
 },
 "nbformat": 4,
 "nbformat_minor": 5
}
