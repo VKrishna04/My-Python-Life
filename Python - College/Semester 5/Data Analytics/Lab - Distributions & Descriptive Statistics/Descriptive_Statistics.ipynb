{
  "cells": [
    {
      "cell_type": "code",
      "execution_count": 1,
      "metadata": {
        "id": "YJM5KTq0tFOt"
      },
      "outputs": [],
      "source": [
        "import pandas as pd\n",
        "import numpy as np\n",
        "import matplotlib.pyplot as plt\n",
        "import seaborn as sns\n",
        "import random"
      ]
    },
    {
      "cell_type": "code",
      "execution_count": null,
      "metadata": {
        "colab": {
          "base_uri": "https://localhost:8080/",
          "height": 417
        },
        "id": "YKbXQ75DtM0D",
        "outputId": "37257344-9def-442b-b237-61da75f78a7e"
      },
      "outputs": [],
      "source": [
        "d1 = pd.read_csv(r'../Datasets/uk-500.csv')\n",
        "d1.head()"
      ]
    },
    {
      "cell_type": "markdown",
      "metadata": {
        "id": "QZm6uIslvYk3"
      },
      "source": [
        "**Population and Samples**\n",
        "\n",
        " Sampling Techniques\n",
        "\n",
        "Simple Random Sampling\n",
        "\n",
        "***df.sample(n=None, frac=None, replace=False, weights=None, random_state=None, axis=None)***\n",
        "\n",
        "n: The number of random rows to return (default is 1).\n",
        "\n",
        "frac: A fraction of rows to return. For example, frac=0.1 would return 10% of the DataFrame's rows.\n",
        "\n",
        "replace: Allows sampling with or without replacement. If replace=True, a row can be selected multiple times.\n",
        "\n",
        "weights: The relative weights of each row for sampling. If None, all rows have equal weight.\n",
        "\n",
        "random_state: A seed for the random number generator. Useful for reproducibility of results.\n",
        "\n",
        "axis: Axis to sample along. 0 or index to sample rows, and 1 or columns to sample columns.\n"
      ]
    },
    {
      "cell_type": "code",
      "execution_count": null,
      "metadata": {
        "colab": {
          "base_uri": "https://localhost:8080/",
          "height": 285
        },
        "id": "tdXxkiMvvWkA",
        "outputId": "43f9611a-8dd2-4501-f5d5-9c75f3879a04"
      },
      "outputs": [],
      "source": [
        "d1.sample(n=3)"
      ]
    },
    {
      "cell_type": "code",
      "execution_count": null,
      "metadata": {
        "colab": {
          "base_uri": "https://localhost:8080/",
          "height": 1000
        },
        "id": "Umnm20dqwS3t",
        "outputId": "a6e286d5-4830-4873-ba71-ca356f44b2cf"
      },
      "outputs": [],
      "source": [
        "d1.sample(frac=0.1)"
      ]
    },
    {
      "cell_type": "code",
      "execution_count": null,
      "metadata": {
        "colab": {
          "base_uri": "https://localhost:8080/",
          "height": 250
        },
        "id": "4dafNXTkwYZ1",
        "outputId": "0dc0c46b-4c6f-4fc4-83fa-ecdaaf894128"
      },
      "outputs": [],
      "source": [
        "d1.sample(n=3, replace=True)"
      ]
    },
    {
      "cell_type": "markdown",
      "metadata": {
        "id": "ZulayjWowmRR"
      },
      "source": [
        "If you the above cell repeatedly you will get different results everytime."
      ]
    },
    {
      "cell_type": "code",
      "execution_count": null,
      "metadata": {
        "colab": {
          "base_uri": "https://localhost:8080/",
          "height": 285
        },
        "id": "wEhbU_Mowtg2",
        "outputId": "e5dbf21b-14e4-4f03-dffb-32a683c331e8"
      },
      "outputs": [],
      "source": [
        "d1.sample(n=3, random_state=1)"
      ]
    },
    {
      "cell_type": "markdown",
      "metadata": {
        "id": "rUHnurLbxVNE"
      },
      "source": [
        "If you execute the above cell repeatedly, you will get the same results repeatedly.\n",
        "not only 1 , you can fix any seed value like 2,3 e.t.c.,\n",
        "but popular value is 42\n"
      ]
    },
    {
      "cell_type": "code",
      "execution_count": null,
      "metadata": {
        "colab": {
          "base_uri": "https://localhost:8080/",
          "height": 1000
        },
        "id": "TFKjQ7zlxeM9",
        "outputId": "4676327f-dd98-4391-8caa-968d4b2fea14"
      },
      "outputs": [],
      "source": [
        "d1.sample(frac=0.10, replace=True, random_state=5)"
      ]
    },
    {
      "cell_type": "code",
      "execution_count": null,
      "metadata": {
        "colab": {
          "base_uri": "https://localhost:8080/",
          "height": 399
        },
        "id": "Dy9ti6kOx62L",
        "outputId": "858f0ead-3f31-4e9d-ea41-3c6a12ecfca5"
      },
      "outputs": [],
      "source": [
        "d1.sample(n=5, replace=True, random_state=42)"
      ]
    },
    {
      "cell_type": "markdown",
      "metadata": {
        "id": "VnprFctAydcf"
      },
      "source": [
        "Stratified Sampling"
      ]
    },
    {
      "cell_type": "code",
      "execution_count": null,
      "metadata": {
        "colab": {
          "base_uri": "https://localhost:8080/",
          "height": 347
        },
        "id": "wjfB9Yb1yg1M",
        "outputId": "a2da4003-ea7f-4ea0-aaac-beedc509414e"
      },
      "outputs": [],
      "source": [
        "d2 = pd.read_csv(r'../Datasets/StudentsPerformance.csv')\n",
        "d2.head()"
      ]
    },
    {
      "cell_type": "code",
      "execution_count": null,
      "metadata": {
        "colab": {
          "base_uri": "https://localhost:8080/",
          "height": 467
        },
        "id": "LzUNsnOhzL0Y",
        "outputId": "c14c89ac-7515-431c-fd0f-44e5bd1376ea"
      },
      "outputs": [],
      "source": [
        "sns.histplot(d2['race/ethnicity'])"
      ]
    },
    {
      "cell_type": "code",
      "execution_count": null,
      "metadata": {
        "colab": {
          "base_uri": "https://localhost:8080/",
          "height": 834
        },
        "id": "IAE0ol7wzVNv",
        "outputId": "a5569ec8-af32-4c03-a468-9897f88116ce"
      },
      "outputs": [],
      "source": [
        "d2.groupby('race/ethnicity', group_keys=False).apply(lambda x:x.sample(min(len(x),3)))"
      ]
    },
    {
      "cell_type": "markdown",
      "metadata": {
        "id": "BAnfX-tI0lOA"
      },
      "source": [
        "For each unique \"race/ethnicity\" group, it randomly samples up to 3 rows.\n",
        "If a group has fewer than 3 rows, it returns all rows from that group.\n",
        "The result is a new DataFrame consisting of a random sample of up to 3 rows from each \"race/ethnicity\" group."
      ]
    },
    {
      "cell_type": "code",
      "execution_count": null,
      "metadata": {
        "colab": {
          "base_uri": "https://localhost:8080/",
          "height": 396
        },
        "id": "T1tBvBoS0EzS",
        "outputId": "612e6283-7f78-4325-fcaa-efcd2a917000"
      },
      "outputs": [],
      "source": [
        "d2.groupby('gender', group_keys=False).apply(lambda x:x.sample(min(len(x),3)))"
      ]
    },
    {
      "cell_type": "markdown",
      "metadata": {
        "id": "5y7RIMAG0waZ"
      },
      "source": [
        "Systematic sampling"
      ]
    },
    {
      "cell_type": "code",
      "execution_count": null,
      "metadata": {
        "colab": {
          "base_uri": "https://localhost:8080/",
          "height": 652
        },
        "id": "hw2cxyZD0yMs",
        "outputId": "4729c77a-5974-4378-98cf-ba9e71d510cd"
      },
      "outputs": [],
      "source": [
        "step_size = 6\n",
        "d2.iloc[::step_size]"
      ]
    },
    {
      "cell_type": "markdown",
      "metadata": {
        "id": "dstAWRhu2tJn"
      },
      "source": [
        "Frequency Distribution\n",
        "Range"
      ]
    },
    {
      "cell_type": "code",
      "execution_count": null,
      "metadata": {
        "colab": {
          "base_uri": "https://localhost:8080/"
        },
        "id": "eZAZ8oxs25D2",
        "outputId": "4c3952e7-d3de-4f96-8ba4-61a667445d68"
      },
      "outputs": [],
      "source": [
        "reading_range = np.amax(d2['reading score'])-np.amin(d2['reading score'])\n",
        "reading_range"
      ]
    },
    {
      "cell_type": "markdown",
      "metadata": {
        "id": "2mY3WNZf3Cfc"
      },
      "source": [
        "Number of classes"
      ]
    },
    {
      "cell_type": "code",
      "execution_count": 15,
      "metadata": {
        "id": "7N7v0NSL3EYj"
      },
      "outputs": [],
      "source": [
        "num_of_classes=6"
      ]
    },
    {
      "cell_type": "markdown",
      "metadata": {
        "id": "mUiHj5qz3NKA"
      },
      "source": [
        "\n",
        "Class Interval"
      ]
    },
    {
      "cell_type": "code",
      "execution_count": null,
      "metadata": {
        "colab": {
          "base_uri": "https://localhost:8080/"
        },
        "id": "p2WE-vBQ3MUW",
        "outputId": "76414d8a-d03e-4853-860c-6ed066940565"
      },
      "outputs": [],
      "source": [
        "class_interval = reading_range/num_of_classes\n",
        "class_interval"
      ]
    },
    {
      "cell_type": "markdown",
      "metadata": {
        "id": "iWFGmGEz3enK"
      },
      "source": [
        "Class Midpoint\n",
        "\n",
        "Relative Frequency"
      ]
    },
    {
      "cell_type": "code",
      "execution_count": null,
      "metadata": {
        "colab": {
          "base_uri": "https://localhost:8080/",
          "height": 489
        },
        "id": "TWGjp4aN3dJ7",
        "outputId": "2bca5bb2-5937-4dac-868a-85764c5e9af2"
      },
      "outputs": [],
      "source": [
        "d2['reading score'].value_counts()"
      ]
    },
    {
      "cell_type": "markdown",
      "metadata": {
        "id": "KLOR5lm44EDN"
      },
      "source": [
        "Cumulative Frequency"
      ]
    },
    {
      "cell_type": "code",
      "execution_count": null,
      "metadata": {
        "colab": {
          "base_uri": "https://localhost:8080/",
          "height": 489
        },
        "id": "AJL5cxYj30BO",
        "outputId": "1b0a490a-fa2c-4b82-e069-e812d0199c51"
      },
      "outputs": [],
      "source": [
        "d2['reading score'].value_counts().cumsum()"
      ]
    },
    {
      "cell_type": "markdown",
      "metadata": {
        "id": "kJmG_r454eHb"
      },
      "source": [
        "Measures of central tendency\n",
        "\n",
        "Mean"
      ]
    },
    {
      "cell_type": "code",
      "execution_count": null,
      "metadata": {
        "colab": {
          "base_uri": "https://localhost:8080/"
        },
        "id": "VRdPSBu64acB",
        "outputId": "b482a2a8-a8fc-4aba-e09f-8e64712ecc64"
      },
      "outputs": [],
      "source": [
        "d2['math score'].mean()"
      ]
    },
    {
      "cell_type": "markdown",
      "metadata": {
        "id": "MPwftG_d5my7"
      },
      "source": [
        "axis=0 (default): Compute the mean column-wise. Each column's values are averaged.\n",
        "\n",
        "skipna=True (default): Exclude NaN (missing) values when calculating the mean. If set to False, any NaN values will result in the mean being NaN for that column.\n",
        "\n",
        "numeric_only=None (default): If set to True, it only calculates the mean for numeric columns. If set to None (the default), it will try to infer whether to ignore non-numeric columns."
      ]
    },
    {
      "cell_type": "code",
      "execution_count": null,
      "metadata": {
        "colab": {
          "base_uri": "https://localhost:8080/",
          "height": 458
        },
        "id": "nm3kSIpX40Vw",
        "outputId": "ed59a110-6a47-4707-b055-3f0455112b76"
      },
      "outputs": [],
      "source": [
        "d2.mean(axis=0, skipna=True, numeric_only=True)"
      ]
    },
    {
      "cell_type": "markdown",
      "metadata": {
        "id": "0UXGuLNb5tJL"
      },
      "source": [
        "Median"
      ]
    },
    {
      "cell_type": "code",
      "execution_count": null,
      "metadata": {
        "colab": {
          "base_uri": "https://localhost:8080/"
        },
        "id": "T7NGZ3oK5u3G",
        "outputId": "c3895dec-2205-4cd4-d838-e1f5f5c161bd"
      },
      "outputs": [],
      "source": [
        "d2['reading score'].median()"
      ]
    },
    {
      "cell_type": "markdown",
      "metadata": {
        "id": "4Vv2-PxN54em"
      },
      "source": [
        "MOde"
      ]
    },
    {
      "cell_type": "code",
      "execution_count": null,
      "metadata": {
        "colab": {
          "base_uri": "https://localhost:8080/",
          "height": 115
        },
        "id": "gnu_54R25ytY",
        "outputId": "5fb922fc-c913-4257-f58c-30af7539b82d"
      },
      "outputs": [],
      "source": [
        "d2['reading score'].mode()"
      ]
    },
    {
      "cell_type": "markdown",
      "metadata": {
        "id": "3SWq8jT056NX"
      },
      "source": [
        "Percentile"
      ]
    },
    {
      "cell_type": "code",
      "execution_count": null,
      "metadata": {
        "colab": {
          "base_uri": "https://localhost:8080/",
          "height": 178
        },
        "id": "RE2mArNs6CGC",
        "outputId": "f173fbb7-4f8f-4fdd-acb1-9e89e406e232"
      },
      "outputs": [],
      "source": [
        "d2.quantile(.2, axis = 0,numeric_only=True)"
      ]
    },
    {
      "cell_type": "code",
      "execution_count": null,
      "metadata": {
        "colab": {
          "base_uri": "https://localhost:8080/",
          "height": 174
        },
        "id": "kKGVTAAq6YEy",
        "outputId": "e866773e-08ad-4a65-ec52-9dfb99e03624"
      },
      "outputs": [],
      "source": [
        "d2.quantile([.1, .3, .63, .95], axis = 0,numeric_only=True)"
      ]
    },
    {
      "cell_type": "markdown",
      "metadata": {
        "id": "CLnehQUx6lwv"
      },
      "source": [
        "Quartile"
      ]
    },
    {
      "cell_type": "code",
      "execution_count": null,
      "metadata": {
        "colab": {
          "base_uri": "https://localhost:8080/",
          "height": 143
        },
        "id": "9_KZgR7d6dDQ",
        "outputId": "4b9cf412-82ef-40d3-b8e8-a2b03cb197a7"
      },
      "outputs": [],
      "source": [
        "d2.quantile([.25, .50, .75], axis = 0,numeric_only=True)"
      ]
    },
    {
      "cell_type": "markdown",
      "metadata": {
        "id": "6be0IdHw7CER"
      },
      "source": [
        "Measures of variance"
      ]
    },
    {
      "cell_type": "code",
      "execution_count": null,
      "metadata": {
        "colab": {
          "base_uri": "https://localhost:8080/",
          "height": 313
        },
        "id": "qMJt-mfq6r1B",
        "outputId": "db8f09d1-97b1-4eca-8828-df7a1f5057e9"
      },
      "outputs": [],
      "source": [
        "d3 = pd.read_csv(r'../Datasets/nba.csv')\n",
        "d3.head()"
      ]
    },
    {
      "cell_type": "code",
      "execution_count": null,
      "metadata": {
        "colab": {
          "base_uri": "https://localhost:8080/",
          "height": 209
        },
        "id": "sQEFdXM_7nvn",
        "outputId": "ded8d0cf-80f5-4e01-8961-2fb057ceded7"
      },
      "outputs": [],
      "source": [
        "d3.skew(axis=0, skipna=True, numeric_only=True)"
      ]
    },
    {
      "cell_type": "markdown",
      "metadata": {
        "id": "EYrHv_1b8kyB"
      },
      "source": [
        "The data for Number and Salary is significantly right-skewed, indicating potential outliers or higher values stretching the distribution.\n",
        "\n",
        "The Age column is moderately skewed to the right.\n",
        "\n",
        "The Weight column is nearly symmetrical, meaning the data is balanced around the mean without a strong skew."
      ]
    },
    {
      "cell_type": "code",
      "execution_count": null,
      "metadata": {
        "colab": {
          "base_uri": "https://localhost:8080/",
          "height": 466
        },
        "id": "IvzRW-_88yUh",
        "outputId": "7091f0f2-1367-435b-c392-5a6d57d530be"
      },
      "outputs": [],
      "source": [
        "d3['Salary'].sort_values().hist().plot(use_index=False)"
      ]
    },
    {
      "cell_type": "code",
      "execution_count": null,
      "metadata": {
        "colab": {
          "base_uri": "https://localhost:8080/",
          "height": 444
        },
        "id": "_ZlqANgV85OL",
        "outputId": "d8f88b3a-c3cc-473a-95f5-7fecf7fa4fbd"
      },
      "outputs": [],
      "source": [
        "sns.boxplot(d3['Salary'])"
      ]
    },
    {
      "cell_type": "markdown",
      "metadata": {
        "id": "d4XmGVI99ETM"
      },
      "source": [
        "Kurtosis"
      ]
    },
    {
      "cell_type": "code",
      "execution_count": null,
      "metadata": {
        "colab": {
          "base_uri": "https://localhost:8080/",
          "height": 209
        },
        "id": "zHzjk5HT9HCg",
        "outputId": "9c6e835b-5580-423d-a956-b44562870e72"
      },
      "outputs": [],
      "source": [
        "d3.kurtosis(numeric_only=True)"
      ]
    },
    {
      "cell_type": "markdown",
      "metadata": {
        "id": "GHI7-VHS9uQo"
      },
      "source": [
        "Number (4.36): Highly leptokurtic, indicating heavy tails and more extreme values or outliers.\n",
        "\n",
        "Age (-0.05): Nearly mesokurtic (close to 0), suggesting a near-normal distribution with few outliers.\n",
        "\n",
        "Weight (-0.55): Platykurtic, indicating light tails with fewer extreme values or outliers.\n",
        "\n",
        "Salary (1.84): Slightly leptokurtic, suggesting moderate tails with some outliers."
      ]
    }
  ],
  "metadata": {
    "colab": {
      "provenance": []
    },
    "kernelspec": {
      "display_name": "Python 3",
      "name": "python3"
    },
    "language_info": {
      "codemirror_mode": {
        "name": "ipython",
        "version": 3
      },
      "file_extension": ".py",
      "mimetype": "text/x-python",
      "name": "python",
      "nbconvert_exporter": "python",
      "pygments_lexer": "ipython3",
      "version": "3.12.3"
    }
  },
  "nbformat": 4,
  "nbformat_minor": 0
}
