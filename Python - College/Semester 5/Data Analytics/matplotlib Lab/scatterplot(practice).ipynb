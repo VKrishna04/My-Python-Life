{
  "cells": [
    {
      "cell_type": "code",
      "execution_count": null,
      "metadata": {
        "colab": {
          "base_uri": "https://localhost:8080/",
          "height": 1000
        },
        "id": "ovejdMJ-kZPi",
        "outputId": "790d7388-0ffa-4111-d1ff-c69d1bacc530"
      },
      "outputs": [],
      "source": [
        "import matplotlib.pyplot as plt\n",
        "import seaborn as sns\n",
        "import numpy as np\n",
        "\n",
        "# Generate random data for the histogram\n",
        "data = np.random.randn(1000)\n",
        "print(data)\n",
        "\n",
        "# Creating a customized histogram with a density plot\n",
        "sns.histplot(data, bins=30, kde=True, color='lightgreen', edgecolor='red')\n",
        "\n",
        "# Adding labels and title\n",
        "plt.xlabel('Values')\n",
        "plt.ylabel('Density')\n",
        "plt.title('Customized Histogram with Density Plot')\n",
        "\n",
        "# Display the plot\n",
        "plt.show()"
      ]
    },
    {
      "cell_type": "code",
      "execution_count": null,
      "metadata": {
        "colab": {
          "base_uri": "https://localhost:8080/",
          "height": 206
        },
        "id": "kd3iJWBC2-_u",
        "outputId": "522860ca-5832-475a-e4aa-cdb83b69d70e"
      },
      "outputs": [],
      "source": [
        "import pandas as pd\n",
        "df=pd.read_excel('/content/actors.xlsx')\n",
        "df.head()"
      ]
    },
    {
      "cell_type": "code",
      "execution_count": null,
      "metadata": {
        "colab": {
          "base_uri": "https://localhost:8080/"
        },
        "id": "OkYsuJyq5Fk5",
        "outputId": "4e2333ec-dc7d-485e-a402-7d57fe39e5a3"
      },
      "outputs": [],
      "source": [
        "df.columns"
      ]
    },
    {
      "cell_type": "code",
      "execution_count": null,
      "metadata": {
        "colab": {
          "base_uri": "https://localhost:8080/"
        },
        "id": "V8cinEDC5QXO",
        "outputId": "aeac23e5-427c-4734-f729-5ef97f2c1519"
      },
      "outputs": [],
      "source": [
        "df.info()"
      ]
    },
    {
      "cell_type": "code",
      "execution_count": null,
      "metadata": {
        "colab": {
          "base_uri": "https://localhost:8080/",
          "height": 303
        },
        "id": "OGHnUvom5YvE",
        "outputId": "e3e793ca-20b5-4c51-ccbc-7b0d7e22b035"
      },
      "outputs": [],
      "source": [
        "df.isnull().sum()"
      ]
    },
    {
      "cell_type": "markdown",
      "metadata": {
        "id": "Le4-AHff6LF7"
      },
      "source": [
        "Scatter Plots:Used to find the relation ship between two numerical variables"
      ]
    },
    {
      "cell_type": "code",
      "execution_count": null,
      "metadata": {
        "colab": {
          "base_uri": "https://localhost:8080/",
          "height": 472
        },
        "id": "YsCs58-67Q3B",
        "outputId": "75856cd0-4a40-4de4-f439-1f2229cf1033"
      },
      "outputs": [],
      "source": [
        "import matplotlib.pyplot as plt\n",
        "plt.scatter(df['Number of Movies'],df['Total Gross'])\n",
        "plt.xlabel('Number of Movies')\n",
        "plt.ylabel('Total Gross')\n",
        "plt.title('Scatter Plot')\n",
        "plt.show()"
      ]
    },
    {
      "cell_type": "code",
      "execution_count": null,
      "metadata": {
        "colab": {
          "base_uri": "https://localhost:8080/",
          "height": 472
        },
        "id": "9FDPr54J___A",
        "outputId": "5f54a0aa-4e94-4d59-ddaa-275bda7fb421"
      },
      "outputs": [],
      "source": [
        "plt.scatter(df['Number of Movies'],df['Total Gross'],c='pink',linewidth=2,marker='s',edgecolor='green',s=50)\n",
        "plt.xlabel('Number of Movies')\n",
        "plt.ylabel('Total Gross')\n",
        "plt.title('Scatter Plot')\n",
        "plt.show()"
      ]
    },
    {
      "cell_type": "code",
      "execution_count": null,
      "metadata": {
        "colab": {
          "base_uri": "https://localhost:8080/",
          "height": 472
        },
        "id": "4r5hseXtCFiJ",
        "outputId": "5c18b307-955f-4279-a930-7813f1009203"
      },
      "outputs": [],
      "source": [
        "plt.scatter(df['Number of Movies'],df['Average per Movie'],c='pink',linewidth=2,marker='s',edgecolor='green',s=50)\n",
        "plt.xlabel('Number of Movies')\n",
        "plt.ylabel('Average per Movie')\n",
        "plt.title('Scatter Plot')\n",
        "plt.show()"
      ]
    },
    {
      "cell_type": "code",
      "execution_count": null,
      "metadata": {
        "colab": {
          "base_uri": "https://localhost:8080/",
          "height": 1000
        },
        "id": "yiG6dcl7DeFX",
        "outputId": "3d1ac3be-d777-4087-ed34-b308d3d09f80"
      },
      "outputs": [],
      "source": [
        "no_outlier=df[df['Number of Movies']>10]\n",
        "no_outlier"
      ]
    },
    {
      "cell_type": "code",
      "execution_count": null,
      "metadata": {
        "colab": {
          "base_uri": "https://localhost:8080/",
          "height": 472
        },
        "id": "Ko2AzClSDzom",
        "outputId": "cef1729b-805a-44ac-ba6e-26357a88d170"
      },
      "outputs": [],
      "source": [
        "plt.scatter(no_outlier['Number of Movies'],no_outlier['Average per Movie'],c='green')\n",
        "plt.xlabel('Number of Movies')\n",
        "plt.ylabel('Average per Movie')\n",
        "plt.title('Scatter Plot')\n",
        "plt.show()"
      ]
    },
    {
      "cell_type": "code",
      "execution_count": null,
      "metadata": {
        "colab": {
          "base_uri": "https://localhost:8080/",
          "height": 174
        },
        "id": "ukzHO5gIFKh5",
        "outputId": "c8e9227e-fec1-42ef-f1e3-883e076876e2"
      },
      "outputs": [],
      "source": [
        "no_outlier1=df[df['Number of Movies']>60]\n",
        "no_outlier1"
      ]
    },
    {
      "cell_type": "code",
      "execution_count": null,
      "metadata": {
        "colab": {
          "base_uri": "https://localhost:8080/",
          "height": 89
        },
        "id": "1RjSJndaFss-",
        "outputId": "76fa0a7b-9d95-44cf-9048-730c9ef58b75"
      },
      "outputs": [],
      "source": [
        "no_outlier2=df[df['Number of Movies']<10]\n",
        "no_outlier2"
      ]
    }
  ],
  "metadata": {
    "colab": {
      "provenance": []
    },
    "kernelspec": {
      "display_name": "Python 3",
      "name": "python3"
    },
    "language_info": {
      "name": "python"
    }
  },
  "nbformat": 4,
  "nbformat_minor": 0
}
