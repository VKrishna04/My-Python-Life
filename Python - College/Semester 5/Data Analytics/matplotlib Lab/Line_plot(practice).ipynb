{
  "cells": [
    {
      "cell_type": "code",
      "execution_count": null,
      "metadata": {
        "colab": {
          "base_uri": "https://localhost:8080/",
          "height": 206
        },
        "id": "HhirAgY-JNrO",
        "outputId": "9ded6886-2273-414d-9dad-829172ee5051"
      },
      "outputs": [],
      "source": [
        "import pandas as pd\n",
        "df=pd.read_csv('/content/movies_by_year.csv')\n",
        "df.head()"
      ]
    },
    {
      "cell_type": "markdown",
      "metadata": {
        "id": "wIegedLRMNOb"
      },
      "source": [
        "Simple Line Graph (Visualize trends over the Time)"
      ]
    },
    {
      "cell_type": "code",
      "execution_count": null,
      "metadata": {
        "colab": {
          "base_uri": "https://localhost:8080/",
          "height": 472
        },
        "id": "Le4pbCGLLkcg",
        "outputId": "154880cc-2683-47c4-e5dd-34adc6125dd7"
      },
      "outputs": [],
      "source": [
        "import matplotlib.pyplot as plt\n",
        "import numpy as np\n",
        "x=np.array([1,2,3,4])\n",
        "y=x ** 2\n",
        "plt.plot(x,y)\n",
        "plt.xlabel('x-axis')\n",
        "plt.ylabel('y-axis')\n",
        "plt.title('Simple Line Graph')\n",
        "#plt.grid(True)\n",
        "plt.show()"
      ]
    },
    {
      "cell_type": "markdown",
      "metadata": {
        "id": "oNZRWHMIMWqS"
      },
      "source": [
        "Multiple Line Charts:\n",
        "We can display more than one chart in the same container by using pyplot.figure() function.\n",
        "Used to comparing the different charts and also control the look and feel ofthe chart.\n"
      ]
    },
    {
      "cell_type": "code",
      "execution_count": null,
      "metadata": {
        "colab": {
          "base_uri": "https://localhost:8080/",
          "height": 927
        },
        "id": "GiPv2Dt3M1FI",
        "outputId": "d25e6d35-6ba0-4d6c-a5a4-9c50dc63706a"
      },
      "outputs": [],
      "source": [
        "import matplotlib.pyplot as plt\n",
        "import numpy as np\n",
        "x=np.array([1,2,3,4])\n",
        "y=x ** 2\n",
        "plt.plot(x,y,'--',linewidth=3,color='red')\n",
        "plt.xlabel('x-axis')\n",
        "plt.ylabel('y-axis')\n",
        "plt.title('First Chart')\n",
        "#plt.grid(True)\n",
        "plt.show()\n",
        "plt.figure()\n",
        "x=np.array([1,2,3,4])\n",
        "plt.plot(x,x**3,'-.')\n",
        "plt.xlabel('x-axis')\n",
        "plt.ylabel('y-axis')\n",
        "plt.title('Second Chart')\n",
        "#plt.grid(True)\n",
        "plt.show()"
      ]
    },
    {
      "cell_type": "code",
      "execution_count": null,
      "metadata": {
        "colab": {
          "base_uri": "https://localhost:8080/",
          "height": 472
        },
        "id": "Mqj8SPpFPRa9",
        "outputId": "abfbd6f3-1a34-4558-bb66-e1938df5bb9d"
      },
      "outputs": [],
      "source": [
        "import matplotlib.pyplot as plt\n",
        "import numpy as np\n",
        "x=np.array([1,2,3,4])\n",
        "y=x ** 2\n",
        "plt.plot(x,y,'--',linewidth=3,color='red')\n",
        "plt.xlabel('x-axis')\n",
        "plt.ylabel('y-axis')\n",
        "\n",
        "\n",
        "x=np.array([1,2,3,4])\n",
        "plt.plot(x,x**3,'-.')\n",
        "plt.xlabel('x-axis')\n",
        "plt.ylabel('y-axis')\n",
        "plt.title('Line graph')\n",
        "plt.legend(['first','second'],loc='lower right')\n",
        "#plt.grid(True)\n",
        "plt.show()"
      ]
    },
    {
      "cell_type": "code",
      "execution_count": null,
      "metadata": {
        "colab": {
          "base_uri": "https://localhost:8080/",
          "height": 472
        },
        "id": "cJPnzdXEPyLR",
        "outputId": "636a06b1-b905-47d6-eab9-891fa4b18dfe"
      },
      "outputs": [],
      "source": [
        "import numpy as np\n",
        "x=np.linspace(-10,10,100)\n",
        "y=np.sin(x)\n",
        "plt.plot(x,y)\n",
        "plt.xlabel('x-axis')\n",
        "plt.ylabel('y-axis')\n",
        "plt.title('Sine Wave')\n",
        "plt.legend(['sin(x)'])\n",
        "\n",
        "plt.show()"
      ]
    },
    {
      "cell_type": "code",
      "execution_count": null,
      "metadata": {
        "colab": {
          "base_uri": "https://localhost:8080/",
          "height": 430
        },
        "id": "zo6Bo27GRCh7",
        "outputId": "57fe451c-8304-442c-f92c-857ac02e8444"
      },
      "outputs": [],
      "source": [
        "# First create a grid of plots\n",
        "# ax will be an array of two Axes objects\n",
        "fig, ax = plt.subplots(2)\n",
        "\n",
        "# Call plot() method on the appropriate object\n",
        "ax[0].plot(x, np.sin(x))\n",
        "ax[1].plot(x, np.cos(x));"
      ]
    },
    {
      "cell_type": "code",
      "execution_count": null,
      "metadata": {
        "colab": {
          "base_uri": "https://localhost:8080/",
          "height": 430
        },
        "id": "taCmomC-SOHR",
        "outputId": "6433c102-9ea4-4233-a889-c86bcd2cadc6"
      },
      "outputs": [],
      "source": [
        "plt.figure()  # create a plot figure\n",
        "\n",
        "# create the first of two panels and set current axis\n",
        "plt.subplot(2, 1, 1) # (rows, columns, panel number)\n",
        "plt.plot(x, np.sin(x))\n",
        "\n",
        "# create the second panel and set current axis\n",
        "plt.subplot(2, 1, 2)\n",
        "plt.plot(x, np.cos(x));"
      ]
    },
    {
      "cell_type": "code",
      "execution_count": null,
      "metadata": {
        "colab": {
          "base_uri": "https://localhost:8080/",
          "height": 486
        },
        "id": "j_TFpK3YSSU0",
        "outputId": "be250143-4559-4408-da98-e8b6052bb267"
      },
      "outputs": [],
      "source": [
        "import matplotlib.pyplot as plt\n",
        "import numpy as np\n",
        "plt.figure()  # create a plot figure\n",
        "x=np.linspace(-10,10,100)\n",
        "# create the first of two panels and set current axis\n",
        "plt.subplot(2, 2, 1) # (rows, columns, panel number)\n",
        "plt.plot(x, np.sin(x))\n",
        "plt.xlabel('x-values')\n",
        "plt.ylabel('sine')\n",
        "\n",
        "\n",
        "# create the second panel and set current axis\n",
        "plt.subplot(2, 2, 2)\n",
        "plt.plot(x, np.cos(x));\n",
        "plt.xlabel('x-values')\n",
        "plt.ylabel('cosine')\n",
        "\n",
        "# create the third panel and set current axis\n",
        "plt.subplot(2, 2, 3)\n",
        "plt.plot(x, np.tan(x));\n",
        "plt.xlabel('x-values')\n",
        "plt.ylabel('tan')\n",
        "\n",
        "# create the fourth panel and set current axis\n",
        "plt.subplot(2, 2, 4)\n",
        "plt.plot(x, x**2);\n",
        "plt.xlabel('x-values')\n",
        "plt.ylabel('x**2')\n",
        "plt.tight_layout()\n",
        "plt.show()"
      ]
    },
    {
      "cell_type": "code",
      "execution_count": null,
      "metadata": {
        "colab": {
          "base_uri": "https://localhost:8080/",
          "height": 206
        },
        "id": "o1H1S5TIT5No",
        "outputId": "34b816ed-bfb3-4864-ee83-fd19ddd04651"
      },
      "outputs": [],
      "source": [
        "import pandas as pd\n",
        "df=pd.read_csv('/content/movies_by_year.csv')\n",
        "df.head()"
      ]
    },
    {
      "cell_type": "code",
      "execution_count": null,
      "metadata": {
        "colab": {
          "base_uri": "https://localhost:8080/",
          "height": 472
        },
        "id": "BNTbrYvaUA2O",
        "outputId": "c23207e1-20cd-485f-e188-3fd2971221d0"
      },
      "outputs": [],
      "source": [
        "import matplotlib.pyplot as plt\n",
        "#df.plot(x='Year',y='Number of Movies')\n",
        "plt.plot(df['Year'],df['Number of Movies'])\n",
        "plt.xlabel('Year')\n",
        "plt.ylabel('Number of Movies')\n",
        "plt.title('Number of Movies by Year')\n",
        "plt.show()"
      ]
    },
    {
      "cell_type": "code",
      "execution_count": null,
      "metadata": {
        "colab": {
          "base_uri": "https://localhost:8080/",
          "height": 551
        },
        "id": "Te89_-eNXK2s",
        "outputId": "e6cb87d0-b2f3-4d0f-b921-ee7022c8aa68"
      },
      "outputs": [],
      "source": [
        "century_21st=df[df['Year']>=2000]\n",
        "century_21st"
      ]
    },
    {
      "cell_type": "code",
      "execution_count": null,
      "metadata": {
        "colab": {
          "base_uri": "https://localhost:8080/",
          "height": 472
        },
        "id": "OskBbDERXYEC",
        "outputId": "f1b45132-653b-4977-ec57-268ae0656df5"
      },
      "outputs": [],
      "source": [
        "plt.plot(century_21st['Year'],century_21st['Number of Movies'])\n",
        "plt.xlabel('Year')\n",
        "plt.ylabel('Number of Movies')\n",
        "plt.title('Number of Movies by Year')\n",
        "plt.show()"
      ]
    },
    {
      "cell_type": "code",
      "execution_count": null,
      "metadata": {
        "colab": {
          "base_uri": "https://localhost:8080/",
          "height": 472
        },
        "id": "n6Sc3vR8XexW",
        "outputId": "dc2af4e4-f03b-4ba4-a9ef-91bc16e464e7"
      },
      "outputs": [],
      "source": [
        "plt.plot(century_21st['Year'],century_21st['Total Gross'])\n",
        "plt.xlabel('Year')\n",
        "plt.ylabel('Gross')\n",
        "plt.title('Gross of Movies by Year')\n",
        "plt.show()\n",
        "#"
      ]
    },
    {
      "cell_type": "code",
      "execution_count": null,
      "metadata": {
        "colab": {
          "base_uri": "https://localhost:8080/",
          "height": 80
        },
        "id": "sUUbDuTCXv69",
        "outputId": "49bd2ab6-85e5-4c46-c410-163f45de2e61"
      },
      "outputs": [],
      "source": [
        "century_21st[century_21st['Year']==2009]"
      ]
    }
  ],
  "metadata": {
    "colab": {
      "provenance": []
    },
    "kernelspec": {
      "display_name": "Python 3",
      "name": "python3"
    },
    "language_info": {
      "name": "python"
    }
  },
  "nbformat": 4,
  "nbformat_minor": 0
}
