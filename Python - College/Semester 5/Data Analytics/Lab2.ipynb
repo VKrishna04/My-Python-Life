{
 "cells": [
  {
   "cell_type": "markdown",
   "metadata": {},
   "source": [
    "Date: 13th August, 2024"
   ]
  },
  {
   "cell_type": "markdown",
   "metadata": {},
   "source": [
    "### What is NumPy?\n",
    "NumPy is a powerful library for numerical computing in Python. It provides support for arrays, matrices, and many mathematical functions to operate on these data structures efficiently. NumPy is widely used in scientific computing, data analysis, and machine learning.\n",
    "\n",
    "### Key Features of NumPy:\n",
    "1. **N-Dimensional Array Object**: Provides a powerful N-dimensional array object.\n",
    "2. **Broadcasting**: Supports broadcasting, which allows arithmetic operations on arrays of different shapes.\n",
    "3. **Mathematical Functions**: Includes a large collection of mathematical functions to operate on arrays.\n",
    "4. **Linear Algebra**: Provides tools for linear algebra, Fourier transforms, and random number generation.\n",
    "5. **Performance**: Highly optimized for performance with operations implemented in C.\n",
    "\n",
    "### Initiation and Basic Usage of NumPy Arrays\n",
    "\n",
    "#### Creating NumPy Arrays\n",
    "You can create NumPy arrays in several ways:\n",
    "\n",
    "1. **From a Python List**:\n",
    "    ```python\n",
    "    # Creating a 1D array\n",
    "    arr1 = np.array([1, 2, 3, 4, 5])\n",
    "    print(arr1)\n",
    "\n",
    "    # Creating a 2D array\n",
    "    arr2 = np.array([[1, 2, 3], [4, 5, 6]])\n",
    "    print(arr2)\n",
    "    ```\n",
    "\n",
    "2. **Using Built-in Functions**:\n",
    "    ```python\n",
    "    # Creating an array of zeros\n",
    "    zeros = np.zeros((3, 3))\n",
    "    print(zeros)\n",
    "\n",
    "    # Creating an array of ones\n",
    "    ones = np.ones((2, 4))\n",
    "    print(ones)\n",
    "\n",
    "    # Creating an array with a range of values\n",
    "    range_arr = np.arange(0, 10, 2)\n",
    "    print(range_arr)\n",
    "\n",
    "    # Creating an array with evenly spaced values\n",
    "    linspace_arr = np.linspace(0, 1, 5)\n",
    "    print(linspace_arr)\n",
    "    ```\n",
    "\n",
    "3. **Random Arrays**:\n",
    "    ```python\n",
    "    # Creating an array with random values\n",
    "    random_arr = np.random.rand(3, 3)\n",
    "    print(random_arr)\n",
    "\n",
    "    # Creating an array with random integers\n",
    "    random_int_arr = np.random.randint(0, 10, (3, 3))\n",
    "    print(random_int_arr)\n",
    "    ```\n",
    "\n",
    "#### Basic Operations on NumPy Arrays\n",
    "NumPy supports a variety of operations on arrays:\n",
    "\n",
    "1. **Arithmetic Operations**:\n",
    "    ```python\n",
    "    arr = np.array([1, 2, 3, 4, 5])\n",
    "    print(arr + 2)  # Add 2 to each element\n",
    "    print(arr * 3)  # Multiply each element by 3\n",
    "    ```\n",
    "\n",
    "2. **Element-wise Operations**:\n",
    "    ```python\n",
    "    arr1 = np.array([1, 2, 3])\n",
    "    arr2 = np.array([4, 5, 6])\n",
    "    print(arr1 + arr2)  # Element-wise addition\n",
    "    print(arr1 * arr2)  # Element-wise multiplication\n",
    "    ```\n",
    "\n",
    "3. **Matrix Operations**:\n",
    "    ```python\n",
    "    mat1 = np.array([[1, 2], [3, 4]])\n",
    "    mat2 = np.array([[5, 6], [7, 8]])\n",
    "    print(np.dot(mat1, mat2))  # Matrix multiplication\n",
    "    ```\n",
    "\n",
    "4. **Statistical Operations**:\n",
    "    ```python\n",
    "    arr = np.array([1, 2, 3, 4, 5])\n",
    "    print(np.mean(arr))  # Mean\n",
    "    print(np.sum(arr))   # Sum\n",
    "    print(np.std(arr))   # Standard deviation\n",
    "    ```\n",
    "\n",
    "### Example Usage\n",
    "Here's a simple example demonstrating the creation and manipulation of a NumPy array:\n",
    "\n",
    "```python\n",
    "import numpy as np\n",
    "\n",
    "# Create a 2D array\n",
    "arr = np.array([[1, 2, 3], [4, 5, 6]])\n",
    "\n",
    "# Print the array\n",
    "print(\"Array:\")\n",
    "print(arr)\n",
    "\n",
    "# Perform arithmetic operations\n",
    "print(\"Array + 2:\")\n",
    "print(arr + 2)\n",
    "\n",
    "# Calculate the mean\n",
    "print(\"Mean of the array:\")\n",
    "print(np.mean(arr))\n",
    "\n",
    "# Matrix multiplication\n",
    "mat1 = np.array([[1, 2], [3, 4]])\n",
    "mat2 = np.array([[5, 6], [7, 8]])\n",
    "print(\"Matrix multiplication:\")\n",
    "print(np.dot(mat1, mat2))\n",
    "```\n",
    "\n",
    "This should give you a good starting point for using NumPy and NumPy arrays in your projects."
   ]
  },
  {
   "cell_type": "code",
   "execution_count": 8,
   "metadata": {},
   "outputs": [
    {
     "name": "stdout",
     "output_type": "stream",
     "text": [
      "[11  2 34 54 13 24  4]\n",
      "[3 4 5 6 7 8]\n",
      "[13  4 36 56 15 26  6]\n",
      "[ 22   4  68 108  26  48   8]\n",
      "20.2857142857\n",
      "142\n",
      "50409216\n",
      "[11  2 34 54 13 24  4]\n",
      "[      11       22      748    40392   525096 12602304 50409216]\n",
      "[ 11  13  47 101 114 138 142]\n",
      "[  5.98741417e+04   7.38905610e+00   5.83461743e+14   2.83075330e+23\n",
      "   4.42413392e+05   2.64891221e+10   5.45981500e+01]\n",
      "[ 2.39789527  0.69314718  3.52636052  3.98898405  2.56494936  3.17805383\n",
      "  1.38629436]\n",
      "[ 1.54851389  0.83255461  1.87786062  1.99724411  1.60154593  1.78270969\n",
      "  1.17741002]\n",
      "['apple' 'banana' 'cherry' 'date']\n",
      "['apple' 'banana' 'cherry' 'date']\n",
      "['APPLE' 'BANANA' 'CHERRY' 'DATE']\n",
      "[1 3 0 1]\n",
      "[ 0  1 -1  1]\n"
     ]
    }
   ],
   "source": [
    "import numpy as np\n",
    "\n",
    "a = np.array([11, 2, 34, 54, 13, 24, 4])\n",
    "b = np.array([3, 4, 5, 6, 7, 8])\n",
    "print(a)\n",
    "print(b)\n",
    "\n",
    "print(a + 2)\n",
    "print(a * 2)\n",
    "print(np.mean(a))\n",
    "\n",
    "sum = np.sum(a)\n",
    "print(sum)\n",
    "product = np.prod(a)\n",
    "print(product)\n",
    "\n",
    "diff = np.diff(a)\n",
    "r = np.round(a)\n",
    "print(r)\n",
    "cp = np.cumprod(a)\n",
    "print(cp)\n",
    "cs = np.cumsum(a)\n",
    "print(cs)\n",
    "\n",
    "e = np.exp(a)\n",
    "print(e)\n",
    "\n",
    "a = np.log(a)\n",
    "print(a)\n",
    "\n",
    "sq = np.sqrt(a)\n",
    "print(sq)\n",
    "\n",
    "\n",
    "string_list = [\"apple\", \"banana\", \"cherry\", \"date\"]\n",
    "string_array = np.array(string_list)\n",
    "print(string_array)\n",
    "print(np.char.lower(string_list))\n",
    "print(np.char.upper(string_list))\n",
    "print(np.char.count(string_list, \"a\"))\n",
    "print(np.char.find(string_list, \"a\"))"
   ]
  },
  {
   "cell_type": "code",
   "execution_count": 9,
   "metadata": {},
   "outputs": [
    {
     "data": {
      "text/html": [
       "<table border=\"1\" class=\"dataframe\">\n",
       "    <thead>\n",
       "        <tr>\n",
       "            <th>Number of petals</th> <th>Name</th>\n",
       "        </tr>\n",
       "    </thead>\n",
       "    <tbody>\n",
       "        <tr>\n",
       "            <td>8               </td> <td>rose   </td>\n",
       "        </tr>\n",
       "        <tr>\n",
       "            <td>34              </td> <td>jasmine</td>\n",
       "        </tr>\n",
       "        <tr>\n",
       "            <td>5               </td> <td>lily   </td>\n",
       "        </tr>\n",
       "    </tbody>\n",
       "</table>"
      ],
      "text/plain": [
       "<IPython.core.display.HTML object>"
      ]
     },
     "metadata": {},
     "output_type": "display_data"
    }
   ],
   "source": [
    "from datascience import Table\n",
    "\n",
    "\n",
    "flowers = Table().with_columns(\n",
    "    \"Number of petals\", [8, 34, 5], \"Name\", [\"rose\", \"jasmine\", \"lily\"]\n",
    ")\n",
    "\n",
    "flowers.show()"
   ]
  },
  {
   "cell_type": "code",
   "execution_count": 11,
   "metadata": {},
   "outputs": [
    {
     "data": {
      "text/html": [
       "<table border=\"1\" class=\"dataframe\">\n",
       "    <thead>\n",
       "        <tr>\n",
       "            <th>Longitude</th> <th>Latitude</th> <th>City</th> <th>Direction</th> <th>Survivors</th>\n",
       "        </tr>\n",
       "    </thead>\n",
       "    <tbody>\n",
       "        <tr>\n",
       "            <td>32       </td> <td>54.8    </td> <td>Smolensk   </td> <td>Advance  </td> <td>145000   </td>\n",
       "        </tr>\n",
       "        <tr>\n",
       "            <td>33.2     </td> <td>54.9    </td> <td>Dorogobouge</td> <td>Advance  </td> <td>140000   </td>\n",
       "        </tr>\n",
       "        <tr>\n",
       "            <td>34.4     </td> <td>55.5    </td> <td>Chjat      </td> <td>Advance  </td> <td>127100   </td>\n",
       "        </tr>\n",
       "        <tr>\n",
       "            <td>37.6     </td> <td>55.8    </td> <td>Moscou     </td> <td>Advance  </td> <td>100000   </td>\n",
       "        </tr>\n",
       "        <tr>\n",
       "            <td>34.3     </td> <td>55.2    </td> <td>Wixma      </td> <td>Retreat  </td> <td>55000    </td>\n",
       "        </tr>\n",
       "        <tr>\n",
       "            <td>32       </td> <td>54.6    </td> <td>Smolensk   </td> <td>Retreat  </td> <td>24000    </td>\n",
       "        </tr>\n",
       "        <tr>\n",
       "            <td>30.4     </td> <td>54.4    </td> <td>Orscha     </td> <td>Retreat  </td> <td>20000    </td>\n",
       "        </tr>\n",
       "        <tr>\n",
       "            <td>26.8     </td> <td>54.3    </td> <td>Moiodexno  </td> <td>Retreat  </td> <td>12000    </td>\n",
       "        </tr>\n",
       "    </tbody>\n",
       "</table>"
      ],
      "text/plain": [
       "<IPython.core.display.HTML object>"
      ]
     },
     "metadata": {},
     "output_type": "display_data"
    },
    {
     "data": {
      "text/plain": [
       "array([145000, 140000, 127100, 100000,  55000,  24000,  20000,  12000])"
      ]
     },
     "execution_count": 11,
     "metadata": {},
     "output_type": "execute_result"
    }
   ],
   "source": [
    "from datascience import Table\n",
    "\n",
    "# Read the CSV file into a Table\n",
    "minard = Table.read_table(\n",
    "    r\"V:\\Code\\My Python Life\\Python - College\\Semester 5\\Data Analytics\\minard.csv\"\n",
    ")\n",
    "\n",
    "# Display the first few rows of the table to verify\n",
    "minard.show()\n",
    "\n"
   ]
  },
  {
   "cell_type": "markdown",
   "metadata": {},
   "source": [
    "The method num_columns gives the number of columns in the table, and num_rows the number of rows."
   ]
  },
  {
   "cell_type": "code",
   "execution_count": null,
   "metadata": {},
   "outputs": [],
   "source": [
    "minard.column('Survivors')"
   ]
  },
  {
   "cell_type": "markdown",
   "metadata": {},
   "source": [
    "The method labels can be used to list the labels of all the columns. With minard we don't\n",
    "gain much by this, but it can be very useful for tables that are so large that not all columns\n",
    "are visible on the screen."
   ]
  }
 ],
 "metadata": {
  "kernelspec": {
   "display_name": "Python 3",
   "language": "python",
   "name": "python3"
  },
  "language_info": {
   "codemirror_mode": {
    "name": "ipython",
    "version": 3
   },
   "file_extension": ".py",
   "mimetype": "text/x-python",
   "name": "python",
   "nbconvert_exporter": "python",
   "pygments_lexer": "ipython3",
   "version": "3.12.3"
  }
 },
 "nbformat": 4,
 "nbformat_minor": 2
}
