{
 "cells": [
  {
   "cell_type": "markdown",
   "metadata": {
    "id": "8occPdYTD9N3"
   },
   "source": [
    "#Libreries"
   ]
  },
  {
   "cell_type": "code",
   "execution_count": null,
   "metadata": {
    "colab": {
     "base_uri": "https://localhost:8080/"
    },
    "id": "5kHvb5ZsjLJ3",
    "outputId": "5247175c-9133-45af-b03e-62f3d2a7e651"
   },
   "outputs": [],
   "source": [
    "from google.colab import drive\n",
    "drive.mount('/content/drive')"
   ]
  },
  {
   "cell_type": "code",
   "execution_count": 2,
   "metadata": {
    "id": "r4kCBvYqJvif"
   },
   "outputs": [],
   "source": [
    "import numpy as np\n",
    "import random\n",
    "import pandas as pd\n",
    "import matplotlib.pyplot as plt\n",
    "from sklearn.model_selection import train_test_split\n",
    "from sklearn.metrics import  accuracy_score\n",
    "import keras\n",
    "from keras.models import Sequential\n",
    "from keras.layers import Dense , BatchNormalization\n",
    "from sklearn.preprocessing import StandardScaler, LabelBinarizer\n",
    "import tensorflow as tf\n",
    "from tensorflow import keras\n",
    "from keras.optimizers import SGD"
   ]
  },
  {
   "cell_type": "markdown",
   "metadata": {
    "id": "n_x-sH-JKCJ2"
   },
   "source": [
    "#Load DataSet and Preprocessing"
   ]
  },
  {
   "cell_type": "code",
   "execution_count": 3,
   "metadata": {
    "id": "gIgCflFEKEnJ"
   },
   "outputs": [],
   "source": [
    "df = pd.read_csv('dataset path')"
   ]
  },
  {
   "cell_type": "code",
   "execution_count": 4,
   "metadata": {
    "colab": {
     "base_uri": "https://localhost:8080/",
     "height": 206
    },
    "id": "xW6iMK_1Qz4-",
    "outputId": "c9099d86-096a-4b87-ab77-63e933a8492e"
   },
   "outputs": [
    {
     "data": {
      "text/html": [
       "\n",
       "  <div id=\"df-aedb5cea-b838-4765-93d7-6bbb3514a304\">\n",
       "    <div class=\"colab-df-container\">\n",
       "      <div>\n",
       "<style scoped>\n",
       "    .dataframe tbody tr th:only-of-type {\n",
       "        vertical-align: middle;\n",
       "    }\n",
       "\n",
       "    .dataframe tbody tr th {\n",
       "        vertical-align: top;\n",
       "    }\n",
       "\n",
       "    .dataframe thead th {\n",
       "        text-align: right;\n",
       "    }\n",
       "</style>\n",
       "<table border=\"1\" class=\"dataframe\">\n",
       "  <thead>\n",
       "    <tr style=\"text-align: right;\">\n",
       "      <th></th>\n",
       "      <th>sepal_length</th>\n",
       "      <th>sepal_width</th>\n",
       "      <th>petal_length</th>\n",
       "      <th>petal_width</th>\n",
       "      <th>species</th>\n",
       "    </tr>\n",
       "  </thead>\n",
       "  <tbody>\n",
       "    <tr>\n",
       "      <th>0</th>\n",
       "      <td>5.1</td>\n",
       "      <td>3.5</td>\n",
       "      <td>1.4</td>\n",
       "      <td>0.2</td>\n",
       "      <td>Iris-setosa</td>\n",
       "    </tr>\n",
       "    <tr>\n",
       "      <th>1</th>\n",
       "      <td>4.9</td>\n",
       "      <td>3.0</td>\n",
       "      <td>1.4</td>\n",
       "      <td>0.2</td>\n",
       "      <td>Iris-setosa</td>\n",
       "    </tr>\n",
       "    <tr>\n",
       "      <th>2</th>\n",
       "      <td>4.7</td>\n",
       "      <td>3.2</td>\n",
       "      <td>1.3</td>\n",
       "      <td>0.2</td>\n",
       "      <td>Iris-setosa</td>\n",
       "    </tr>\n",
       "    <tr>\n",
       "      <th>3</th>\n",
       "      <td>4.6</td>\n",
       "      <td>3.1</td>\n",
       "      <td>1.5</td>\n",
       "      <td>0.2</td>\n",
       "      <td>Iris-setosa</td>\n",
       "    </tr>\n",
       "    <tr>\n",
       "      <th>4</th>\n",
       "      <td>5.0</td>\n",
       "      <td>3.6</td>\n",
       "      <td>1.4</td>\n",
       "      <td>0.2</td>\n",
       "      <td>Iris-setosa</td>\n",
       "    </tr>\n",
       "  </tbody>\n",
       "</table>\n",
       "</div>\n",
       "      <button class=\"colab-df-convert\" onclick=\"convertToInteractive('df-aedb5cea-b838-4765-93d7-6bbb3514a304')\"\n",
       "              title=\"Convert this dataframe to an interactive table.\"\n",
       "              style=\"display:none;\">\n",
       "        \n",
       "  <svg xmlns=\"http://www.w3.org/2000/svg\" height=\"24px\"viewBox=\"0 0 24 24\"\n",
       "       width=\"24px\">\n",
       "    <path d=\"M0 0h24v24H0V0z\" fill=\"none\"/>\n",
       "    <path d=\"M18.56 5.44l.94 2.06.94-2.06 2.06-.94-2.06-.94-.94-2.06-.94 2.06-2.06.94zm-11 1L8.5 8.5l.94-2.06 2.06-.94-2.06-.94L8.5 2.5l-.94 2.06-2.06.94zm10 10l.94 2.06.94-2.06 2.06-.94-2.06-.94-.94-2.06-.94 2.06-2.06.94z\"/><path d=\"M17.41 7.96l-1.37-1.37c-.4-.4-.92-.59-1.43-.59-.52 0-1.04.2-1.43.59L10.3 9.45l-7.72 7.72c-.78.78-.78 2.05 0 2.83L4 21.41c.39.39.9.59 1.41.59.51 0 1.02-.2 1.41-.59l7.78-7.78 2.81-2.81c.8-.78.8-2.07 0-2.86zM5.41 20L4 18.59l7.72-7.72 1.47 1.35L5.41 20z\"/>\n",
       "  </svg>\n",
       "      </button>\n",
       "      \n",
       "  <style>\n",
       "    .colab-df-container {\n",
       "      display:flex;\n",
       "      flex-wrap:wrap;\n",
       "      gap: 12px;\n",
       "    }\n",
       "\n",
       "    .colab-df-convert {\n",
       "      background-color: #E8F0FE;\n",
       "      border: none;\n",
       "      border-radius: 50%;\n",
       "      cursor: pointer;\n",
       "      display: none;\n",
       "      fill: #1967D2;\n",
       "      height: 32px;\n",
       "      padding: 0 0 0 0;\n",
       "      width: 32px;\n",
       "    }\n",
       "\n",
       "    .colab-df-convert:hover {\n",
       "      background-color: #E2EBFA;\n",
       "      box-shadow: 0px 1px 2px rgba(60, 64, 67, 0.3), 0px 1px 3px 1px rgba(60, 64, 67, 0.15);\n",
       "      fill: #174EA6;\n",
       "    }\n",
       "\n",
       "    [theme=dark] .colab-df-convert {\n",
       "      background-color: #3B4455;\n",
       "      fill: #D2E3FC;\n",
       "    }\n",
       "\n",
       "    [theme=dark] .colab-df-convert:hover {\n",
       "      background-color: #434B5C;\n",
       "      box-shadow: 0px 1px 3px 1px rgba(0, 0, 0, 0.15);\n",
       "      filter: drop-shadow(0px 1px 2px rgba(0, 0, 0, 0.3));\n",
       "      fill: #FFFFFF;\n",
       "    }\n",
       "  </style>\n",
       "\n",
       "      <script>\n",
       "        const buttonEl =\n",
       "          document.querySelector('#df-aedb5cea-b838-4765-93d7-6bbb3514a304 button.colab-df-convert');\n",
       "        buttonEl.style.display =\n",
       "          google.colab.kernel.accessAllowed ? 'block' : 'none';\n",
       "\n",
       "        async function convertToInteractive(key) {\n",
       "          const element = document.querySelector('#df-aedb5cea-b838-4765-93d7-6bbb3514a304');\n",
       "          const dataTable =\n",
       "            await google.colab.kernel.invokeFunction('convertToInteractive',\n",
       "                                                     [key], {});\n",
       "          if (!dataTable) return;\n",
       "\n",
       "          const docLinkHtml = 'Like what you see? Visit the ' +\n",
       "            '<a target=\"_blank\" href=https://colab.research.google.com/notebooks/data_table.ipynb>data table notebook</a>'\n",
       "            + ' to learn more about interactive tables.';\n",
       "          element.innerHTML = '';\n",
       "          dataTable['output_type'] = 'display_data';\n",
       "          await google.colab.output.renderOutput(dataTable, element);\n",
       "          const docLink = document.createElement('div');\n",
       "          docLink.innerHTML = docLinkHtml;\n",
       "          element.appendChild(docLink);\n",
       "        }\n",
       "      </script>\n",
       "    </div>\n",
       "  </div>\n",
       "  "
      ],
      "text/plain": [
       "   sepal_length  sepal_width  petal_length  petal_width      species\n",
       "0           5.1          3.5           1.4          0.2  Iris-setosa\n",
       "1           4.9          3.0           1.4          0.2  Iris-setosa\n",
       "2           4.7          3.2           1.3          0.2  Iris-setosa\n",
       "3           4.6          3.1           1.5          0.2  Iris-setosa\n",
       "4           5.0          3.6           1.4          0.2  Iris-setosa"
      ]
     },
     "execution_count": 4,
     "metadata": {},
     "output_type": "execute_result"
    }
   ],
   "source": [
    "df.head()"
   ]
  },
  {
   "cell_type": "code",
   "execution_count": 5,
   "metadata": {
    "colab": {
     "base_uri": "https://localhost:8080/"
    },
    "id": "Lua47U7OKmXv",
    "outputId": "44cb9266-8958-4dd1-eb53-e29a054b7b56"
   },
   "outputs": [
    {
     "name": "stdout",
     "output_type": "stream",
     "text": [
      "<class 'pandas.core.frame.DataFrame'>\n",
      "RangeIndex: 150 entries, 0 to 149\n",
      "Data columns (total 5 columns):\n",
      " #   Column        Non-Null Count  Dtype  \n",
      "---  ------        --------------  -----  \n",
      " 0   sepal_length  150 non-null    float64\n",
      " 1   sepal_width   150 non-null    float64\n",
      " 2   petal_length  150 non-null    float64\n",
      " 3   petal_width   150 non-null    float64\n",
      " 4   species       150 non-null    object \n",
      "dtypes: float64(4), object(1)\n",
      "memory usage: 6.0+ KB\n"
     ]
    }
   ],
   "source": [
    "df.info()"
   ]
  },
  {
   "cell_type": "code",
   "execution_count": 6,
   "metadata": {
    "colab": {
     "base_uri": "https://localhost:8080/"
    },
    "id": "_sfusJmgDlzU",
    "outputId": "ac0c8fd4-517e-4f11-b07c-acd26ef6cae1"
   },
   "outputs": [
    {
     "name": "stdout",
     "output_type": "stream",
     "text": [
      "sepal_length    0\n",
      "sepal_width     0\n",
      "petal_length    0\n",
      "petal_width     0\n",
      "species         0\n",
      "dtype: int64\n",
      "nan values: 0\n"
     ]
    }
   ],
   "source": [
    "#check missing values\n",
    "miss = df.isna().sum()\n",
    "print(miss)\n",
    "#print sum number of null values\n",
    "print(\"nan values: \"+ str(df.isna().sum().sum()))"
   ]
  },
  {
   "cell_type": "code",
   "execution_count": 7,
   "metadata": {
    "id": "WQTcwqsCJYb4"
   },
   "outputs": [],
   "source": [
    "X = df[['sepal_length', 'sepal_width', 'petal_length', 'petal_width']]\n",
    "y = df['species']\n",
    "\n",
    "X = StandardScaler().fit_transform(X)\n",
    "y = LabelBinarizer().fit_transform(y)"
   ]
  },
  {
   "cell_type": "code",
   "execution_count": 8,
   "metadata": {
    "id": "Qr5YTusUK39r"
   },
   "outputs": [],
   "source": [
    "x_train, x_test, y_train, y_test = train_test_split(X, y, test_size = 0.2, random_state = 42)"
   ]
  },
  {
   "cell_type": "markdown",
   "metadata": {
    "id": "eE-GuzAjD3m0"
   },
   "source": [
    "#1"
   ]
  },
  {
   "cell_type": "code",
   "execution_count": 9,
   "metadata": {
    "id": "aj8ImzhaLS5k"
   },
   "outputs": [],
   "source": [
    "model1 = tf.keras.Sequential([\n",
    "    tf.keras.layers.Dense(16, activation=tf.nn.relu, input_shape=(4,)),\n",
    "    tf.keras.layers.Dense(32, activation=tf.nn.relu),\n",
    "    tf.keras.layers.Dense(64, activation=tf.nn.relu),\n",
    "    tf.keras.layers.Dense(128, activation=tf.nn.relu),\n",
    "    tf.keras.layers.Dense(256, activation=tf.nn.relu),\n",
    "    tf.keras.layers.Dense(128, activation=tf.nn.relu),\n",
    "    tf.keras.layers.Dense(64, activation=tf.nn.relu),\n",
    "    tf.keras.layers.Dense(32, activation=tf.nn.relu),\n",
    "    tf.keras.layers.Dense(16, activation=tf.nn.relu),\n",
    "    tf.keras.layers.Dense(3, activation=tf.nn.softmax)\n",
    "])"
   ]
  },
  {
   "cell_type": "code",
   "execution_count": 10,
   "metadata": {
    "colab": {
     "base_uri": "https://localhost:8080/"
    },
    "id": "nGPQ-fi24Ytb",
    "outputId": "d7703936-8568-42a2-cc64-dd5c793515e1"
   },
   "outputs": [
    {
     "name": "stdout",
     "output_type": "stream",
     "text": [
      "Epoch 1/100\n",
      "1/1 [==============================] - 4s 4s/step - loss: 1.0978 - accuracy: 0.3333 - val_loss: 1.0930 - val_accuracy: 0.4167\n",
      "Epoch 2/100\n",
      "1/1 [==============================] - 0s 123ms/step - loss: 1.0878 - accuracy: 0.3333 - val_loss: 1.0850 - val_accuracy: 0.4167\n",
      "Epoch 3/100\n",
      "1/1 [==============================] - 0s 87ms/step - loss: 1.0714 - accuracy: 0.3333 - val_loss: 1.0748 - val_accuracy: 0.5833\n",
      "Epoch 4/100\n",
      "1/1 [==============================] - 0s 79ms/step - loss: 1.0542 - accuracy: 0.6759 - val_loss: 1.0627 - val_accuracy: 0.7500\n",
      "Epoch 5/100\n",
      "1/1 [==============================] - 0s 97ms/step - loss: 1.0343 - accuracy: 0.8796 - val_loss: 1.0473 - val_accuracy: 0.9167\n",
      "Epoch 6/100\n",
      "1/1 [==============================] - 0s 210ms/step - loss: 1.0116 - accuracy: 0.9167 - val_loss: 1.0289 - val_accuracy: 0.9167\n",
      "Epoch 7/100\n",
      "1/1 [==============================] - 0s 135ms/step - loss: 0.9839 - accuracy: 0.8704 - val_loss: 1.0058 - val_accuracy: 0.8333\n",
      "Epoch 8/100\n",
      "1/1 [==============================] - 0s 119ms/step - loss: 0.9492 - accuracy: 0.8241 - val_loss: 0.9770 - val_accuracy: 0.7500\n",
      "Epoch 9/100\n",
      "1/1 [==============================] - 0s 160ms/step - loss: 0.9078 - accuracy: 0.8148 - val_loss: 0.9441 - val_accuracy: 0.7500\n",
      "Epoch 10/100\n",
      "1/1 [==============================] - 0s 170ms/step - loss: 0.8612 - accuracy: 0.8241 - val_loss: 0.9071 - val_accuracy: 0.7500\n",
      "Epoch 11/100\n",
      "1/1 [==============================] - 0s 157ms/step - loss: 0.8081 - accuracy: 0.8241 - val_loss: 0.8660 - val_accuracy: 0.7500\n",
      "Epoch 12/100\n",
      "1/1 [==============================] - 0s 113ms/step - loss: 0.7505 - accuracy: 0.8148 - val_loss: 0.8199 - val_accuracy: 0.7500\n",
      "Epoch 13/100\n",
      "1/1 [==============================] - 0s 105ms/step - loss: 0.6884 - accuracy: 0.8148 - val_loss: 0.7709 - val_accuracy: 0.6667\n",
      "Epoch 14/100\n",
      "1/1 [==============================] - 0s 151ms/step - loss: 0.6243 - accuracy: 0.8148 - val_loss: 0.7210 - val_accuracy: 0.6667\n",
      "Epoch 15/100\n",
      "1/1 [==============================] - 0s 192ms/step - loss: 0.5615 - accuracy: 0.8148 - val_loss: 0.6709 - val_accuracy: 0.6667\n",
      "Epoch 16/100\n",
      "1/1 [==============================] - 0s 149ms/step - loss: 0.5026 - accuracy: 0.8148 - val_loss: 0.6247 - val_accuracy: 0.6667\n",
      "Epoch 17/100\n",
      "1/1 [==============================] - 0s 195ms/step - loss: 0.4505 - accuracy: 0.8148 - val_loss: 0.5853 - val_accuracy: 0.7500\n",
      "Epoch 18/100\n",
      "1/1 [==============================] - 0s 213ms/step - loss: 0.4061 - accuracy: 0.8241 - val_loss: 0.5585 - val_accuracy: 0.7500\n",
      "Epoch 19/100\n",
      "1/1 [==============================] - 0s 125ms/step - loss: 0.3705 - accuracy: 0.8333 - val_loss: 0.5438 - val_accuracy: 0.7500\n",
      "Epoch 20/100\n",
      "1/1 [==============================] - 0s 184ms/step - loss: 0.3408 - accuracy: 0.8241 - val_loss: 0.5448 - val_accuracy: 0.8333\n",
      "Epoch 21/100\n",
      "1/1 [==============================] - 0s 274ms/step - loss: 0.3146 - accuracy: 0.8333 - val_loss: 0.5687 - val_accuracy: 0.8333\n",
      "Epoch 22/100\n",
      "1/1 [==============================] - 0s 162ms/step - loss: 0.2887 - accuracy: 0.8333 - val_loss: 0.6315 - val_accuracy: 0.9167\n",
      "Epoch 23/100\n",
      "1/1 [==============================] - 0s 178ms/step - loss: 0.2654 - accuracy: 0.8611 - val_loss: 0.6339 - val_accuracy: 0.9167\n",
      "Epoch 24/100\n",
      "1/1 [==============================] - 0s 130ms/step - loss: 0.2451 - accuracy: 0.8796 - val_loss: 0.5690 - val_accuracy: 0.9167\n",
      "Epoch 25/100\n",
      "1/1 [==============================] - 0s 153ms/step - loss: 0.2275 - accuracy: 0.8611 - val_loss: 0.5795 - val_accuracy: 0.9167\n",
      "Epoch 26/100\n",
      "1/1 [==============================] - 0s 176ms/step - loss: 0.2074 - accuracy: 0.8796 - val_loss: 0.6734 - val_accuracy: 0.9167\n",
      "Epoch 27/100\n",
      "1/1 [==============================] - 0s 207ms/step - loss: 0.1903 - accuracy: 0.9630 - val_loss: 0.6539 - val_accuracy: 0.9167\n",
      "Epoch 28/100\n",
      "1/1 [==============================] - 0s 137ms/step - loss: 0.1710 - accuracy: 0.9537 - val_loss: 0.5931 - val_accuracy: 0.9167\n",
      "Epoch 29/100\n",
      "1/1 [==============================] - 0s 154ms/step - loss: 0.1568 - accuracy: 0.9444 - val_loss: 0.6382 - val_accuracy: 0.9167\n",
      "Epoch 30/100\n",
      "1/1 [==============================] - 0s 82ms/step - loss: 0.1386 - accuracy: 0.9537 - val_loss: 0.6973 - val_accuracy: 0.9167\n",
      "Epoch 31/100\n",
      "1/1 [==============================] - 0s 183ms/step - loss: 0.1279 - accuracy: 0.9630 - val_loss: 0.5992 - val_accuracy: 0.9167\n",
      "Epoch 32/100\n",
      "1/1 [==============================] - 0s 186ms/step - loss: 0.1151 - accuracy: 0.9722 - val_loss: 0.6255 - val_accuracy: 0.9167\n",
      "Epoch 33/100\n",
      "1/1 [==============================] - 0s 128ms/step - loss: 0.1039 - accuracy: 0.9722 - val_loss: 0.7224 - val_accuracy: 0.9167\n",
      "Epoch 34/100\n",
      "1/1 [==============================] - 0s 91ms/step - loss: 0.0995 - accuracy: 0.9630 - val_loss: 0.6348 - val_accuracy: 0.9167\n",
      "Epoch 35/100\n",
      "1/1 [==============================] - 0s 155ms/step - loss: 0.0901 - accuracy: 0.9630 - val_loss: 0.6497 - val_accuracy: 0.9167\n",
      "Epoch 36/100\n",
      "1/1 [==============================] - 0s 84ms/step - loss: 0.0843 - accuracy: 0.9630 - val_loss: 0.7862 - val_accuracy: 0.9167\n",
      "Epoch 37/100\n",
      "1/1 [==============================] - 0s 83ms/step - loss: 0.0799 - accuracy: 0.9630 - val_loss: 0.7492 - val_accuracy: 0.9167\n",
      "Epoch 38/100\n",
      "1/1 [==============================] - 0s 81ms/step - loss: 0.0720 - accuracy: 0.9722 - val_loss: 0.7322 - val_accuracy: 0.9167\n",
      "Epoch 39/100\n",
      "1/1 [==============================] - 0s 87ms/step - loss: 0.0680 - accuracy: 0.9722 - val_loss: 0.8611 - val_accuracy: 0.9167\n",
      "Epoch 40/100\n",
      "1/1 [==============================] - 0s 73ms/step - loss: 0.0615 - accuracy: 0.9630 - val_loss: 0.9222 - val_accuracy: 0.9167\n",
      "Epoch 41/100\n",
      "1/1 [==============================] - 0s 84ms/step - loss: 0.0573 - accuracy: 0.9722 - val_loss: 0.8500 - val_accuracy: 0.9167\n",
      "Epoch 42/100\n",
      "1/1 [==============================] - 0s 103ms/step - loss: 0.0537 - accuracy: 0.9722 - val_loss: 0.9395 - val_accuracy: 0.9167\n",
      "Epoch 43/100\n",
      "1/1 [==============================] - 0s 83ms/step - loss: 0.0492 - accuracy: 0.9722 - val_loss: 1.0432 - val_accuracy: 0.9167\n",
      "Epoch 44/100\n",
      "1/1 [==============================] - 0s 96ms/step - loss: 0.0481 - accuracy: 0.9815 - val_loss: 0.9319 - val_accuracy: 0.9167\n",
      "Epoch 45/100\n",
      "1/1 [==============================] - 0s 98ms/step - loss: 0.0458 - accuracy: 0.9815 - val_loss: 1.0035 - val_accuracy: 0.9167\n",
      "Epoch 46/100\n",
      "1/1 [==============================] - 0s 82ms/step - loss: 0.0424 - accuracy: 0.9815 - val_loss: 1.1155 - val_accuracy: 0.9167\n",
      "Epoch 47/100\n",
      "1/1 [==============================] - 0s 84ms/step - loss: 0.0422 - accuracy: 0.9722 - val_loss: 0.9748 - val_accuracy: 0.9167\n",
      "Epoch 48/100\n",
      "1/1 [==============================] - 0s 82ms/step - loss: 0.0398 - accuracy: 0.9815 - val_loss: 1.0456 - val_accuracy: 0.9167\n",
      "Epoch 49/100\n",
      "1/1 [==============================] - 0s 105ms/step - loss: 0.0358 - accuracy: 0.9815 - val_loss: 1.1665 - val_accuracy: 0.9167\n",
      "Epoch 50/100\n",
      "1/1 [==============================] - 0s 78ms/step - loss: 0.0359 - accuracy: 0.9907 - val_loss: 0.9872 - val_accuracy: 0.9167\n",
      "Epoch 51/100\n",
      "1/1 [==============================] - 0s 68ms/step - loss: 0.0336 - accuracy: 0.9815 - val_loss: 1.0495 - val_accuracy: 0.9167\n",
      "Epoch 52/100\n",
      "1/1 [==============================] - 0s 99ms/step - loss: 0.0298 - accuracy: 0.9907 - val_loss: 1.1845 - val_accuracy: 0.9167\n",
      "Epoch 53/100\n",
      "1/1 [==============================] - 0s 119ms/step - loss: 0.0310 - accuracy: 0.9907 - val_loss: 0.9761 - val_accuracy: 0.9167\n",
      "Epoch 54/100\n",
      "1/1 [==============================] - 0s 111ms/step - loss: 0.0286 - accuracy: 0.9907 - val_loss: 1.0191 - val_accuracy: 0.9167\n",
      "Epoch 55/100\n",
      "1/1 [==============================] - 0s 90ms/step - loss: 0.0258 - accuracy: 0.9907 - val_loss: 1.1935 - val_accuracy: 0.9167\n",
      "Epoch 56/100\n",
      "1/1 [==============================] - 0s 75ms/step - loss: 0.0273 - accuracy: 0.9907 - val_loss: 1.0026 - val_accuracy: 0.9167\n",
      "Epoch 57/100\n",
      "1/1 [==============================] - 0s 69ms/step - loss: 0.0239 - accuracy: 0.9907 - val_loss: 1.0225 - val_accuracy: 0.9167\n",
      "Epoch 58/100\n",
      "1/1 [==============================] - 0s 85ms/step - loss: 0.0223 - accuracy: 0.9907 - val_loss: 1.2156 - val_accuracy: 0.9167\n",
      "Epoch 59/100\n",
      "1/1 [==============================] - 0s 84ms/step - loss: 0.0225 - accuracy: 0.9907 - val_loss: 1.0902 - val_accuracy: 0.9167\n",
      "Epoch 60/100\n",
      "1/1 [==============================] - 0s 127ms/step - loss: 0.0191 - accuracy: 1.0000 - val_loss: 1.0728 - val_accuracy: 0.9167\n",
      "Epoch 61/100\n",
      "1/1 [==============================] - 0s 96ms/step - loss: 0.0189 - accuracy: 1.0000 - val_loss: 1.2483 - val_accuracy: 0.9167\n",
      "Epoch 62/100\n",
      "1/1 [==============================] - 0s 132ms/step - loss: 0.0178 - accuracy: 1.0000 - val_loss: 1.2065 - val_accuracy: 0.9167\n",
      "Epoch 63/100\n",
      "1/1 [==============================] - 0s 142ms/step - loss: 0.0156 - accuracy: 1.0000 - val_loss: 1.1458 - val_accuracy: 0.9167\n",
      "Epoch 64/100\n",
      "1/1 [==============================] - 0s 65ms/step - loss: 0.0155 - accuracy: 1.0000 - val_loss: 1.2710 - val_accuracy: 0.9167\n",
      "Epoch 65/100\n",
      "1/1 [==============================] - 0s 81ms/step - loss: 0.0135 - accuracy: 1.0000 - val_loss: 1.3273 - val_accuracy: 0.9167\n",
      "Epoch 66/100\n",
      "1/1 [==============================] - 0s 90ms/step - loss: 0.0129 - accuracy: 1.0000 - val_loss: 1.2406 - val_accuracy: 0.9167\n",
      "Epoch 67/100\n",
      "1/1 [==============================] - 0s 92ms/step - loss: 0.0120 - accuracy: 1.0000 - val_loss: 1.2955 - val_accuracy: 0.9167\n",
      "Epoch 68/100\n",
      "1/1 [==============================] - 0s 97ms/step - loss: 0.0106 - accuracy: 1.0000 - val_loss: 1.4043 - val_accuracy: 0.9167\n",
      "Epoch 69/100\n",
      "1/1 [==============================] - 0s 113ms/step - loss: 0.0104 - accuracy: 1.0000 - val_loss: 1.3587 - val_accuracy: 0.9167\n",
      "Epoch 70/100\n",
      "1/1 [==============================] - 0s 73ms/step - loss: 0.0089 - accuracy: 1.0000 - val_loss: 1.3357 - val_accuracy: 0.9167\n",
      "Epoch 71/100\n",
      "1/1 [==============================] - 0s 95ms/step - loss: 0.0085 - accuracy: 1.0000 - val_loss: 1.4251 - val_accuracy: 0.9167\n",
      "Epoch 72/100\n",
      "1/1 [==============================] - 0s 91ms/step - loss: 0.0075 - accuracy: 1.0000 - val_loss: 1.4895 - val_accuracy: 0.9167\n",
      "Epoch 73/100\n",
      "1/1 [==============================] - 0s 142ms/step - loss: 0.0072 - accuracy: 1.0000 - val_loss: 1.4595 - val_accuracy: 0.9167\n",
      "Epoch 74/100\n",
      "1/1 [==============================] - 0s 97ms/step - loss: 0.0063 - accuracy: 1.0000 - val_loss: 1.4659 - val_accuracy: 0.9167\n",
      "Epoch 75/100\n",
      "1/1 [==============================] - 0s 61ms/step - loss: 0.0059 - accuracy: 1.0000 - val_loss: 1.5527 - val_accuracy: 0.9167\n",
      "Epoch 76/100\n",
      "1/1 [==============================] - 0s 96ms/step - loss: 0.0051 - accuracy: 1.0000 - val_loss: 1.6236 - val_accuracy: 0.9167\n",
      "Epoch 77/100\n",
      "1/1 [==============================] - 0s 89ms/step - loss: 0.0048 - accuracy: 1.0000 - val_loss: 1.6242 - val_accuracy: 0.9167\n",
      "Epoch 78/100\n",
      "1/1 [==============================] - 0s 77ms/step - loss: 0.0043 - accuracy: 1.0000 - val_loss: 1.6275 - val_accuracy: 0.9167\n",
      "Epoch 79/100\n",
      "1/1 [==============================] - 0s 83ms/step - loss: 0.0040 - accuracy: 1.0000 - val_loss: 1.6879 - val_accuracy: 0.9167\n",
      "Epoch 80/100\n",
      "1/1 [==============================] - 0s 118ms/step - loss: 0.0035 - accuracy: 1.0000 - val_loss: 1.7626 - val_accuracy: 0.9167\n",
      "Epoch 81/100\n",
      "1/1 [==============================] - 0s 119ms/step - loss: 0.0033 - accuracy: 1.0000 - val_loss: 1.7964 - val_accuracy: 0.9167\n",
      "Epoch 82/100\n",
      "1/1 [==============================] - 0s 74ms/step - loss: 0.0030 - accuracy: 1.0000 - val_loss: 1.7936 - val_accuracy: 0.9167\n",
      "Epoch 83/100\n",
      "1/1 [==============================] - 0s 178ms/step - loss: 0.0027 - accuracy: 1.0000 - val_loss: 1.7981 - val_accuracy: 0.9167\n",
      "Epoch 84/100\n",
      "1/1 [==============================] - 0s 100ms/step - loss: 0.0025 - accuracy: 1.0000 - val_loss: 1.8350 - val_accuracy: 0.9167\n",
      "Epoch 85/100\n",
      "1/1 [==============================] - 0s 119ms/step - loss: 0.0023 - accuracy: 1.0000 - val_loss: 1.8860 - val_accuracy: 0.9167\n",
      "Epoch 86/100\n",
      "1/1 [==============================] - 0s 77ms/step - loss: 0.0021 - accuracy: 1.0000 - val_loss: 1.9216 - val_accuracy: 0.9167\n",
      "Epoch 87/100\n",
      "1/1 [==============================] - 0s 151ms/step - loss: 0.0020 - accuracy: 1.0000 - val_loss: 1.9282 - val_accuracy: 0.9167\n",
      "Epoch 88/100\n",
      "1/1 [==============================] - 0s 110ms/step - loss: 0.0018 - accuracy: 1.0000 - val_loss: 1.9208 - val_accuracy: 0.9167\n",
      "Epoch 89/100\n",
      "1/1 [==============================] - 0s 78ms/step - loss: 0.0017 - accuracy: 1.0000 - val_loss: 1.9242 - val_accuracy: 0.9167\n",
      "Epoch 90/100\n",
      "1/1 [==============================] - 0s 122ms/step - loss: 0.0016 - accuracy: 1.0000 - val_loss: 1.9458 - val_accuracy: 0.9167\n",
      "Epoch 91/100\n",
      "1/1 [==============================] - 0s 90ms/step - loss: 0.0015 - accuracy: 1.0000 - val_loss: 1.9747 - val_accuracy: 0.9167\n",
      "Epoch 92/100\n",
      "1/1 [==============================] - 0s 109ms/step - loss: 0.0014 - accuracy: 1.0000 - val_loss: 1.9935 - val_accuracy: 0.9167\n",
      "Epoch 93/100\n",
      "1/1 [==============================] - 0s 65ms/step - loss: 0.0013 - accuracy: 1.0000 - val_loss: 1.9976 - val_accuracy: 0.9167\n",
      "Epoch 94/100\n",
      "1/1 [==============================] - 0s 147ms/step - loss: 0.0012 - accuracy: 1.0000 - val_loss: 1.9918 - val_accuracy: 0.9167\n",
      "Epoch 95/100\n",
      "1/1 [==============================] - 0s 74ms/step - loss: 0.0011 - accuracy: 1.0000 - val_loss: 1.9864 - val_accuracy: 0.9167\n",
      "Epoch 96/100\n",
      "1/1 [==============================] - 0s 82ms/step - loss: 0.0011 - accuracy: 1.0000 - val_loss: 1.9911 - val_accuracy: 0.9167\n",
      "Epoch 97/100\n",
      "1/1 [==============================] - 0s 89ms/step - loss: 0.0010 - accuracy: 1.0000 - val_loss: 2.0064 - val_accuracy: 0.9167\n",
      "Epoch 98/100\n",
      "1/1 [==============================] - 0s 89ms/step - loss: 9.5325e-04 - accuracy: 1.0000 - val_loss: 2.0254 - val_accuracy: 0.9167\n",
      "Epoch 99/100\n",
      "1/1 [==============================] - 0s 81ms/step - loss: 9.0380e-04 - accuracy: 1.0000 - val_loss: 2.0386 - val_accuracy: 0.9167\n",
      "Epoch 100/100\n",
      "1/1 [==============================] - 0s 115ms/step - loss: 8.6642e-04 - accuracy: 1.0000 - val_loss: 2.0428 - val_accuracy: 0.9167\n"
     ]
    },
    {
     "data": {
      "text/plain": [
       "<keras.callbacks.History at 0x7f895055e490>"
      ]
     },
     "execution_count": 10,
     "metadata": {},
     "output_type": "execute_result"
    }
   ],
   "source": [
    "model1.compile(optimizer='adam',\n",
    "              loss='categorical_crossentropy',\n",
    "              metrics=['accuracy'])\n",
    "\n",
    "\n",
    "model1.fit(x_train, y_train, validation_split=0.1 , epochs= 100, batch_size=128)"
   ]
  },
  {
   "cell_type": "code",
   "execution_count": 11,
   "metadata": {
    "colab": {
     "base_uri": "https://localhost:8080/"
    },
    "id": "WF-t-Uw37_Lt",
    "outputId": "e94ed878-fa20-4ed2-ec00-e13caa9fc17f"
   },
   "outputs": [
    {
     "name": "stdout",
     "output_type": "stream",
     "text": [
      "Model: \"sequential\"\n",
      "_________________________________________________________________\n",
      " Layer (type)                Output Shape              Param #   \n",
      "=================================================================\n",
      " dense (Dense)               (None, 16)                80        \n",
      "                                                                 \n",
      " dense_1 (Dense)             (None, 32)                544       \n",
      "                                                                 \n",
      " dense_2 (Dense)             (None, 64)                2112      \n",
      "                                                                 \n",
      " dense_3 (Dense)             (None, 128)               8320      \n",
      "                                                                 \n",
      " dense_4 (Dense)             (None, 256)               33024     \n",
      "                                                                 \n",
      " dense_5 (Dense)             (None, 128)               32896     \n",
      "                                                                 \n",
      " dense_6 (Dense)             (None, 64)                8256      \n",
      "                                                                 \n",
      " dense_7 (Dense)             (None, 32)                2080      \n",
      "                                                                 \n",
      " dense_8 (Dense)             (None, 16)                528       \n",
      "                                                                 \n",
      " dense_9 (Dense)             (None, 3)                 51        \n",
      "                                                                 \n",
      "=================================================================\n",
      "Total params: 87,891\n",
      "Trainable params: 87,891\n",
      "Non-trainable params: 0\n",
      "_________________________________________________________________\n"
     ]
    }
   ],
   "source": [
    "model1.summary()"
   ]
  },
  {
   "cell_type": "code",
   "execution_count": 12,
   "metadata": {
    "colab": {
     "base_uri": "https://localhost:8080/",
     "height": 281
    },
    "id": "scslTQiVLlSH",
    "outputId": "f72ce2c1-fd3b-4a69-f44e-584b1fca7920"
   },
   "outputs": [
    {
     "data": {
      "image/png": "[encoded data removed]",
      "text/plain": [
       "<Figure size 432x288 with 1 Axes>"
      ]
     },
     "metadata": {
      "needs_background": "light"
     },
     "output_type": "display_data"
    }
   ],
   "source": [
    "plt.plot(model1.history.history['accuracy'])\n",
    "plt.plot(model1.history.history['val_accuracy'])\n",
    "plt.title(\"Accuracy\")\n",
    "plt.legend(['train', 'validation'])\n",
    "plt.show()"
   ]
  },
  {
   "cell_type": "code",
   "execution_count": 13,
   "metadata": {
    "colab": {
     "base_uri": "https://localhost:8080/",
     "height": 281
    },
    "id": "OeeXBjmZLlLa",
    "outputId": "75b77ab7-65af-42d3-f623-8a7bea5239c2"
   },
   "outputs": [
    {
     "data": {
      "image/png": "[encoded data removed]",
      "text/plain": [
       "<Figure size 432x288 with 1 Axes>"
      ]
     },
     "metadata": {
      "needs_background": "light"
     },
     "output_type": "display_data"
    }
   ],
   "source": [
    "plt.plot(model1.history.history['loss'])\n",
    "plt.plot(model1.history.history['val_loss'])\n",
    "plt.title(\"Loss\")\n",
    "plt.legend(['Train','validation'])\n",
    "plt.show()"
   ]
  },
  {
   "cell_type": "code",
   "execution_count": 14,
   "metadata": {
    "colab": {
     "base_uri": "https://localhost:8080/"
    },
    "id": "Y_Jk7wjWDJBk",
    "outputId": "44e53be4-4346-4d18-d415-7ac3832d6d5b"
   },
   "outputs": [
    {
     "name": "stdout",
     "output_type": "stream",
     "text": [
      "1/1 [==============================] - 0s 47ms/step - loss: 0.0556 - accuracy: 0.9667\n",
      "Test accuracy:  0.9666666388511658\n",
      "1/1 [==============================] - 0s 304ms/step\n"
     ]
    }
   ],
   "source": [
    "test_loss, test_acc = model1.evaluate(x_test, y_test)\n",
    "print(\"Test accuracy: \", test_acc)\n",
    "\n",
    "test_predictions = model1.predict(x_test)"
   ]
  },
  {
   "cell_type": "markdown",
   "metadata": {
    "id": "zQr1KbrAEFzo"
   },
   "source": [
    "#2"
   ]
  },
  {
   "cell_type": "code",
   "execution_count": 15,
   "metadata": {
    "id": "DP5-uyFHEFzo"
   },
   "outputs": [],
   "source": [
    "model2 = tf.keras.Sequential([\n",
    "    tf.keras.layers.Dense(16, activation=tf.nn.relu, input_shape=(4,)),\n",
    "    tf.keras.layers.Dropout(0.5),\n",
    "    tf.keras.layers.Dense(32, activation=tf.nn.relu),\n",
    "    tf.keras.layers.Dense(64, activation=tf.nn.relu),\n",
    "    tf.keras.layers.Dense(128, activation=tf.nn.relu),\n",
    "    tf.keras.layers.Dropout(0.4),\n",
    "    tf.keras.layers.Dense(256, activation=tf.nn.relu),\n",
    "    tf.keras.layers.Dense(128, activation=tf.nn.relu),\n",
    "    tf.keras.layers.Dense(64, activation=tf.nn.relu),\n",
    "    tf.keras.layers.Dropout(0.2),\n",
    "    tf.keras.layers.Dense(32, activation=tf.nn.relu),\n",
    "    tf.keras.layers.Dense(16, activation=tf.nn.relu),\n",
    "    tf.keras.layers.Dense(3, activation=tf.nn.softmax)\n",
    "])"
   ]
  },
  {
   "cell_type": "code",
   "execution_count": 16,
   "metadata": {
    "colab": {
     "base_uri": "https://localhost:8080/"
    },
    "id": "3iq_UAxEIeG8",
    "outputId": "1dc4f397-fd8d-4d85-8181-665d84e278f0"
   },
   "outputs": [
    {
     "name": "stdout",
     "output_type": "stream",
     "text": [
      "Epoch 1/100\n",
      "1/1 [==============================] - 2s 2s/step - loss: 1.0942 - accuracy: 0.4167 - val_loss: 1.0804 - val_accuracy: 0.2500\n",
      "Epoch 2/100\n",
      "1/1 [==============================] - 0s 47ms/step - loss: 1.0730 - accuracy: 0.4375 - val_loss: 1.0719 - val_accuracy: 0.2083\n",
      "Epoch 3/100\n",
      "1/1 [==============================] - 0s 44ms/step - loss: 1.0532 - accuracy: 0.3854 - val_loss: 1.0610 - val_accuracy: 0.2083\n",
      "Epoch 4/100\n",
      "1/1 [==============================] - 0s 50ms/step - loss: 1.0311 - accuracy: 0.3854 - val_loss: 1.0466 - val_accuracy: 0.2917\n",
      "Epoch 5/100\n",
      "1/1 [==============================] - 0s 47ms/step - loss: 1.0032 - accuracy: 0.4062 - val_loss: 1.0297 - val_accuracy: 0.3333\n",
      "Epoch 6/100\n",
      "1/1 [==============================] - 0s 41ms/step - loss: 0.9860 - accuracy: 0.3958 - val_loss: 1.0102 - val_accuracy: 0.3750\n",
      "Epoch 7/100\n",
      "1/1 [==============================] - 0s 61ms/step - loss: 0.9559 - accuracy: 0.4271 - val_loss: 0.9875 - val_accuracy: 0.4167\n",
      "Epoch 8/100\n",
      "1/1 [==============================] - 0s 44ms/step - loss: 0.9000 - accuracy: 0.4896 - val_loss: 0.9621 - val_accuracy: 0.4583\n",
      "Epoch 9/100\n",
      "1/1 [==============================] - 0s 47ms/step - loss: 0.8864 - accuracy: 0.5208 - val_loss: 0.9351 - val_accuracy: 0.4583\n",
      "Epoch 10/100\n",
      "1/1 [==============================] - 0s 52ms/step - loss: 0.8610 - accuracy: 0.5729 - val_loss: 0.9087 - val_accuracy: 0.4583\n",
      "Epoch 11/100\n",
      "1/1 [==============================] - 0s 47ms/step - loss: 0.8155 - accuracy: 0.6042 - val_loss: 0.8829 - val_accuracy: 0.5000\n",
      "Epoch 12/100\n",
      "1/1 [==============================] - 0s 47ms/step - loss: 0.8021 - accuracy: 0.6875 - val_loss: 0.8588 - val_accuracy: 0.5000\n",
      "Epoch 13/100\n",
      "1/1 [==============================] - 0s 53ms/step - loss: 0.7498 - accuracy: 0.6771 - val_loss: 0.8389 - val_accuracy: 0.5000\n",
      "Epoch 14/100\n",
      "1/1 [==============================] - 0s 43ms/step - loss: 0.7086 - accuracy: 0.6979 - val_loss: 0.8250 - val_accuracy: 0.5000\n",
      "Epoch 15/100\n",
      "1/1 [==============================] - 0s 42ms/step - loss: 0.7096 - accuracy: 0.6771 - val_loss: 0.8140 - val_accuracy: 0.5000\n",
      "Epoch 16/100\n",
      "1/1 [==============================] - 0s 42ms/step - loss: 0.6520 - accuracy: 0.7188 - val_loss: 0.8028 - val_accuracy: 0.5000\n",
      "Epoch 17/100\n",
      "1/1 [==============================] - 0s 45ms/step - loss: 0.6699 - accuracy: 0.7083 - val_loss: 0.7906 - val_accuracy: 0.5000\n",
      "Epoch 18/100\n",
      "1/1 [==============================] - 0s 42ms/step - loss: 0.6870 - accuracy: 0.6875 - val_loss: 0.7779 - val_accuracy: 0.5000\n",
      "Epoch 19/100\n",
      "1/1 [==============================] - 0s 42ms/step - loss: 0.6307 - accuracy: 0.7188 - val_loss: 0.7646 - val_accuracy: 0.5000\n",
      "Epoch 20/100\n",
      "1/1 [==============================] - 0s 43ms/step - loss: 0.6474 - accuracy: 0.6875 - val_loss: 0.7514 - val_accuracy: 0.5000\n",
      "Epoch 21/100\n",
      "1/1 [==============================] - 0s 51ms/step - loss: 0.6136 - accuracy: 0.7083 - val_loss: 0.7385 - val_accuracy: 0.5000\n",
      "Epoch 22/100\n",
      "1/1 [==============================] - 0s 42ms/step - loss: 0.5734 - accuracy: 0.7292 - val_loss: 0.7251 - val_accuracy: 0.5000\n",
      "Epoch 23/100\n",
      "1/1 [==============================] - 0s 64ms/step - loss: 0.5784 - accuracy: 0.6979 - val_loss: 0.7109 - val_accuracy: 0.5000\n",
      "Epoch 24/100\n",
      "1/1 [==============================] - 0s 51ms/step - loss: 0.5710 - accuracy: 0.6979 - val_loss: 0.6959 - val_accuracy: 0.5000\n",
      "Epoch 25/100\n",
      "1/1 [==============================] - 0s 43ms/step - loss: 0.5462 - accuracy: 0.7083 - val_loss: 0.6806 - val_accuracy: 0.5000\n",
      "Epoch 26/100\n",
      "1/1 [==============================] - 0s 49ms/step - loss: 0.5641 - accuracy: 0.6979 - val_loss: 0.6638 - val_accuracy: 0.5000\n",
      "Epoch 27/100\n",
      "1/1 [==============================] - 0s 45ms/step - loss: 0.5076 - accuracy: 0.7292 - val_loss: 0.6458 - val_accuracy: 0.5000\n",
      "Epoch 28/100\n",
      "1/1 [==============================] - 0s 44ms/step - loss: 0.5645 - accuracy: 0.7292 - val_loss: 0.6267 - val_accuracy: 0.5000\n",
      "Epoch 29/100\n",
      "1/1 [==============================] - 0s 61ms/step - loss: 0.5130 - accuracy: 0.6979 - val_loss: 0.6072 - val_accuracy: 0.5000\n",
      "Epoch 30/100\n",
      "1/1 [==============================] - 0s 62ms/step - loss: 0.4877 - accuracy: 0.7500 - val_loss: 0.5878 - val_accuracy: 0.5000\n",
      "Epoch 31/100\n",
      "1/1 [==============================] - 0s 44ms/step - loss: 0.5060 - accuracy: 0.6979 - val_loss: 0.5710 - val_accuracy: 0.5417\n",
      "Epoch 32/100\n",
      "1/1 [==============================] - 0s 44ms/step - loss: 0.4767 - accuracy: 0.7917 - val_loss: 0.5565 - val_accuracy: 0.8333\n",
      "Epoch 33/100\n",
      "1/1 [==============================] - 0s 50ms/step - loss: 0.4855 - accuracy: 0.6875 - val_loss: 0.5482 - val_accuracy: 0.7917\n",
      "Epoch 34/100\n",
      "1/1 [==============================] - 0s 46ms/step - loss: 0.4617 - accuracy: 0.7604 - val_loss: 0.5393 - val_accuracy: 0.7500\n",
      "Epoch 35/100\n",
      "1/1 [==============================] - 0s 46ms/step - loss: 0.4544 - accuracy: 0.7083 - val_loss: 0.5349 - val_accuracy: 0.7500\n",
      "Epoch 36/100\n",
      "1/1 [==============================] - 0s 48ms/step - loss: 0.5175 - accuracy: 0.7292 - val_loss: 0.5353 - val_accuracy: 0.7917\n",
      "Epoch 37/100\n",
      "1/1 [==============================] - 0s 42ms/step - loss: 0.4433 - accuracy: 0.7396 - val_loss: 0.5409 - val_accuracy: 0.8333\n",
      "Epoch 38/100\n",
      "1/1 [==============================] - 0s 51ms/step - loss: 0.4453 - accuracy: 0.7188 - val_loss: 0.5516 - val_accuracy: 0.5000\n",
      "Epoch 39/100\n",
      "1/1 [==============================] - 0s 44ms/step - loss: 0.4561 - accuracy: 0.7500 - val_loss: 0.5637 - val_accuracy: 0.5000\n",
      "Epoch 40/100\n",
      "1/1 [==============================] - 0s 45ms/step - loss: 0.4640 - accuracy: 0.6875 - val_loss: 0.5813 - val_accuracy: 0.5000\n",
      "Epoch 41/100\n",
      "1/1 [==============================] - 0s 42ms/step - loss: 0.4603 - accuracy: 0.7396 - val_loss: 0.5983 - val_accuracy: 0.5000\n",
      "Epoch 42/100\n",
      "1/1 [==============================] - 0s 41ms/step - loss: 0.4557 - accuracy: 0.7500 - val_loss: 0.6041 - val_accuracy: 0.5000\n",
      "Epoch 43/100\n",
      "1/1 [==============================] - 0s 58ms/step - loss: 0.4626 - accuracy: 0.7083 - val_loss: 0.5997 - val_accuracy: 0.5000\n",
      "Epoch 44/100\n",
      "1/1 [==============================] - 0s 48ms/step - loss: 0.4471 - accuracy: 0.7292 - val_loss: 0.5884 - val_accuracy: 0.5000\n",
      "Epoch 45/100\n",
      "1/1 [==============================] - 0s 63ms/step - loss: 0.4773 - accuracy: 0.7188 - val_loss: 0.5708 - val_accuracy: 0.5000\n",
      "Epoch 46/100\n",
      "1/1 [==============================] - 0s 46ms/step - loss: 0.4310 - accuracy: 0.7604 - val_loss: 0.5485 - val_accuracy: 0.5417\n",
      "Epoch 47/100\n",
      "1/1 [==============================] - 0s 53ms/step - loss: 0.5083 - accuracy: 0.6979 - val_loss: 0.5298 - val_accuracy: 0.7500\n",
      "Epoch 48/100\n",
      "1/1 [==============================] - 0s 53ms/step - loss: 0.4896 - accuracy: 0.6979 - val_loss: 0.5169 - val_accuracy: 0.7917\n",
      "Epoch 49/100\n",
      "1/1 [==============================] - 0s 46ms/step - loss: 0.4224 - accuracy: 0.8021 - val_loss: 0.5096 - val_accuracy: 0.7917\n",
      "Epoch 50/100\n",
      "1/1 [==============================] - 0s 45ms/step - loss: 0.4095 - accuracy: 0.7292 - val_loss: 0.5096 - val_accuracy: 0.7917\n",
      "Epoch 51/100\n",
      "1/1 [==============================] - 0s 43ms/step - loss: 0.4274 - accuracy: 0.7292 - val_loss: 0.5142 - val_accuracy: 0.7917\n",
      "Epoch 52/100\n",
      "1/1 [==============================] - 0s 45ms/step - loss: 0.4673 - accuracy: 0.7812 - val_loss: 0.5188 - val_accuracy: 0.7917\n",
      "Epoch 53/100\n",
      "1/1 [==============================] - 0s 44ms/step - loss: 0.4144 - accuracy: 0.7500 - val_loss: 0.5285 - val_accuracy: 0.7500\n",
      "Epoch 54/100\n",
      "1/1 [==============================] - 0s 42ms/step - loss: 0.4442 - accuracy: 0.7812 - val_loss: 0.5300 - val_accuracy: 0.7083\n",
      "Epoch 55/100\n",
      "1/1 [==============================] - 0s 42ms/step - loss: 0.3925 - accuracy: 0.7604 - val_loss: 0.5276 - val_accuracy: 0.7083\n",
      "Epoch 56/100\n",
      "1/1 [==============================] - 0s 53ms/step - loss: 0.4031 - accuracy: 0.8125 - val_loss: 0.5159 - val_accuracy: 0.7500\n",
      "Epoch 57/100\n",
      "1/1 [==============================] - 0s 40ms/step - loss: 0.4160 - accuracy: 0.7917 - val_loss: 0.5152 - val_accuracy: 0.7500\n",
      "Epoch 58/100\n",
      "1/1 [==============================] - 0s 44ms/step - loss: 0.3901 - accuracy: 0.7708 - val_loss: 0.5013 - val_accuracy: 0.7917\n",
      "Epoch 59/100\n",
      "1/1 [==============================] - 0s 45ms/step - loss: 0.4170 - accuracy: 0.7708 - val_loss: 0.4930 - val_accuracy: 0.7917\n",
      "Epoch 60/100\n",
      "1/1 [==============================] - 0s 42ms/step - loss: 0.3820 - accuracy: 0.8229 - val_loss: 0.4951 - val_accuracy: 0.7917\n",
      "Epoch 61/100\n",
      "1/1 [==============================] - 0s 42ms/step - loss: 0.3904 - accuracy: 0.8021 - val_loss: 0.5127 - val_accuracy: 0.7083\n",
      "Epoch 62/100\n",
      "1/1 [==============================] - 0s 44ms/step - loss: 0.3346 - accuracy: 0.8750 - val_loss: 0.5242 - val_accuracy: 0.7083\n",
      "Epoch 63/100\n",
      "1/1 [==============================] - 0s 42ms/step - loss: 0.4798 - accuracy: 0.7708 - val_loss: 0.5625 - val_accuracy: 0.5833\n",
      "Epoch 64/100\n",
      "1/1 [==============================] - 0s 43ms/step - loss: 0.3601 - accuracy: 0.8125 - val_loss: 0.5787 - val_accuracy: 0.5417\n",
      "Epoch 65/100\n",
      "1/1 [==============================] - 0s 63ms/step - loss: 0.4305 - accuracy: 0.8021 - val_loss: 0.5562 - val_accuracy: 0.5833\n",
      "Epoch 66/100\n",
      "1/1 [==============================] - 0s 47ms/step - loss: 0.4349 - accuracy: 0.8333 - val_loss: 0.5042 - val_accuracy: 0.7083\n",
      "Epoch 67/100\n",
      "1/1 [==============================] - 0s 45ms/step - loss: 0.5728 - accuracy: 0.7917 - val_loss: 0.4519 - val_accuracy: 0.7500\n",
      "Epoch 68/100\n",
      "1/1 [==============================] - 0s 61ms/step - loss: 0.3550 - accuracy: 0.8021 - val_loss: 0.4488 - val_accuracy: 0.7500\n",
      "Epoch 69/100\n",
      "1/1 [==============================] - 0s 44ms/step - loss: 0.3206 - accuracy: 0.8333 - val_loss: 0.4703 - val_accuracy: 0.7500\n",
      "Epoch 70/100\n",
      "1/1 [==============================] - 0s 50ms/step - loss: 0.3589 - accuracy: 0.8125 - val_loss: 0.5205 - val_accuracy: 0.6667\n",
      "Epoch 71/100\n",
      "1/1 [==============================] - 0s 44ms/step - loss: 0.3747 - accuracy: 0.8021 - val_loss: 0.5536 - val_accuracy: 0.5833\n",
      "Epoch 72/100\n",
      "1/1 [==============================] - 0s 65ms/step - loss: 0.3949 - accuracy: 0.8229 - val_loss: 0.5644 - val_accuracy: 0.5833\n",
      "Epoch 73/100\n",
      "1/1 [==============================] - 0s 43ms/step - loss: 0.3759 - accuracy: 0.8333 - val_loss: 0.5541 - val_accuracy: 0.6250\n",
      "Epoch 74/100\n",
      "1/1 [==============================] - 0s 41ms/step - loss: 0.3215 - accuracy: 0.8750 - val_loss: 0.5362 - val_accuracy: 0.6250\n",
      "Epoch 75/100\n",
      "1/1 [==============================] - 0s 41ms/step - loss: 0.3450 - accuracy: 0.8646 - val_loss: 0.5118 - val_accuracy: 0.6667\n",
      "Epoch 76/100\n",
      "1/1 [==============================] - 0s 42ms/step - loss: 0.3938 - accuracy: 0.7812 - val_loss: 0.5248 - val_accuracy: 0.6667\n",
      "Epoch 77/100\n",
      "1/1 [==============================] - 0s 41ms/step - loss: 0.3797 - accuracy: 0.8333 - val_loss: 0.5337 - val_accuracy: 0.6250\n",
      "Epoch 78/100\n",
      "1/1 [==============================] - 0s 46ms/step - loss: 0.3135 - accuracy: 0.8958 - val_loss: 0.5527 - val_accuracy: 0.6250\n",
      "Epoch 79/100\n",
      "1/1 [==============================] - 0s 45ms/step - loss: 0.3466 - accuracy: 0.8542 - val_loss: 0.5564 - val_accuracy: 0.6250\n",
      "Epoch 80/100\n",
      "1/1 [==============================] - 0s 45ms/step - loss: 0.3359 - accuracy: 0.8333 - val_loss: 0.5476 - val_accuracy: 0.6250\n",
      "Epoch 81/100\n",
      "1/1 [==============================] - 0s 44ms/step - loss: 0.4089 - accuracy: 0.8021 - val_loss: 0.5824 - val_accuracy: 0.5833\n",
      "Epoch 82/100\n",
      "1/1 [==============================] - 0s 44ms/step - loss: 0.3904 - accuracy: 0.8542 - val_loss: 0.6158 - val_accuracy: 0.5833\n",
      "Epoch 83/100\n",
      "1/1 [==============================] - 0s 51ms/step - loss: 0.3445 - accuracy: 0.8542 - val_loss: 0.6172 - val_accuracy: 0.5833\n",
      "Epoch 84/100\n",
      "1/1 [==============================] - 0s 45ms/step - loss: 0.3525 - accuracy: 0.8438 - val_loss: 0.6046 - val_accuracy: 0.5833\n",
      "Epoch 85/100\n",
      "1/1 [==============================] - 0s 45ms/step - loss: 0.2905 - accuracy: 0.8854 - val_loss: 0.5744 - val_accuracy: 0.5833\n",
      "Epoch 86/100\n",
      "1/1 [==============================] - 0s 44ms/step - loss: 0.2871 - accuracy: 0.8854 - val_loss: 0.5268 - val_accuracy: 0.6667\n",
      "Epoch 87/100\n",
      "1/1 [==============================] - 0s 44ms/step - loss: 0.3373 - accuracy: 0.8750 - val_loss: 0.4767 - val_accuracy: 0.7083\n",
      "Epoch 88/100\n",
      "1/1 [==============================] - 0s 55ms/step - loss: 0.3687 - accuracy: 0.8438 - val_loss: 0.4475 - val_accuracy: 0.7500\n",
      "Epoch 89/100\n",
      "1/1 [==============================] - 0s 43ms/step - loss: 0.3599 - accuracy: 0.8125 - val_loss: 0.4547 - val_accuracy: 0.7500\n",
      "Epoch 90/100\n",
      "1/1 [==============================] - 0s 42ms/step - loss: 0.3298 - accuracy: 0.8229 - val_loss: 0.5017 - val_accuracy: 0.6667\n",
      "Epoch 91/100\n",
      "1/1 [==============================] - 0s 45ms/step - loss: 0.4063 - accuracy: 0.8333 - val_loss: 0.5861 - val_accuracy: 0.5833\n",
      "Epoch 92/100\n",
      "1/1 [==============================] - 0s 46ms/step - loss: 0.3103 - accuracy: 0.8542 - val_loss: 0.6564 - val_accuracy: 0.5833\n",
      "Epoch 93/100\n",
      "1/1 [==============================] - 0s 66ms/step - loss: 0.3692 - accuracy: 0.8229 - val_loss: 0.6836 - val_accuracy: 0.5833\n",
      "Epoch 94/100\n",
      "1/1 [==============================] - 0s 63ms/step - loss: 0.3678 - accuracy: 0.8021 - val_loss: 0.6617 - val_accuracy: 0.5833\n",
      "Epoch 95/100\n",
      "1/1 [==============================] - 0s 43ms/step - loss: 0.3055 - accuracy: 0.8750 - val_loss: 0.6142 - val_accuracy: 0.5833\n",
      "Epoch 96/100\n",
      "1/1 [==============================] - 0s 45ms/step - loss: 0.3008 - accuracy: 0.8646 - val_loss: 0.5442 - val_accuracy: 0.6667\n",
      "Epoch 97/100\n",
      "1/1 [==============================] - 0s 41ms/step - loss: 0.2514 - accuracy: 0.9271 - val_loss: 0.4863 - val_accuracy: 0.6667\n",
      "Epoch 98/100\n",
      "1/1 [==============================] - 0s 42ms/step - loss: 0.2999 - accuracy: 0.8854 - val_loss: 0.4753 - val_accuracy: 0.7083\n",
      "Epoch 99/100\n",
      "1/1 [==============================] - 0s 52ms/step - loss: 0.3410 - accuracy: 0.8750 - val_loss: 0.5086 - val_accuracy: 0.6667\n",
      "Epoch 100/100\n",
      "1/1 [==============================] - 0s 45ms/step - loss: 0.2857 - accuracy: 0.8542 - val_loss: 0.5805 - val_accuracy: 0.6250\n"
     ]
    },
    {
     "data": {
      "text/plain": [
       "<keras.callbacks.History at 0x7f894ae48d30>"
      ]
     },
     "execution_count": 16,
     "metadata": {},
     "output_type": "execute_result"
    }
   ],
   "source": [
    "model2.compile(optimizer='adam',\n",
    "              loss='categorical_crossentropy',\n",
    "              metrics=['accuracy'])\n",
    "\n",
    "\n",
    "model2.fit(x_train, y_train, validation_split=0.2 , epochs= 100, batch_size= 128)"
   ]
  },
  {
   "cell_type": "code",
   "execution_count": 17,
   "metadata": {
    "colab": {
     "base_uri": "https://localhost:8080/"
    },
    "id": "IL1IDQu-EFzq",
    "outputId": "ce2aa183-5b5d-4c56-b24a-669ee52a7d1e"
   },
   "outputs": [
    {
     "name": "stdout",
     "output_type": "stream",
     "text": [
      "Model: \"sequential_1\"\n",
      "_________________________________________________________________\n",
      " Layer (type)                Output Shape              Param #   \n",
      "=================================================================\n",
      " dense_10 (Dense)            (None, 16)                80        \n",
      "                                                                 \n",
      " dropout (Dropout)           (None, 16)                0         \n",
      "                                                                 \n",
      " dense_11 (Dense)            (None, 32)                544       \n",
      "                                                                 \n",
      " dense_12 (Dense)            (None, 64)                2112      \n",
      "                                                                 \n",
      " dense_13 (Dense)            (None, 128)               8320      \n",
      "                                                                 \n",
      " dropout_1 (Dropout)         (None, 128)               0         \n",
      "                                                                 \n",
      " dense_14 (Dense)            (None, 256)               33024     \n",
      "                                                                 \n",
      " dense_15 (Dense)            (None, 128)               32896     \n",
      "                                                                 \n",
      " dense_16 (Dense)            (None, 64)                8256      \n",
      "                                                                 \n",
      " dropout_2 (Dropout)         (None, 64)                0         \n",
      "                                                                 \n",
      " dense_17 (Dense)            (None, 32)                2080      \n",
      "                                                                 \n",
      " dense_18 (Dense)            (None, 16)                528       \n",
      "                                                                 \n",
      " dense_19 (Dense)            (None, 3)                 51        \n",
      "                                                                 \n",
      "=================================================================\n",
      "Total params: 87,891\n",
      "Trainable params: 87,891\n",
      "Non-trainable params: 0\n",
      "_________________________________________________________________\n"
     ]
    }
   ],
   "source": [
    "model2.summary()"
   ]
  },
  {
   "cell_type": "code",
   "execution_count": 18,
   "metadata": {
    "colab": {
     "base_uri": "https://localhost:8080/",
     "height": 281
    },
    "id": "qHExC8WLEFzq",
    "outputId": "73d23bfe-e07c-4ef8-ebcf-c78b8dc45c3e"
   },
   "outputs": [
    {
     "data": {
      "image/png": "[encoded data removed]",
      "text/plain": [
       "<Figure size 432x288 with 1 Axes>"
      ]
     },
     "metadata": {
      "needs_background": "light"
     },
     "output_type": "display_data"
    }
   ],
   "source": [
    "plt.plot(model2.history.history['accuracy'])\n",
    "plt.plot(model2.history.history['val_accuracy'])\n",
    "plt.title(\"Accuracy\")\n",
    "plt.legend(['train', 'validation'])\n",
    "plt.show()"
   ]
  },
  {
   "cell_type": "code",
   "execution_count": 19,
   "metadata": {
    "colab": {
     "base_uri": "https://localhost:8080/",
     "height": 265
    },
    "id": "w6jU2St9EFzr",
    "outputId": "2b48dab7-0c7a-41cc-ee2d-8df9093230f4"
   },
   "outputs": [
    {
     "data": {
      "image/png": "[encoded data removed]",
      "text/plain": [
       "<Figure size 432x288 with 1 Axes>"
      ]
     },
     "metadata": {
      "needs_background": "light"
     },
     "output_type": "display_data"
    }
   ],
   "source": [
    "plt.plot(model2.history.history['loss'])\n",
    "plt.plot(model2.history.history['val_loss'])\n",
    "plt.plot('Loss')\n",
    "plt.legend(['Train','validation'])\n",
    "plt.show()"
   ]
  },
  {
   "cell_type": "code",
   "execution_count": 20,
   "metadata": {
    "colab": {
     "base_uri": "https://localhost:8080/"
    },
    "id": "QeW08ckTDwqs",
    "outputId": "59d58bae-c3f7-4dac-8c19-b8bab592f96d"
   },
   "outputs": [
    {
     "name": "stdout",
     "output_type": "stream",
     "text": [
      "1/1 [==============================] - 0s 41ms/step - loss: 0.3210 - accuracy: 0.8000\n",
      "Test accuracy:  0.800000011920929\n",
      "1/1 [==============================] - 0s 161ms/step\n"
     ]
    }
   ],
   "source": [
    "test_loss, test_acc = model2.evaluate(x_test, y_test)\n",
    "print(\"Test accuracy: \", test_acc)\n",
    "\n",
    "test_predictions = model2.predict(x_test)"
   ]
  },
  {
   "cell_type": "markdown",
   "metadata": {
    "id": "NGelcO-eMg-z"
   },
   "source": [
    "#3"
   ]
  },
  {
   "cell_type": "code",
   "execution_count": 21,
   "metadata": {
    "id": "lt5aCE7YEt4k"
   },
   "outputs": [],
   "source": [
    "model3 = tf.keras.Sequential([\n",
    "    tf.keras.layers.Dense(16, activation=tf.nn.relu, input_shape=(4,)),\n",
    "    tf.keras.layers.BatchNormalization(),\n",
    "    tf.keras.layers.Dropout(0.2),\n",
    "    tf.keras.layers.Dense(32, activation=tf.nn.relu),\n",
    "    tf.keras.layers.Dense(64, activation=tf.nn.relu),\n",
    "    tf.keras.layers.BatchNormalization(),\n",
    "    tf.keras.layers.Dropout(0.3),\n",
    "    tf.keras.layers.Dense(128, activation=tf.nn.relu),\n",
    "    tf.keras.layers.Dense(256, activation=tf.nn.relu),\n",
    "    tf.keras.layers.Dense(128, activation=tf.nn.relu),\n",
    "    tf.keras.layers.BatchNormalization(),\n",
    "    tf.keras.layers.Dropout(0.4),\n",
    "    tf.keras.layers.Dense(64, activation=tf.nn.relu),\n",
    "    tf.keras.layers.Dense(32, activation=tf.nn.relu),\n",
    "    tf.keras.layers.BatchNormalization(),\n",
    "    tf.keras.layers.Dropout(0.5),\n",
    "    tf.keras.layers.Dense(16, activation=tf.nn.relu),\n",
    "    tf.keras.layers.Dense(3, activation=tf.nn.softmax)\n",
    "])"
   ]
  },
  {
   "cell_type": "code",
   "execution_count": 22,
   "metadata": {
    "colab": {
     "base_uri": "https://localhost:8080/"
    },
    "id": "2Rh0KN0WMg_E",
    "outputId": "0e5b8ce8-b810-44a1-9157-d4b5ab7e5789"
   },
   "outputs": [
    {
     "name": "stdout",
     "output_type": "stream",
     "text": [
      "Epoch 1/100\n",
      "1/1 [==============================] - 4s 4s/step - loss: 1.7711 - accuracy: 0.3438 - val_loss: 1.0770 - val_accuracy: 0.5000\n",
      "Epoch 2/100\n",
      "1/1 [==============================] - 0s 43ms/step - loss: 1.4834 - accuracy: 0.3854 - val_loss: 1.0716 - val_accuracy: 0.5000\n",
      "Epoch 3/100\n",
      "1/1 [==============================] - 0s 43ms/step - loss: 1.4078 - accuracy: 0.4271 - val_loss: 1.0668 - val_accuracy: 0.6667\n",
      "Epoch 4/100\n",
      "1/1 [==============================] - 0s 60ms/step - loss: 1.2509 - accuracy: 0.4479 - val_loss: 1.0604 - val_accuracy: 0.6667\n",
      "Epoch 5/100\n",
      "1/1 [==============================] - 0s 47ms/step - loss: 1.2777 - accuracy: 0.4792 - val_loss: 1.0547 - val_accuracy: 0.6667\n",
      "Epoch 6/100\n",
      "1/1 [==============================] - 0s 60ms/step - loss: 1.1756 - accuracy: 0.5208 - val_loss: 1.0507 - val_accuracy: 0.6667\n",
      "Epoch 7/100\n",
      "1/1 [==============================] - 0s 49ms/step - loss: 1.0548 - accuracy: 0.5000 - val_loss: 1.0471 - val_accuracy: 0.5833\n",
      "Epoch 8/100\n",
      "1/1 [==============================] - 0s 48ms/step - loss: 1.0205 - accuracy: 0.5312 - val_loss: 1.0433 - val_accuracy: 0.5833\n",
      "Epoch 9/100\n",
      "1/1 [==============================] - 0s 54ms/step - loss: 1.0770 - accuracy: 0.4896 - val_loss: 1.0404 - val_accuracy: 0.6250\n",
      "Epoch 10/100\n",
      "1/1 [==============================] - 0s 47ms/step - loss: 0.9701 - accuracy: 0.6042 - val_loss: 1.0377 - val_accuracy: 0.6250\n",
      "Epoch 11/100\n",
      "1/1 [==============================] - 0s 59ms/step - loss: 0.8975 - accuracy: 0.5521 - val_loss: 1.0354 - val_accuracy: 0.6250\n",
      "Epoch 12/100\n",
      "1/1 [==============================] - 0s 45ms/step - loss: 0.8090 - accuracy: 0.6250 - val_loss: 1.0336 - val_accuracy: 0.5833\n",
      "Epoch 13/100\n",
      "1/1 [==============================] - 0s 42ms/step - loss: 0.7939 - accuracy: 0.6250 - val_loss: 1.0319 - val_accuracy: 0.6250\n",
      "Epoch 14/100\n",
      "1/1 [==============================] - 0s 44ms/step - loss: 0.8911 - accuracy: 0.6354 - val_loss: 1.0303 - val_accuracy: 0.6250\n",
      "Epoch 15/100\n",
      "1/1 [==============================] - 0s 49ms/step - loss: 0.7848 - accuracy: 0.6667 - val_loss: 1.0288 - val_accuracy: 0.6667\n",
      "Epoch 16/100\n",
      "1/1 [==============================] - 0s 47ms/step - loss: 0.7306 - accuracy: 0.7083 - val_loss: 1.0268 - val_accuracy: 0.6667\n",
      "Epoch 17/100\n",
      "1/1 [==============================] - 0s 43ms/step - loss: 0.6918 - accuracy: 0.7188 - val_loss: 1.0246 - val_accuracy: 0.6667\n",
      "Epoch 18/100\n",
      "1/1 [==============================] - 0s 46ms/step - loss: 0.7807 - accuracy: 0.6875 - val_loss: 1.0216 - val_accuracy: 0.6667\n",
      "Epoch 19/100\n",
      "1/1 [==============================] - 0s 57ms/step - loss: 0.6128 - accuracy: 0.7604 - val_loss: 1.0189 - val_accuracy: 0.6667\n",
      "Epoch 20/100\n",
      "1/1 [==============================] - 0s 43ms/step - loss: 0.7583 - accuracy: 0.7917 - val_loss: 1.0156 - val_accuracy: 0.7083\n",
      "Epoch 21/100\n",
      "1/1 [==============================] - 0s 48ms/step - loss: 0.6490 - accuracy: 0.7708 - val_loss: 1.0120 - val_accuracy: 0.7083\n",
      "Epoch 22/100\n",
      "1/1 [==============================] - 0s 52ms/step - loss: 0.5851 - accuracy: 0.7396 - val_loss: 1.0087 - val_accuracy: 0.7083\n",
      "Epoch 23/100\n",
      "1/1 [==============================] - 0s 45ms/step - loss: 0.5737 - accuracy: 0.7708 - val_loss: 1.0068 - val_accuracy: 0.7500\n",
      "Epoch 24/100\n",
      "1/1 [==============================] - 0s 47ms/step - loss: 0.5516 - accuracy: 0.8542 - val_loss: 1.0045 - val_accuracy: 0.7500\n",
      "Epoch 25/100\n",
      "1/1 [==============================] - 0s 45ms/step - loss: 0.5553 - accuracy: 0.8021 - val_loss: 1.0022 - val_accuracy: 0.7500\n",
      "Epoch 26/100\n",
      "1/1 [==============================] - 0s 48ms/step - loss: 0.5235 - accuracy: 0.8333 - val_loss: 1.0011 - val_accuracy: 0.7500\n",
      "Epoch 27/100\n",
      "1/1 [==============================] - 0s 45ms/step - loss: 0.5309 - accuracy: 0.8021 - val_loss: 1.0009 - val_accuracy: 0.7500\n",
      "Epoch 28/100\n",
      "1/1 [==============================] - 0s 47ms/step - loss: 0.6143 - accuracy: 0.7812 - val_loss: 0.9996 - val_accuracy: 0.7500\n",
      "Epoch 29/100\n",
      "1/1 [==============================] - 0s 44ms/step - loss: 0.4791 - accuracy: 0.8125 - val_loss: 0.9986 - val_accuracy: 0.7500\n",
      "Epoch 30/100\n",
      "1/1 [==============================] - 0s 66ms/step - loss: 0.5096 - accuracy: 0.8021 - val_loss: 0.9955 - val_accuracy: 0.7500\n",
      "Epoch 31/100\n",
      "1/1 [==============================] - 0s 47ms/step - loss: 0.4629 - accuracy: 0.8438 - val_loss: 0.9934 - val_accuracy: 0.7500\n",
      "Epoch 32/100\n",
      "1/1 [==============================] - 0s 47ms/step - loss: 0.4690 - accuracy: 0.8229 - val_loss: 0.9920 - val_accuracy: 0.7500\n",
      "Epoch 33/100\n",
      "1/1 [==============================] - 0s 47ms/step - loss: 0.5169 - accuracy: 0.7917 - val_loss: 0.9895 - val_accuracy: 0.7500\n",
      "Epoch 34/100\n",
      "1/1 [==============================] - 0s 63ms/step - loss: 0.5077 - accuracy: 0.7917 - val_loss: 0.9864 - val_accuracy: 0.7083\n",
      "Epoch 35/100\n",
      "1/1 [==============================] - 0s 44ms/step - loss: 0.4424 - accuracy: 0.8958 - val_loss: 0.9834 - val_accuracy: 0.7083\n",
      "Epoch 36/100\n",
      "1/1 [==============================] - 0s 49ms/step - loss: 0.5637 - accuracy: 0.7917 - val_loss: 0.9795 - val_accuracy: 0.7083\n",
      "Epoch 37/100\n",
      "1/1 [==============================] - 0s 46ms/step - loss: 0.4464 - accuracy: 0.8750 - val_loss: 0.9750 - val_accuracy: 0.7083\n",
      "Epoch 38/100\n",
      "1/1 [==============================] - 0s 45ms/step - loss: 0.3804 - accuracy: 0.8542 - val_loss: 0.9723 - val_accuracy: 0.7083\n",
      "Epoch 39/100\n",
      "1/1 [==============================] - 0s 45ms/step - loss: 0.4123 - accuracy: 0.8333 - val_loss: 0.9678 - val_accuracy: 0.7083\n",
      "Epoch 40/100\n",
      "1/1 [==============================] - 0s 51ms/step - loss: 0.5510 - accuracy: 0.8333 - val_loss: 0.9633 - val_accuracy: 0.7083\n",
      "Epoch 41/100\n",
      "1/1 [==============================] - 0s 48ms/step - loss: 0.3683 - accuracy: 0.8750 - val_loss: 0.9585 - val_accuracy: 0.7083\n",
      "Epoch 42/100\n",
      "1/1 [==============================] - 0s 67ms/step - loss: 0.3764 - accuracy: 0.8750 - val_loss: 0.9532 - val_accuracy: 0.7083\n",
      "Epoch 43/100\n",
      "1/1 [==============================] - 0s 44ms/step - loss: 0.3232 - accuracy: 0.8854 - val_loss: 0.9476 - val_accuracy: 0.7083\n",
      "Epoch 44/100\n",
      "1/1 [==============================] - 0s 48ms/step - loss: 0.3663 - accuracy: 0.8750 - val_loss: 0.9432 - val_accuracy: 0.7083\n",
      "Epoch 45/100\n",
      "1/1 [==============================] - 0s 49ms/step - loss: 0.4315 - accuracy: 0.8438 - val_loss: 0.9378 - val_accuracy: 0.7500\n",
      "Epoch 46/100\n",
      "1/1 [==============================] - 0s 67ms/step - loss: 0.3241 - accuracy: 0.9167 - val_loss: 0.9324 - val_accuracy: 0.7500\n",
      "Epoch 47/100\n",
      "1/1 [==============================] - 0s 43ms/step - loss: 0.4157 - accuracy: 0.8542 - val_loss: 0.9231 - val_accuracy: 0.7500\n",
      "Epoch 48/100\n",
      "1/1 [==============================] - 0s 45ms/step - loss: 0.3468 - accuracy: 0.8750 - val_loss: 0.9144 - val_accuracy: 0.7500\n",
      "Epoch 49/100\n",
      "1/1 [==============================] - 0s 44ms/step - loss: 0.3739 - accuracy: 0.9167 - val_loss: 0.9058 - val_accuracy: 0.7500\n",
      "Epoch 50/100\n",
      "1/1 [==============================] - 0s 66ms/step - loss: 0.3075 - accuracy: 0.9062 - val_loss: 0.8972 - val_accuracy: 0.7500\n",
      "Epoch 51/100\n",
      "1/1 [==============================] - 0s 44ms/step - loss: 0.2665 - accuracy: 0.9479 - val_loss: 0.8890 - val_accuracy: 0.7500\n",
      "Epoch 52/100\n",
      "1/1 [==============================] - 0s 53ms/step - loss: 0.2973 - accuracy: 0.8958 - val_loss: 0.8811 - val_accuracy: 0.7500\n",
      "Epoch 53/100\n",
      "1/1 [==============================] - 0s 44ms/step - loss: 0.3552 - accuracy: 0.8750 - val_loss: 0.8719 - val_accuracy: 0.7500\n",
      "Epoch 54/100\n",
      "1/1 [==============================] - 0s 45ms/step - loss: 0.3204 - accuracy: 0.8750 - val_loss: 0.8623 - val_accuracy: 0.7500\n",
      "Epoch 55/100\n",
      "1/1 [==============================] - 0s 47ms/step - loss: 0.3390 - accuracy: 0.8958 - val_loss: 0.8535 - val_accuracy: 0.7500\n",
      "Epoch 56/100\n",
      "1/1 [==============================] - 0s 46ms/step - loss: 0.3284 - accuracy: 0.8854 - val_loss: 0.8445 - val_accuracy: 0.7500\n",
      "Epoch 57/100\n",
      "1/1 [==============================] - 0s 61ms/step - loss: 0.3775 - accuracy: 0.8542 - val_loss: 0.8353 - val_accuracy: 0.7500\n",
      "Epoch 58/100\n",
      "1/1 [==============================] - 0s 45ms/step - loss: 0.2624 - accuracy: 0.9271 - val_loss: 0.8263 - val_accuracy: 0.7500\n",
      "Epoch 59/100\n",
      "1/1 [==============================] - 0s 46ms/step - loss: 0.2641 - accuracy: 0.9271 - val_loss: 0.8182 - val_accuracy: 0.7917\n",
      "Epoch 60/100\n",
      "1/1 [==============================] - 0s 66ms/step - loss: 0.2402 - accuracy: 0.9375 - val_loss: 0.8101 - val_accuracy: 0.7917\n",
      "Epoch 61/100\n",
      "1/1 [==============================] - 0s 44ms/step - loss: 0.3211 - accuracy: 0.9271 - val_loss: 0.8021 - val_accuracy: 0.7917\n",
      "Epoch 62/100\n",
      "1/1 [==============================] - 0s 61ms/step - loss: 0.2484 - accuracy: 0.9167 - val_loss: 0.7938 - val_accuracy: 0.7917\n",
      "Epoch 63/100\n",
      "1/1 [==============================] - 0s 48ms/step - loss: 0.3335 - accuracy: 0.9062 - val_loss: 0.7847 - val_accuracy: 0.7917\n",
      "Epoch 64/100\n",
      "1/1 [==============================] - 0s 49ms/step - loss: 0.2540 - accuracy: 0.9062 - val_loss: 0.7761 - val_accuracy: 0.7917\n",
      "Epoch 65/100\n",
      "1/1 [==============================] - 0s 49ms/step - loss: 0.2704 - accuracy: 0.9062 - val_loss: 0.7672 - val_accuracy: 0.7917\n",
      "Epoch 66/100\n",
      "1/1 [==============================] - 0s 47ms/step - loss: 0.3230 - accuracy: 0.9062 - val_loss: 0.7599 - val_accuracy: 0.7917\n",
      "Epoch 67/100\n",
      "1/1 [==============================] - 0s 44ms/step - loss: 0.2316 - accuracy: 0.9375 - val_loss: 0.7530 - val_accuracy: 0.7917\n",
      "Epoch 68/100\n",
      "1/1 [==============================] - 0s 47ms/step - loss: 0.2587 - accuracy: 0.8958 - val_loss: 0.7449 - val_accuracy: 0.7917\n",
      "Epoch 69/100\n",
      "1/1 [==============================] - 0s 53ms/step - loss: 0.2810 - accuracy: 0.8958 - val_loss: 0.7356 - val_accuracy: 0.7917\n",
      "Epoch 70/100\n",
      "1/1 [==============================] - 0s 51ms/step - loss: 0.1693 - accuracy: 0.9479 - val_loss: 0.7262 - val_accuracy: 0.7917\n",
      "Epoch 71/100\n",
      "1/1 [==============================] - 0s 47ms/step - loss: 0.2604 - accuracy: 0.9271 - val_loss: 0.7166 - val_accuracy: 0.7917\n",
      "Epoch 72/100\n",
      "1/1 [==============================] - 0s 47ms/step - loss: 0.2708 - accuracy: 0.9062 - val_loss: 0.7076 - val_accuracy: 0.7917\n",
      "Epoch 73/100\n",
      "1/1 [==============================] - 0s 47ms/step - loss: 0.2971 - accuracy: 0.9062 - val_loss: 0.6977 - val_accuracy: 0.7917\n",
      "Epoch 74/100\n",
      "1/1 [==============================] - 0s 45ms/step - loss: 0.2018 - accuracy: 0.9479 - val_loss: 0.6888 - val_accuracy: 0.7917\n",
      "Epoch 75/100\n",
      "1/1 [==============================] - 0s 46ms/step - loss: 0.1946 - accuracy: 0.9479 - val_loss: 0.6796 - val_accuracy: 0.7917\n",
      "Epoch 76/100\n",
      "1/1 [==============================] - 0s 57ms/step - loss: 0.2698 - accuracy: 0.8958 - val_loss: 0.6711 - val_accuracy: 0.7917\n",
      "Epoch 77/100\n",
      "1/1 [==============================] - 0s 51ms/step - loss: 0.2377 - accuracy: 0.9062 - val_loss: 0.6631 - val_accuracy: 0.7917\n",
      "Epoch 78/100\n",
      "1/1 [==============================] - 0s 47ms/step - loss: 0.2471 - accuracy: 0.9375 - val_loss: 0.6541 - val_accuracy: 0.7917\n",
      "Epoch 79/100\n",
      "1/1 [==============================] - 0s 65ms/step - loss: 0.3289 - accuracy: 0.9062 - val_loss: 0.6457 - val_accuracy: 0.7917\n",
      "Epoch 80/100\n",
      "1/1 [==============================] - 0s 48ms/step - loss: 0.2139 - accuracy: 0.9271 - val_loss: 0.6369 - val_accuracy: 0.8333\n",
      "Epoch 81/100\n",
      "1/1 [==============================] - 0s 46ms/step - loss: 0.2971 - accuracy: 0.9062 - val_loss: 0.6281 - val_accuracy: 0.8333\n",
      "Epoch 82/100\n",
      "1/1 [==============================] - 0s 44ms/step - loss: 0.2375 - accuracy: 0.9062 - val_loss: 0.6198 - val_accuracy: 0.8333\n",
      "Epoch 83/100\n",
      "1/1 [==============================] - 0s 51ms/step - loss: 0.1573 - accuracy: 0.9688 - val_loss: 0.6106 - val_accuracy: 0.8750\n",
      "Epoch 84/100\n",
      "1/1 [==============================] - 0s 47ms/step - loss: 0.1910 - accuracy: 0.8958 - val_loss: 0.6015 - val_accuracy: 0.8750\n",
      "Epoch 85/100\n",
      "1/1 [==============================] - 0s 47ms/step - loss: 0.1712 - accuracy: 0.9479 - val_loss: 0.5934 - val_accuracy: 0.8750\n",
      "Epoch 86/100\n",
      "1/1 [==============================] - 0s 49ms/step - loss: 0.2031 - accuracy: 0.9271 - val_loss: 0.5863 - val_accuracy: 0.8750\n",
      "Epoch 87/100\n",
      "1/1 [==============================] - 0s 47ms/step - loss: 0.2216 - accuracy: 0.9271 - val_loss: 0.5790 - val_accuracy: 0.8750\n",
      "Epoch 88/100\n",
      "1/1 [==============================] - 0s 44ms/step - loss: 0.2384 - accuracy: 0.9167 - val_loss: 0.5712 - val_accuracy: 0.8750\n",
      "Epoch 89/100\n",
      "1/1 [==============================] - 0s 49ms/step - loss: 0.1303 - accuracy: 0.9688 - val_loss: 0.5646 - val_accuracy: 0.8750\n",
      "Epoch 90/100\n",
      "1/1 [==============================] - 0s 49ms/step - loss: 0.1699 - accuracy: 0.9688 - val_loss: 0.5572 - val_accuracy: 0.8750\n",
      "Epoch 91/100\n",
      "1/1 [==============================] - 0s 45ms/step - loss: 0.1891 - accuracy: 0.9167 - val_loss: 0.5499 - val_accuracy: 0.8750\n",
      "Epoch 92/100\n",
      "1/1 [==============================] - 0s 44ms/step - loss: 0.2088 - accuracy: 0.9583 - val_loss: 0.5418 - val_accuracy: 0.8750\n",
      "Epoch 93/100\n",
      "1/1 [==============================] - 0s 50ms/step - loss: 0.2212 - accuracy: 0.9167 - val_loss: 0.5341 - val_accuracy: 0.8750\n",
      "Epoch 94/100\n",
      "1/1 [==============================] - 0s 48ms/step - loss: 0.1954 - accuracy: 0.9271 - val_loss: 0.5259 - val_accuracy: 0.8750\n",
      "Epoch 95/100\n",
      "1/1 [==============================] - 0s 43ms/step - loss: 0.2536 - accuracy: 0.9062 - val_loss: 0.5185 - val_accuracy: 0.8750\n",
      "Epoch 96/100\n",
      "1/1 [==============================] - 0s 46ms/step - loss: 0.1875 - accuracy: 0.9375 - val_loss: 0.5115 - val_accuracy: 0.8750\n",
      "Epoch 97/100\n",
      "1/1 [==============================] - 0s 47ms/step - loss: 0.2749 - accuracy: 0.8958 - val_loss: 0.5040 - val_accuracy: 0.8750\n",
      "Epoch 98/100\n",
      "1/1 [==============================] - 0s 44ms/step - loss: 0.2074 - accuracy: 0.9062 - val_loss: 0.4959 - val_accuracy: 0.8750\n",
      "Epoch 99/100\n",
      "1/1 [==============================] - 0s 44ms/step - loss: 0.2786 - accuracy: 0.9271 - val_loss: 0.4885 - val_accuracy: 0.8750\n",
      "Epoch 100/100\n",
      "1/1 [==============================] - 0s 67ms/step - loss: 0.2311 - accuracy: 0.9271 - val_loss: 0.4825 - val_accuracy: 0.8750\n"
     ]
    },
    {
     "data": {
      "text/plain": [
       "<keras.callbacks.History at 0x7f89482d3b80>"
      ]
     },
     "execution_count": 22,
     "metadata": {},
     "output_type": "execute_result"
    }
   ],
   "source": [
    "model3.compile(optimizer='adam',\n",
    "              loss='categorical_crossentropy',\n",
    "              metrics=['accuracy'])\n",
    "\n",
    "\n",
    "model3.fit(x_train, y_train, validation_split=0.2 , epochs= 100, batch_size= 128)"
   ]
  },
  {
   "cell_type": "code",
   "execution_count": 23,
   "metadata": {
    "colab": {
     "base_uri": "https://localhost:8080/"
    },
    "id": "66ARbeDQMg_E",
    "outputId": "49e7e8f4-714a-4c40-9294-2da847d3dd66"
   },
   "outputs": [
    {
     "name": "stdout",
     "output_type": "stream",
     "text": [
      "Model: \"sequential_2\"\n",
      "_________________________________________________________________\n",
      " Layer (type)                Output Shape              Param #   \n",
      "=================================================================\n",
      " dense_20 (Dense)            (None, 16)                80        \n",
      "                                                                 \n",
      " batch_normalization (BatchN  (None, 16)               64        \n",
      " ormalization)                                                   \n",
      "                                                                 \n",
      " dropout_3 (Dropout)         (None, 16)                0         \n",
      "                                                                 \n",
      " dense_21 (Dense)            (None, 32)                544       \n",
      "                                                                 \n",
      " dense_22 (Dense)            (None, 64)                2112      \n",
      "                                                                 \n",
      " batch_normalization_1 (Batc  (None, 64)               256       \n",
      " hNormalization)                                                 \n",
      "                                                                 \n",
      " dropout_4 (Dropout)         (None, 64)                0         \n",
      "                                                                 \n",
      " dense_23 (Dense)            (None, 128)               8320      \n",
      "                                                                 \n",
      " dense_24 (Dense)            (None, 256)               33024     \n",
      "                                                                 \n",
      " dense_25 (Dense)            (None, 128)               32896     \n",
      "                                                                 \n",
      " batch_normalization_2 (Batc  (None, 128)              512       \n",
      " hNormalization)                                                 \n",
      "                                                                 \n",
      " dropout_5 (Dropout)         (None, 128)               0         \n",
      "                                                                 \n",
      " dense_26 (Dense)            (None, 64)                8256      \n",
      "                                                                 \n",
      " dense_27 (Dense)            (None, 32)                2080      \n",
      "                                                                 \n",
      " batch_normalization_3 (Batc  (None, 32)               128       \n",
      " hNormalization)                                                 \n",
      "                                                                 \n",
      " dropout_6 (Dropout)         (None, 32)                0         \n",
      "                                                                 \n",
      " dense_28 (Dense)            (None, 16)                528       \n",
      "                                                                 \n",
      " dense_29 (Dense)            (None, 3)                 51        \n",
      "                                                                 \n",
      "=================================================================\n",
      "Total params: 88,851\n",
      "Trainable params: 88,371\n",
      "Non-trainable params: 480\n",
      "_________________________________________________________________\n"
     ]
    }
   ],
   "source": [
    "model3.summary()"
   ]
  },
  {
   "cell_type": "code",
   "execution_count": 24,
   "metadata": {
    "colab": {
     "base_uri": "https://localhost:8080/",
     "height": 281
    },
    "id": "x1NkSVaBMg_E",
    "outputId": "a17edaab-7b67-438f-9b40-cbd26ced14bf"
   },
   "outputs": [
    {
     "data": {
      "image/png": "[encoded data removed]",
      "text/plain": [
       "<Figure size 432x288 with 1 Axes>"
      ]
     },
     "metadata": {
      "needs_background": "light"
     },
     "output_type": "display_data"
    }
   ],
   "source": [
    "plt.plot(model3.history.history['accuracy'])\n",
    "plt.plot(model3.history.history['val_accuracy'])\n",
    "plt.title(\"Accuracy\")\n",
    "plt.legend(['train', 'validation'])\n",
    "plt.show()"
   ]
  },
  {
   "cell_type": "code",
   "execution_count": 25,
   "metadata": {
    "colab": {
     "base_uri": "https://localhost:8080/",
     "height": 265
    },
    "id": "w2pCebkeMg_F",
    "outputId": "b97d272c-36bd-468c-b226-b1fe84b73073"
   },
   "outputs": [
    {
     "data": {
      "image/png": "[encoded data removed]",
      "text/plain": [
       "<Figure size 432x288 with 1 Axes>"
      ]
     },
     "metadata": {
      "needs_background": "light"
     },
     "output_type": "display_data"
    }
   ],
   "source": [
    "plt.plot(model3.history.history['loss'])\n",
    "plt.plot(model3.history.history['val_loss'])\n",
    "plt.plot('Loss')\n",
    "plt.legend(['Train','validation'])\n",
    "plt.show()"
   ]
  },
  {
   "cell_type": "code",
   "execution_count": 26,
   "metadata": {
    "colab": {
     "base_uri": "https://localhost:8080/"
    },
    "id": "bH600xe3OwYq",
    "outputId": "3f6361eb-319c-4952-f173-e22399cd4656"
   },
   "outputs": [
    {
     "name": "stdout",
     "output_type": "stream",
     "text": [
      "1/1 [==============================] - 0s 28ms/step - loss: 0.3320 - accuracy: 0.9333\n",
      "Test accuracy:  0.9333333373069763\n",
      "1/1 [==============================] - 0s 169ms/step\n"
     ]
    }
   ],
   "source": [
    "test_loss, test_acc = model3.evaluate(x_test, y_test)\n",
    "print(\"Test accuracy: \", test_acc)\n",
    "\n",
    "test_predictions = model3.predict(x_test)"
   ]
  }
 ],
 "metadata": {
  "colab": {
   "collapsed_sections": [
    "8occPdYTD9N3",
    "n_x-sH-JKCJ2",
    "eE-GuzAjD3m0",
    "zQr1KbrAEFzo",
    "NGelcO-eMg-z"
   ],
   "provenance": []
  },
  "gpuClass": "standard",
  "kernelspec": {
   "display_name": "Python 3",
   "language": "python",
   "name": "python3"
  },
  "language_info": {
   "codemirror_mode": {
    "name": "ipython",
    "version": 3
   },
   "file_extension": ".py",
   "mimetype": "text/x-python",
   "name": "python",
   "nbconvert_exporter": "python",
   "pygments_lexer": "ipython3",
   "version": "3.8.3"
  }
 },
 "nbformat": 4,
 "nbformat_minor": 1
}
