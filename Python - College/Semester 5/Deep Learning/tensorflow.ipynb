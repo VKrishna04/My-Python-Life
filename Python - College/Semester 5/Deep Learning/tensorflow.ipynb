{
 "cells": [
  {
   "cell_type": "markdown",
   "metadata": {},
   "source": [
    "Write a python program that creates a tf with constant values [100, 200, 300]. Print its shape and datatype."
   ]
  },
  {
   "cell_type": "code",
   "execution_count": 2,
   "metadata": {},
   "outputs": [
    {
     "name": "stdout",
     "output_type": "stream",
     "text": [
      "the given tensor flow is  tf.Tensor([100 200 300], shape=(3,), dtype=int32)\n",
      "Shape: (3,)\n",
      "Datatype: <dtype: 'int32'>\n"
     ]
    }
   ],
   "source": [
    "import tensorflow as tf\n",
    "\n",
    "# Create a tensor with constant values [100, 200, 300]\n",
    "tf_tensor = tf.constant([100, 200, 300])\n",
    "\n",
    "# Print the shape and datatype of the tensor\n",
    "print(\"the given tensor flow is \",tf_tensor)\n",
    "print(\"Shape:\", tf_tensor.shape)\n",
    "print(\"Datatype:\", tf_tensor.dtype)"
   ]
  },
  {
   "cell_type": "markdown",
   "metadata": {},
   "source": [
    "Write a python program that implements elementwise addition on two tf tnsors of shape (2, 3) filled with random values."
   ]
  },
  {
   "cell_type": "code",
   "execution_count": 3,
   "metadata": {},
   "outputs": [
    {
     "name": "stdout",
     "output_type": "stream",
     "text": [
      "tf.Tensor(\n",
      "[[ 0.5105431   1.9745954   0.15510476]\n",
      " [ 1.2200485  -1.0762479  -0.24123843]], shape=(2, 3), dtype=float32)\n"
     ]
    }
   ],
   "source": [
    "import tensorflow as tf\n",
    "\n",
    "# Create two tensors of shape (2, 3) filled with random values\n",
    "tensor1 = tf.random.normal(shape=(2, 3))\n",
    "tensor2 = tf.random.normal(shape=(2, 3))\n",
    "\n",
    "# Perform elementwise addition\n",
    "result = tf.add(tensor1, tensor2)\n",
    "\n",
    "# Print the result\n",
    "print(result)"
   ]
  },
  {
   "cell_type": "markdown",
   "metadata": {},
   "source": [
    "Write a python program that multiplies a tf tensor by scalar value and prints the result."
   ]
  },
  {
   "cell_type": "code",
   "execution_count": 7,
   "metadata": {},
   "outputs": [
    {
     "name": "stdout",
     "output_type": "stream",
     "text": [
      "The tensor is :  tf.Tensor(\n",
      "[[1 2 3]\n",
      " [4 5 6]], shape=(2, 3), dtype=int32)\n",
      "\n",
      "\n",
      "Scalar : 2\n",
      "The Final Tensor after scalar multiplication is  tf.Tensor(\n",
      "[[ 2  4  6]\n",
      " [ 8 10 12]], shape=(2, 3), dtype=int32)\n"
     ]
    }
   ],
   "source": [
    "import tensorflow as tf\n",
    "\n",
    "tn=tf.constant([[1,2,3],[4,5,6]])\n",
    "\n",
    "print(\"The tensor is : \",tn)\n",
    "print(\"\\n\")\n",
    "\n",
    "sl=int(input(\"Enter the Scalar Value : \"))\n",
    "print(f\"Scalar : {sl}\")\n",
    "final =tn * sl\n",
    "print(\"The Final Tensor after scalar multiplication is \",final)"
   ]
  },
  {
   "cell_type": "markdown",
   "metadata": {},
   "source": [
    "Write a python program to compute the dot product of two vectors."
   ]
  },
  {
   "cell_type": "code",
   "execution_count": 8,
   "metadata": {},
   "outputs": [
    {
     "name": "stdout",
     "output_type": "stream",
     "text": [
      "Vector 1: [1 2 3]\n",
      "Vector 2: [4 5 6]\n",
      "Dot Product: 32\n"
     ]
    }
   ],
   "source": [
    "import tensorflow as tf\n",
    "\n",
    "v1 = tf.constant([1, 2, 3])\n",
    "v2 = tf.constant([4, 5, 6])\n",
    "dot_product = tf.tensordot(v1, v2, axes=1)\n",
    "\n",
    "print(\"Vector 1:\", v1.numpy())\n",
    "print(\"Vector 2:\", v2.numpy())\n",
    "print(\"Dot Product:\", dot_product.numpy())"
   ]
  },
  {
   "cell_type": "markdown",
   "metadata": {},
   "source": [
    "Write a python program that converts the tf tensor from one datatype to another."
   ]
  },
  {
   "cell_type": "code",
   "execution_count": 9,
   "metadata": {},
   "outputs": [
    {
     "name": "stdout",
     "output_type": "stream",
     "text": [
      "The given Original Tensor is : tf.Tensor([1 2 3 4], shape=(4,), dtype=int32)\n",
      "The given Original Tensor Data Type is: <dtype: 'int32'>\n",
      "The Converted Tensor is: tf.Tensor([1. 2. 3. 4.], shape=(4,), dtype=float32)\n",
      "The Converted Tensor Data Type is : <dtype: 'float32'>\n"
     ]
    }
   ],
   "source": [
    "import tensorflow as tf\n",
    "tensor = tf.constant([1, 2, 3, 4], dtype=tf.int32)\n",
    "print(\"The given Original Tensor is :\", tensor)\n",
    "print(\"The given Original Tensor Data Type is:\", tensor.dtype)\n",
    "\n",
    "converted_tensor = tf.cast(tensor, dtype=tf.float32)\n",
    "\n",
    "print(\"The Converted Tensor is:\", converted_tensor)\n",
    "print(\"The Converted Tensor Data Type is :\", converted_tensor.dtype)"
   ]
  },
  {
   "cell_type": "markdown",
   "metadata": {},
   "source": [
    "Write a python code to list list some common tf datatypes available."
   ]
  },
  {
   "cell_type": "code",
   "execution_count": 10,
   "metadata": {},
   "outputs": [
    {
     "name": "stdout",
     "output_type": "stream",
     "text": [
      "Some Common TensorFlow Data Types available are:\n",
      "<dtype: 'float32'>: float32\n",
      "<dtype: 'float64'>: float64\n",
      "<dtype: 'int32'>: int32\n",
      "<dtype: 'int64'>: int64\n",
      "<dtype: 'uint8'>: uint8\n",
      "<dtype: 'bool'>: bool\n",
      "<dtype: 'complex64'>: complex64\n",
      "<dtype: 'complex128'>: complex128\n",
      "<dtype: 'string'>: string\n"
     ]
    }
   ],
   "source": [
    "import tensorflow as tf\n",
    "data_types = [\n",
    "    tf.float32,\n",
    "    tf.float64,\n",
    "    tf.int32,\n",
    "    tf.int64,\n",
    "    tf.uint8,\n",
    "    tf.bool,\n",
    "    tf.complex64,\n",
    "    tf.complex128,\n",
    "    tf.string\n",
    "]\n",
    "print(\"Some Common TensorFlow Data Types available are:\")\n",
    "for dtype in data_types:\n",
    "    print(f\"{dtype}: {dtype.name}\")"
   ]
  },
  {
   "cell_type": "markdown",
   "metadata": {},
   "source": [
    "Write a python program that mimics the logic gates `And`, `Or`, `Nand`, `Nor` gates."
   ]
  },
  {
   "cell_type": "code",
   "execution_count": 11,
   "metadata": {},
   "outputs": [
    {
     "name": "stdout",
     "output_type": "stream",
     "text": [
      "AND(True, False) = False\n",
      "OR(True, False) = True\n",
      "NAND(True, False) = True\n",
      "NOR(True, False) = False\n"
     ]
    }
   ],
   "source": [
    "def AND_gate(a, b):\n",
    "    return a and b\n",
    "\n",
    "def OR_gate(a, b):\n",
    "    return a or b\n",
    "\n",
    "def NAND_gate(a, b):\n",
    "    return not (a and b)\n",
    "\n",
    "def NOR_gate(a, b):\n",
    "    return not (a or b)\n",
    "\n",
    "# Test the logic gates\n",
    "a = True\n",
    "b = False\n",
    "\n",
    "print(f\"AND({a}, {b}) = {AND_gate(a, b)}\")\n",
    "print(f\"OR({a}, {b}) = {OR_gate(a, b)}\")\n",
    "print(f\"NAND({a}, {b}) = {NAND_gate(a, b)}\")\n",
    "print(f\"NOR({a}, {b}) = {NOR_gate(a, b)}\")"
   ]
  },
  {
   "cell_type": "markdown",
   "metadata": {},
   "source": [
    "Write a python code with tf to build a linear regression model."
   ]
  },
  {
   "cell_type": "code",
   "execution_count": 3,
   "metadata": {},
   "outputs": [
    {
     "name": "stdout",
     "output_type": "stream",
     "text": [
      "\u001b[1m4/4\u001b[0m \u001b[32m━━━━━━━━━━━━━━━━━━━━\u001b[0m\u001b[37m\u001b[0m \u001b[1m0s\u001b[0m 1ms/step - loss: 6.2640 \n",
      "Mean Squared Error: 5.677080154418945\n",
      "WARNING:tensorflow:5 out of the last 9 calls to <function TensorFlowTrainer.make_predict_function.<locals>.one_step_on_data_distributed at 0x0000020FFFC61120> triggered tf.function retracing. Tracing is expensive and the excessive number of tracings could be due to (1) creating @tf.function repeatedly in a loop, (2) passing tensors with different shapes, (3) passing Python objects instead of tensors. For (1), please define your @tf.function outside of the loop. For (2), @tf.function has reduce_retracing=True option that can avoid unnecessary retracing. For (3), please refer to https://www.tensorflow.org/guide/function#controlling_retracing and https://www.tensorflow.org/api_docs/python/tf/function for  more details.\n",
      "\u001b[1m1/4\u001b[0m \u001b[32m━━━━━\u001b[0m\u001b[37m━━━━━━━━━━━━━━━\u001b[0m \u001b[1m0s\u001b[0m 30ms/stepWARNING:tensorflow:6 out of the last 12 calls to <function TensorFlowTrainer.make_predict_function.<locals>.one_step_on_data_distributed at 0x0000020FFFC61120> triggered tf.function retracing. Tracing is expensive and the excessive number of tracings could be due to (1) creating @tf.function repeatedly in a loop, (2) passing tensors with different shapes, (3) passing Python objects instead of tensors. For (1), please define your @tf.function outside of the loop. For (2), @tf.function has reduce_retracing=True option that can avoid unnecessary retracing. For (3), please refer to https://www.tensorflow.org/guide/function#controlling_retracing and https://www.tensorflow.org/api_docs/python/tf/function for  more details.\n",
      "\u001b[1m4/4\u001b[0m \u001b[32m━━━━━━━━━━━━━━━━━━━━\u001b[0m\u001b[37m\u001b[0m \u001b[1m0s\u001b[0m 5ms/step \n"
     ]
    },
    {
     "data": {
      "image/png": "[encoded data removed]",
      "text/plain": [
       "<Figure size 640x480 with 1 Axes>"
      ]
     },
     "metadata": {},
     "output_type": "display_data"
    }
   ],
   "source": [
    "import keras\n",
    "import numpy as np\n",
    "import matplotlib.pyplot as plt\n",
    "\n",
    "# Generate synthetic data for linear regression\n",
    "np.random.seed(0)\n",
    "X = np.random.rand(100, 1)\n",
    "y = 3.5 * X + np.random.randn(100, 1) * 0.2\n",
    "\n",
    "# Define the linear regression model\n",
    "model = keras.Sequential([\n",
    "    keras.layers.Dense(1, input_shape=(1,))\n",
    "])\n",
    "\n",
    "# Compile the model\n",
    "model.compile(optimizer='adam', loss='mean_squared_error')\n",
    "\n",
    "# Train the model\n",
    "history = model.fit(X, y, epochs=100, verbose=0)\n",
    "\n",
    "# Evaluate the model\n",
    "loss = model.evaluate(X, y)\n",
    "print(f\"Mean Squared Error: {loss}\")\n",
    "\n",
    "# Make predictions\n",
    "y_pred = model.predict(X)\n",
    "\n",
    "# Plot the results\n",
    "plt.scatter(X, y, label='Data')\n",
    "plt.plot(X, y_pred, color='red', label='Linear Regression')\n",
    "plt.legend()\n",
    "plt.show()"
   ]
  }
 ],
 "metadata": {
  "kernelspec": {
   "display_name": "Python 3",
   "language": "python",
   "name": "python3"
  },
  "language_info": {
   "codemirror_mode": {
    "name": "ipython",
    "version": 3
   },
   "file_extension": ".py",
   "mimetype": "text/x-python",
   "name": "python",
   "nbconvert_exporter": "python",
   "pygments_lexer": "ipython3",
   "version": "3.12.3"
  }
 },
 "nbformat": 4,
 "nbformat_minor": 2
}
