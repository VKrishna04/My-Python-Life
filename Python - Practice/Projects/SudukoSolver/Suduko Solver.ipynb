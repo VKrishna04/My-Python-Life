{
 "cells": [
  {
   "metadata": {},
   "cell_type": "markdown",
   "source": "# Sudoku Solver using backtracking",
   "id": "c3e485db644b0776"
  },
  {
   "metadata": {},
   "cell_type": "markdown",
   "source": [
    "# Code\n",
    "Now we will import all the necessary libraries."
   ],
   "id": "ea016fe2c35557b2"
  },
  {
   "metadata": {
    "ExecuteTime": {
     "end_time": "2024-05-11T14:26:59.082142Z",
     "start_time": "2024-05-11T14:26:59.077133Z"
    }
   },
   "cell_type": "code",
   "source": [
    "import copy\n",
    "\n",
    "import matplotlib.pyplot as plt"
   ],
   "id": "1b26f70b5ff95429",
   "outputs": [],
   "execution_count": 87
  },
  {
   "metadata": {},
   "cell_type": "markdown",
   "source": "This function is to draw a sudoku into a table",
   "id": "e53cd0f6acdf0fc0"
  },
  {
   "metadata": {
    "ExecuteTime": {
     "end_time": "2024-05-11T14:26:59.131834Z",
     "start_time": "2024-05-11T14:26:59.119297Z"
    }
   },
   "cell_type": "code",
   "source": [
    "def draw_sudoku(grid, changes=None):\n",
    "    global step_count\n",
    "\n",
    "    step_count += 1\n",
    "    fig, ax = plt.subplots()\n",
    "    ax.axis(\"off\")\n",
    "\n",
    "    # Replace 0s with empty strings\n",
    "    step_count += 1\n",
    "    grid = [\n",
    "        [\n",
    "            \"\" if cell == 0\n",
    "            else cell\n",
    "            for cell in row\n",
    "        ]\n",
    "        for row in grid\n",
    "    ]\n",
    "\n",
    "    # Create a color grid to store the colors of the cells\n",
    "    step_count += 1\n",
    "    color_grid = [[\"w\"] * 9 for _ in range(9)]\n",
    "\n",
    "    # For Debugging purpose, only change the 'changes' parameter to look at how the algorithm is getting to the solution.\n",
    "    if changes is not None:\n",
    "        for row, col in changes:\n",
    "            # Change colour as needed\n",
    "            step_count += 1\n",
    "            color_grid[row][col] = \"purple\"\n",
    "\n",
    "    step_count += 1\n",
    "    table = ax.table(\n",
    "        cellText=grid,\n",
    "        cellLoc=\"center\",\n",
    "        loc=\"center\",\n",
    "        cellColours=color_grid,\n",
    "        bbox=[0, 0, 1, 1],\n",
    "    )\n",
    "\n",
    "    # Adjust the width and height of the cells in the table\n",
    "    step_count += 1\n",
    "    table.auto_set_font_size(False)\n",
    "    table.set_fontsize(12)\n",
    "    table.scale(1, 1.5)\n",
    "\n",
    "    # Increase line thickness of every 3x3 sub-table\n",
    "    for i in range(10):\n",
    "        step_count += 1\n",
    "        if i % 3 == 0:\n",
    "            ax.plot(\n",
    "                [i / 9, i / 9],\n",
    "                [0, 1],\n",
    "                color=\"black\",\n",
    "                linewidth=3,\n",
    "                transform=ax.transAxes,\n",
    "            )\n",
    "            ax.plot(\n",
    "                [0, 1],\n",
    "                [i / 9, i / 9],\n",
    "                color=\"black\",\n",
    "                linewidth=3,\n",
    "                transform=ax.transAxes,\n",
    "            )\n",
    "\n",
    "    step_count += 1\n",
    "    plt.show()"
   ],
   "id": "14cc043079214beb",
   "outputs": [],
   "execution_count": 88
  },
  {
   "metadata": {},
   "cell_type": "markdown",
   "source": "Now please enter `1` to input your Sudoku, or it will use the Default to Solve.",
   "id": "f5c8950e2c0b91aa"
  },
  {
   "metadata": {
    "ExecuteTime": {
     "end_time": "2024-05-11T14:26:59.150528Z",
     "start_time": "2024-05-11T14:26:59.139580Z"
    }
   },
   "cell_type": "code",
   "source": [
    "def input_sudoku():\n",
    "    global step_count\n",
    "\n",
    "    # Example usage:\n",
    "    sudoku_grid = [\n",
    "        [1, 0, 0, 0, 0, 7, 0, 9, 0],\n",
    "        [0, 3, 0, 0, 2, 0, 0, 0, 8],\n",
    "        [0, 0, 9, 6, 0, 0, 5, 0, 0],\n",
    "        [0, 0, 5, 3, 0, 0, 9, 0, 0],\n",
    "        [0, 1, 0, 0, 8, 0, 0, 0, 2],\n",
    "        [6, 0, 0, 0, 0, 4, 0, 0, 0],\n",
    "        [3, 0, 0, 0, 0, 0, 0, 1, 0],\n",
    "        [0, 4, 0, 0, 0, 0, 0, 0, 7],\n",
    "        [0, 0, 7, 0, 0, 0, 3, 0, 0]\n",
    "    ]\n",
    "\n",
    "    step_count += 1\n",
    "    choice = input(\n",
    "        \"Please enter 1 for row-wise 2 for at-once if you wish to your values for solving sudoku or skip to use default ones: \")\n",
    "    if choice == '1':\n",
    "        for i in range(9):\n",
    "            step_count += 1\n",
    "            sudoku_grid[i] = list(map(int, input(f\"Please enter {i + 1}th row elements: \").split()))\n",
    "    if choice == '2':\n",
    "        step_count += 1\n",
    "        grid = list(map(int, input(f\"Please pase the entire sudoku: \").split()))\n",
    "        sudoku_grid = [grid[i * 9:(i + 1) * 9] for i in range(9)]\n",
    "\n",
    "    step_count += 1\n",
    "    return sudoku_grid"
   ],
   "id": "26f6ed56c1c905af",
   "outputs": [],
   "execution_count": 89
  },
  {
   "metadata": {},
   "cell_type": "markdown",
   "source": [
    "Now let's solve the Sudoku.\n",
    "\n",
    "Now we will implement a function to get the next empty location first in the row next in the column."
   ],
   "id": "4efb3f0dea7a65fa"
  },
  {
   "metadata": {
    "ExecuteTime": {
     "end_time": "2024-05-11T14:26:59.161159Z",
     "start_time": "2024-05-11T14:26:59.154543Z"
    }
   },
   "cell_type": "code",
   "source": [
    "def find_next_empty(sudoku):\n",
    "    global step_count\n",
    "    # First, it will search in the current row.\n",
    "    # Next, it will search in the current column.\n",
    "    # Will return (row, col) as a tuple if there are any or (None, None) otherwise.\n",
    "\n",
    "    for row in range(9):\n",
    "        for col in range(9):\n",
    "            step_count += 1\n",
    "            if sudoku[row][col] == 0:\n",
    "                return row, col\n",
    "\n",
    "    step_count += 1\n",
    "    return None, None  # When no space is empty in the given sudoku"
   ],
   "id": "89adb23e6b434c78",
   "outputs": [],
   "execution_count": 90
  },
  {
   "metadata": {},
   "cell_type": "markdown",
   "source": "Now this function will check is the given `guess` is appropriate in the given location",
   "id": "890727081dc8431"
  },
  {
   "metadata": {
    "ExecuteTime": {
     "end_time": "2024-05-11T14:26:59.185451Z",
     "start_time": "2024-05-11T14:26:59.176216Z"
    }
   },
   "cell_type": "code",
   "source": [
    "def is_valid(sudoku, guess, row, col):\n",
    "    global debug\n",
    "    global step_count\n",
    "\n",
    "    # has to check is the given guess has occurred in the give row, in the given column, and in its respective 3x3 cube\n",
    "    # returns True if it is a valid guess False otherwise.\n",
    "\n",
    "    # Now we will check in the row\n",
    "    step_count += 1\n",
    "    if guess in sudoku[row]:\n",
    "        if debug:\n",
    "            print(f\"{guess} is in row {row}\")\n",
    "        return False\n",
    "\n",
    "    # Now we will check the column\n",
    "    step_count += 1\n",
    "    col_vals = []\n",
    "    for i in range(9):\n",
    "        step_count += 1\n",
    "        col_vals.append(sudoku[i][col])\n",
    "\n",
    "        # col_vals = [sudoku[i][col] for i in range(9)]\n",
    "        # if guess in col_vals:\n",
    "    step_count += 1\n",
    "    if guess in col_vals:\n",
    "        if debug:\n",
    "            print(f\"col_vals = {col_vals}\")\n",
    "            print(f\"{guess} is in col {col}\")\n",
    "        return False\n",
    "\n",
    "    # Now we will check the 3x3 cube\n",
    "    # We will do this by getting the start of each chunk by using quotients\n",
    "    # ***Note this is for reference only the actual indices start from 0 to 8\n",
    "\n",
    "    # 1,1 1,2 1,3 | 1,4 1,5 1,6 | 1,7 1,8 1,9\n",
    "    # 2,1 2,2 2,3 | 2,4 2,5 2,6 | 2,7 2,8 2,9\n",
    "    # 3,1 3,2 3,3 | 3,4 3,5 3,6 | 3,7 3,8 3,9\n",
    "    # ------------|-------------|------------\n",
    "    # 4,1 4,2 4,3 | 4,4 4,5 4,6 | 4,7 4,8 4,9\n",
    "    # 5,1 5,2 5,3 | 5,4 5,5 5,6 | 5,7 5,8 5,9\n",
    "    # 6,1 6,2 6,3 | 6,4 6,5 6,6 | 6,7 6,8 6,9\n",
    "    # ------------|-------------|------------\n",
    "    # 7,1 7,2 7,3 | 7,4 7,5 7,6 | 7,7 7,8 7,9\n",
    "    # 8,1 8,2 8,3 | 8,4 8,5 8,6 | 8,7 8,8 8,9\n",
    "    # 9,1 9,2 9,3 | 9,4 9,5 9,6 | 9,7 9,8 9,9\n",
    "\n",
    "    # 0,0 | 0,1 | 0,2\n",
    "    # 1,0 | 1,1 | 1,2\n",
    "    # 2,0 | 2,1 | 2,2\n",
    "\n",
    "    step_count += 1\n",
    "    row_start = (row // 3) * 3\n",
    "    col_start = (col // 3) * 3\n",
    "    step_count += 1\n",
    "    if debug:\n",
    "        print(f\"row_start = {row_start}, col_start = {col_start}\")\n",
    "    for r in range(row_start, row_start + 3):\n",
    "        for c in range(col_start, col_start + 3):\n",
    "            step_count += 1\n",
    "            if sudoku[r][c] == guess:\n",
    "                if debug:\n",
    "                    print(f\"{guess} is in {row_start}, {col_start} square at {r}, {c}\")\n",
    "                return False\n",
    "\n",
    "    # With all the filters, now only valid guesses will remain.\n",
    "    step_count += 1\n",
    "    return True"
   ],
   "id": "f07cfd37a5e8ef37",
   "outputs": [],
   "execution_count": 91
  },
  {
   "metadata": {},
   "cell_type": "markdown",
   "source": "Now this function will actually solve Sudoku using `back tracking`",
   "id": "21a7c94c3f60588a"
  },
  {
   "metadata": {
    "ExecuteTime": {
     "end_time": "2024-05-11T14:26:59.213772Z",
     "start_time": "2024-05-11T14:26:59.206195Z"
    }
   },
   "cell_type": "code",
   "source": [
    "def solve_sudoku(sudoku):\n",
    "    global debug\n",
    "    global step_count\n",
    "\n",
    "    # Our sudoku is in the form of list-of-lists.\n",
    "    # Return weather a result exists or not\n",
    "    # Will mutate the result if it exists\n",
    "\n",
    "    # Step 1 - To get the next empty slot in the order row > column\n",
    "    step_count += 1\n",
    "    row, col = find_next_empty(sudoku)\n",
    "\n",
    "    # Step 2 - If there are no empty places left i.e. row, col is None, None then we return since we only allow valid inputs\n",
    "    if row is None or col is None:\n",
    "        step_count += 1\n",
    "        return True\n",
    "\n",
    "    step_count += 1\n",
    "    if debug:\n",
    "        print(f\"Next Empty (Row, Col) ({row} {col})\")\n",
    "\n",
    "    # Step 3 - Now for the case where there is a place to put a number.\n",
    "    for guess in range(1, 10):\n",
    "        step_count += 1\n",
    "        if debug:\n",
    "            print(f\"Current guess {guess}...\")\n",
    "        # Step 4 - TO check if this is a valid guess\n",
    "        step_count += 1\n",
    "        if is_valid(sudoku, guess, row, col):\n",
    "            # Step 4.1 - Now since this guess is valid, we will start the next recursion of this entire function.\n",
    "            step_count += 1\n",
    "            sudoku[row][col] = guess\n",
    "            if debug:\n",
    "                print(f\"Correct Guess {guess} at {row}, {col}\")\n",
    "                print(f\"Change(s) found in: {row}, {col}\")\n",
    "                changes = [(row, col)]  # Define Changes here\n",
    "                draw_sudoku(sudoku, changes)\n",
    "\n",
    "            # Step 5 - Now we will recurse this function\n",
    "            step_count += 1\n",
    "            if solve_sudoku(sudoku):\n",
    "                step_count += 1\n",
    "                return True\n",
    "\n",
    "        # Step 6 - This will occur if our guess is wrong OR \n",
    "        # that our guess does not solve the Sudoku \n",
    "        # then we will backtrack and try a new number\n",
    "        step_count += 1\n",
    "        sudoku[row][col] = 0\n",
    "\n",
    "    # Step 7 - If this has occurred, \n",
    "    # this means that the Sudoku is Unsolvable\n",
    "    # as all the possible combinations are already tried\n",
    "    step_count += 1\n",
    "    if debug:\n",
    "        print(\"This sudoku is Unsolvable!!!\")\n",
    "        print(\"So, we are backtracking!\")\n",
    "    return False"
   ],
   "id": "388c3cdb6e370167",
   "outputs": [],
   "execution_count": 92
  },
  {
   "metadata": {},
   "cell_type": "markdown",
   "source": [
    "Now the `main` function where the whole code starts executing!!!\n",
    "Please enter the entire sudoku with whitespaces in between the numbers. For empty cells, please enter 0. Line by Line "
   ],
   "id": "d5a9ecdc3ff51254"
  },
  {
   "metadata": {
    "ExecuteTime": {
     "end_time": "2024-05-11T14:27:03.895570Z",
     "start_time": "2024-05-11T14:26:59.259082Z"
    }
   },
   "cell_type": "code",
   "source": [
    "if __name__ == '__main__':\n",
    "    # From here the main execution starts\n",
    "    # To debug toggle the below variable this is used only in the functions draw_sudoku & solve_sudoku\n",
    "    debug = False\n",
    "    step_count = 0\n",
    "\n",
    "    # First enter the values\n",
    "    step_count += 1\n",
    "    Sudoku = input_sudoku()\n",
    "\n",
    "    # For Testing Purpose creating a copy of the initial Sudoku before solving\n",
    "    if debug:\n",
    "        step_count += 1\n",
    "        initial_sudoku = copy.deepcopy(Sudoku)\n",
    "\n",
    "    # Display the entered Sudoku\n",
    "    step_count += 1\n",
    "    print(\"This is the initial Sudoku before solving: \")\n",
    "    draw_sudoku(Sudoku)\n",
    "    if debug:\n",
    "        print(\"The Solving of Sudoku step by step: \")\n",
    "    # Solving the Sudoku...\n",
    "    if solve_sudoku(Sudoku):\n",
    "        # Display the final result  \n",
    "        draw_sudoku(Sudoku)\n",
    "    else:\n",
    "        step_count += 1\n",
    "        print(\"Unfortunately it is not possible to solve the Sudoku.\")\n",
    "    num_of_steps = \"{:,}\".format(step_count)\n",
    "    print(f\"The Sudoku has been solved in {num_of_steps}.\")"
   ],
   "id": "e16af41a4b114720",
   "outputs": [
    {
     "name": "stdout",
     "output_type": "stream",
     "text": [
      "This is the initial Sudoku before solving: \n"
     ]
    },
    {
     "data": {
      "text/plain": [
       "<Figure size 640x480 with 1 Axes>"
      ],
      "image/png": "[encoded data removed]"
     },
     "metadata": {},
     "output_type": "display_data"
    },
    {
     "data": {
      "text/plain": [
       "<Figure size 640x480 with 1 Axes>"
      ],
      "image/png": "[encoded data removed]"
     },
     "metadata": {},
     "output_type": "display_data"
    },
    {
     "name": "stdout",
     "output_type": "stream",
     "text": [
      "The Sudoku has been solved in 13,553.\n"
     ]
    }
   ],
   "execution_count": 93
  },
  {
   "metadata": {},
   "cell_type": "markdown",
   "source": [
    "# Debugging of is_valid()\n",
    "Debugging of is_valid() by using a simplified setup,  \n",
    "The aim is to easily understand how the verification is happening, and square/cube part is kept first to demonstrate how the square is being mapped."
   ],
   "id": "9539ff6156f402be"
  },
  {
   "metadata": {
    "ExecuteTime": {
     "end_time": "2024-05-11T14:27:04.083387Z",
     "start_time": "2024-05-11T14:27:03.897082Z"
    }
   },
   "cell_type": "code",
   "source": [
    "sudoku_string = \"3 0 9 0 5 0 0 2 0 0 0 6 0 0 0 0 1 0 4 5 2 0 0 0 6 8 3 0 0 4 0 0 0 0 0 2 0 0 1 0 7 4 5 0 0 8 0 5 1 0 9 7 6 0 5 0 3 2 9 6 8 0 0 6 0 0 0 8 1 3 0 0 0 9 8 0 4 0 0 0 6\"\n",
    "\n",
    "# Split the string into individual numbers and convert them to integers\n",
    "sudoku_list = list(map(int, sudoku_string.split()))\n",
    "\n",
    "# Group the numbers into sublists of 9 elements each\n",
    "sudoku = [sudoku_list[i:i + 9] for i in range(0, len(sudoku_list), 9)]\n",
    "draw_sudoku(sudoku)\n",
    "row = 8\n",
    "col = 3\n",
    "row_start = (row // 3) * 3\n",
    "col_start = (col // 3) * 3\n",
    "print(f\"Empty cell {row + 1}, {col + 1} is in row-start = {row_start + 1}, col_start = {col_start + 1}\")\n",
    "for guess in range(1, 10):\n",
    "\n",
    "    for r in range(row_start, row_start + 3):\n",
    "        for c in range(col_start, col_start + 3):\n",
    "            if sudoku[r][c] == guess:\n",
    "                r_start = (r // 3)\n",
    "                c_start = (c // 3)\n",
    "                print(f\"{guess} not accepted due to {r + 1}, {c + 1} which is in {r_start + 1}, {c_start + 1} square\")\n",
    "                continue\n",
    "    if guess in sudoku[row]:\n",
    "        print(f\"{guess} not accepted due to duplicate being found in row\")\n",
    "        continue\n",
    "    col_vals = [sudoku[i][col] for i in range(9)]\n",
    "    if guess in col_vals:\n",
    "        print(f\"{guess} not accepted due to duplicate being found in row\")\n",
    "        continue"
   ],
   "id": "e67df1d39667415c",
   "outputs": [
    {
     "data": {
      "text/plain": [
       "<Figure size 640x480 with 1 Axes>"
      ],
      "image/png": "[encoded data removed]"
     },
     "metadata": {},
     "output_type": "display_data"
    },
    {
     "name": "stdout",
     "output_type": "stream",
     "text": [
      "Empty cell 9, 4 is in row-start = 7, col_start = 4\n",
      "1 not accepted due to 8, 6 which is in 3, 2 square\n",
      "1 not accepted due to duplicate being found in row\n",
      "2 not accepted due to 7, 4 which is in 3, 2 square\n",
      "2 not accepted due to duplicate being found in row\n",
      "4 not accepted due to 9, 5 which is in 3, 2 square\n",
      "4 not accepted due to duplicate being found in row\n",
      "6 not accepted due to 7, 6 which is in 3, 2 square\n",
      "6 not accepted due to duplicate being found in row\n",
      "8 not accepted due to 8, 5 which is in 3, 2 square\n",
      "8 not accepted due to duplicate being found in row\n",
      "9 not accepted due to 7, 5 which is in 3, 2 square\n",
      "9 not accepted due to duplicate being found in row\n"
     ]
    }
   ],
   "execution_count": 94
  }
 ],
 "metadata": {
  "kernelspec": {
   "display_name": "Python 3",
   "language": "python",
   "name": "python3"
  },
  "language_info": {
   "codemirror_mode": {
    "name": "ipython",
    "version": 2
   },
   "file_extension": ".py",
   "mimetype": "text/x-python",
   "name": "python",
   "nbconvert_exporter": "python",
   "pygments_lexer": "ipython2",
   "version": "2.7.6"
  }
 },
 "nbformat": 4,
 "nbformat_minor": 5
}
