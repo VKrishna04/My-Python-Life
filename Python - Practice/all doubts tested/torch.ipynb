{
 "cells": [
  {
   "cell_type": "markdown",
   "metadata": {},
   "source": []
  },
  {
   "cell_type": "code",
   "execution_count": 1,
   "metadata": {},
   "outputs": [
    {
     "name": "stdout",
     "output_type": "stream",
     "text": [
      "Tensor x:\n",
      " tensor([[1., 2.],\n",
      "        [3., 4.]])\n",
      "Tensor y:\n",
      " tensor([[0.5615, 0.9636],\n",
      "        [0.4505, 0.7414]])\n",
      "Tensor z (x + y):\n",
      " tensor([[1.5615, 2.9636],\n",
      "        [3.4505, 4.7414]])\n"
     ]
    }
   ],
   "source": [
    "import torch\n",
    "\n",
    "# Create a tensor\n",
    "x = torch.tensor([[1, 2], [3, 4]], dtype=torch.float32)\n",
    "print(\"Tensor x:\\n\", x)\n",
    "\n",
    "# Create a tensor with random values\n",
    "y = torch.rand((2, 2))\n",
    "print(\"Tensor y:\\n\", y)\n",
    "\n",
    "# Perform tensor operations\n",
    "z = x + y\n",
    "print(\"Tensor z (x + y):\\n\", z)"
   ]
  },
  {
   "cell_type": "code",
   "execution_count": 2,
   "metadata": {},
   "outputs": [
    {
     "name": "stdout",
     "output_type": "stream",
     "text": [
      "Neural Network Model:\n",
      " SimpleNN(\n",
      "  (fc1): Linear(in_features=4, out_features=3, bias=True)\n",
      "  (fc2): Linear(in_features=3, out_features=2, bias=True)\n",
      ")\n"
     ]
    }
   ],
   "source": [
    "import torch.nn as nn\n",
    "\n",
    "# Define a simple neural network\n",
    "class SimpleNN(nn.Module):\n",
    "    def __init__(self):\n",
    "        super(SimpleNN, self).__init__()\n",
    "        self.fc1 = nn.Linear(4, 3)\n",
    "        self.fc2 = nn.Linear(3, 2)\n",
    "\n",
    "    def forward(self, x):\n",
    "        x = torch.relu(self.fc1(x))\n",
    "        x = self.fc2(x)\n",
    "        return x\n",
    "\n",
    "# Instantiate the neural network\n",
    "model = SimpleNN()\n",
    "print(\"Neural Network Model:\\n\", model)"
   ]
  },
  {
   "cell_type": "code",
   "execution_count": 3,
   "metadata": {},
   "outputs": [],
   "source": [
    "import torch.optim as optim\n",
    "\n",
    "# Define a loss function\n",
    "criterion = nn.MSELoss()\n",
    "\n",
    "# Define an optimizer\n",
    "optimizer = optim.SGD(model.parameters(), lr=0.01)"
   ]
  },
  {
   "cell_type": "code",
   "execution_count": 4,
   "metadata": {},
   "outputs": [
    {
     "name": "stdout",
     "output_type": "stream",
     "text": [
      "Epoch [100/1000], Loss: 0.0271\n",
      "Epoch [200/1000], Loss: 0.0123\n",
      "Epoch [300/1000], Loss: 0.0103\n",
      "Epoch [400/1000], Loss: 0.0100\n",
      "Epoch [500/1000], Loss: 0.0100\n",
      "Epoch [600/1000], Loss: 0.0100\n",
      "Epoch [700/1000], Loss: 0.0100\n",
      "Epoch [800/1000], Loss: 0.0100\n",
      "Epoch [900/1000], Loss: 0.0100\n",
      "Epoch [1000/1000], Loss: 0.0100\n"
     ]
    }
   ],
   "source": [
    "# Dummy training data\n",
    "inputs = torch.tensor([[0.1, 0.2, 0.3, 0.4], [0.5, 0.6, 0.7, 0.8]], dtype=torch.float32)\n",
    "targets = torch.tensor([[0.1, 0.2], [0.3, 0.4]], dtype=torch.float32)\n",
    "\n",
    "# Training loop\n",
    "num_epochs = 1000\n",
    "for epoch in range(num_epochs):\n",
    "    # Forward pass\n",
    "    outputs = model(inputs)\n",
    "    loss = criterion(outputs, targets)\n",
    "\n",
    "    # Backward pass and optimization\n",
    "    optimizer.zero_grad()\n",
    "    loss.backward()\n",
    "    optimizer.step()\n",
    "\n",
    "    if (epoch+1) % 100 == 0:\n",
    "        print(f'Epoch [{epoch+1}/{num_epochs}], Loss: {loss.item():.4f}')"
   ]
  },
  {
   "cell_type": "code",
   "execution_count": 5,
   "metadata": {},
   "outputs": [
    {
     "name": "stdout",
     "output_type": "stream",
     "text": [
      "Predictions:\n",
      " tensor([[0.2347, 0.2098]], grad_fn=<AddmmBackward0>)\n"
     ]
    }
   ],
   "source": [
    "# Test the model on new data\n",
    "test_data = torch.tensor([[0.9, 1.0, 1.1, 1.2]], dtype=torch.float32)\n",
    "predictions = model(test_data)\n",
    "print(\"Predictions:\\n\", predictions)"
   ]
  },
  {
   "cell_type": "markdown",
   "metadata": {},
   "source": [
    "Sure! PyTorch is a popular open-source deep learning framework developed by Facebook's AI Research lab. It provides a flexible and efficient platform for building and training neural networks. Below, I'll give you an overview of the key concepts and steps to get started with PyTorch.\n",
    "\n",
    "### Key Concepts:\n",
    "1. **Tensors**: The fundamental building block in PyTorch, similar to NumPy arrays but with GPU support.\n",
    "2. **Autograd**: Automatic differentiation for building and training neural networks.\n",
    "3. **Neural Network Module**: A high-level abstraction for building neural networks.\n",
    "4. **Optimizers**: Algorithms for updating the weights of the network based on the gradients.\n",
    "\n",
    "### Steps to Get Started:\n",
    "1. **Install PyTorch**: Install PyTorch using pip or conda.\n",
    "2. **Create Tensors**: Learn how to create and manipulate tensors.\n",
    "3. **Build a Neural Network**: Use the `torch.nn` module to define a neural network.\n",
    "4. **Define a Loss Function and Optimizer**: Specify the loss function and optimizer.\n",
    "5. **Train the Model**: Implement the training loop to train the model.\n",
    "6. **Evaluate the Model**: Test the model on new data.\n",
    "\n",
    "### Example Code:\n",
    "Below is an example of how to get started with PyTorch, including creating tensors, building a simple neural network, and training it on dummy data.\n",
    "\n",
    "#### 1. Install PyTorch:\n",
    "You can install PyTorch using pip:\n",
    "```sh\n",
    "pip install torch torchvision\n",
    "```\n",
    "\n",
    "#### 2. Create Tensors:\n",
    "```python\n",
    "import torch\n",
    "\n",
    "# Create a tensor\n",
    "x = torch.tensor([[1, 2], [3, 4]], dtype=torch.float32)\n",
    "print(\"Tensor x:\\n\", x)\n",
    "\n",
    "# Create a tensor with random values\n",
    "y = torch.rand((2, 2))\n",
    "print(\"Tensor y:\\n\", y)\n",
    "\n",
    "# Perform tensor operations\n",
    "z = x + y\n",
    "print(\"Tensor z (x + y):\\n\", z)\n",
    "```\n",
    "\n",
    "#### 3. Build a Neural Network:\n",
    "```python\n",
    "import torch.nn as nn\n",
    "\n",
    "# Define a simple neural network\n",
    "class SimpleNN(nn.Module):\n",
    "    def __init__(self):\n",
    "        super(SimpleNN, self).__init__()\n",
    "        self.fc1 = nn.Linear(4, 3)\n",
    "        self.fc2 = nn.Linear(3, 2)\n",
    "\n",
    "    def forward(self, x):\n",
    "        x = torch.relu(self.fc1(x))\n",
    "        x = self.fc2(x)\n",
    "        return x\n",
    "\n",
    "# Instantiate the neural network\n",
    "model = SimpleNN()\n",
    "print(\"Neural Network Model:\\n\", model)\n",
    "```\n",
    "\n",
    "#### 4. Define a Loss Function and Optimizer:\n",
    "```python\n",
    "import torch.optim as optim\n",
    "\n",
    "# Define a loss function\n",
    "criterion = nn.MSELoss()\n",
    "\n",
    "# Define an optimizer\n",
    "optimizer = optim.SGD(model.parameters(), lr=0.01)\n",
    "```\n",
    "\n",
    "#### 5. Train the Model:\n",
    "```python\n",
    "# Dummy training data\n",
    "inputs = torch.tensor([[0.1, 0.2, 0.3, 0.4], [0.5, 0.6, 0.7, 0.8]], dtype=torch.float32)\n",
    "targets = torch.tensor([[0.1, 0.2], [0.3, 0.4]], dtype=torch.float32)\n",
    "\n",
    "# Training loop\n",
    "num_epochs = 1000\n",
    "for epoch in range(num_epochs):\n",
    "    # Forward pass\n",
    "    outputs = model(inputs)\n",
    "    loss = criterion(outputs, targets)\n",
    "\n",
    "    # Backward pass and optimization\n",
    "    optimizer.zero_grad()\n",
    "    loss.backward()\n",
    "    optimizer.step()\n",
    "\n",
    "    if (epoch+1) % 100 == 0:\n",
    "        print(f'Epoch [{epoch+1}/{num_epochs}], Loss: {loss.item():.4f}')\n",
    "```\n",
    "\n",
    "#### 6. Evaluate the Model:\n",
    "```python\n",
    "# Test the model on new data\n",
    "test_data = torch.tensor([[0.9, 1.0, 1.1, 1.2]], dtype=torch.float32)\n",
    "predictions = model(test_data)\n",
    "print(\"Predictions:\\n\", predictions)\n",
    "```\n",
    "\n",
    "### Explanation:\n",
    "1. **Install PyTorch**: Install PyTorch using pip.\n",
    "2. **Create Tensors**: Create and manipulate tensors using PyTorch.\n",
    "3. **Build a Neural Network**: Define a simple neural network using the `torch.nn` module.\n",
    "4. **Define a Loss Function and Optimizer**: Specify the loss function and optimizer for training.\n",
    "5. **Train the Model**: Implement the training loop to train the model on dummy data.\n",
    "6. **Evaluate the Model**: Test the model on new data and print the predictions.\n",
    "\n",
    "By following these steps, you can get started with PyTorch and build, train, and evaluate neural networks. PyTorch provides a flexible and efficient platform for deep learning, making it a popular choice among researchers and practitioners."
   ]
  }
 ],
 "metadata": {
  "kernelspec": {
   "display_name": "Python 3",
   "language": "python",
   "name": "python3"
  },
  "language_info": {
   "codemirror_mode": {
    "name": "ipython",
    "version": 3
   },
   "file_extension": ".py",
   "mimetype": "text/x-python",
   "name": "python",
   "nbconvert_exporter": "python",
   "pygments_lexer": "ipython3",
   "version": "3.12.3"
  }
 },
 "nbformat": 4,
 "nbformat_minor": 2
}
