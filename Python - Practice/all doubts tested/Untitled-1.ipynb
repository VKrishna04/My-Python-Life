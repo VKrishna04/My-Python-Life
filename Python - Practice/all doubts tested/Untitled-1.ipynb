{
 "cells": [
  {
   "cell_type": "code",
   "execution_count": 10,
   "metadata": {},
   "outputs": [
    {
     "name": "stdout",
     "output_type": "stream",
     "text": [
      "Number of Iterations: 100 \n",
      "Mean number of Iterations :843808.85 \n",
      "for Random Number limit: 1000000\n"
     ]
    }
   ],
   "source": [
    "from random import randint\n",
    "import signal\n",
    "from statistics import mean\n",
    "import sys\n",
    "\n",
    "def main(a,b):\n",
    "    def signal_handler(sig,frame):\n",
    "        print(f\"Number of Iterations: {len(iteration_counts)} \\nMean number of Iterations :{mean(iteration_counts)} \\nfor Random Number limit: {b}\")\n",
    "        sys.exit(0)\n",
    "    signal.signal(signal.SIGINT, signal_handler)\n",
    "    iteration_counts=[]\n",
    "    for _ in range(a):\n",
    "        ran=0\n",
    "        i=0\n",
    "        while ran!=1:\n",
    "            ran = randint(0,b)\n",
    "            i+=1\n",
    "        iteration_counts.append(i)\n",
    "    print(f\"Number of Iterations: {len(iteration_counts)} \\nMean number of Iterations :{mean(iteration_counts)} \\nfor Random Number limit: {b}\")\n",
    "if __name__ == \"__main__\":\n",
    "    a=100\n",
    "    b=1000000\n",
    "    main(a,b)\n"
   ]
  },
  {
   "cell_type": "code",
   "execution_count": null,
   "metadata": {},
   "outputs": [],
   "source": [
    "from random import randint\n",
    "from statistics import mean\n",
    "from multiprocessing import Pool\n",
    "from time import time\n",
    "\n",
    "def simulate_iterations(b):\n",
    "    ran=0\n",
    "    index=0\n",
    "    while ran!=1:\n",
    "        ran=randint(0,b)\n",
    "        index+=1\n",
    "    return index\n",
    "\n",
    "def main(a,b):\n",
    "    iteration_counts=[]\n",
    "    pool=Pool()\n",
    "\n",
    "    try:\n",
    "        async_results=[pool.apply_async(simulate_iterations, (b,)) for _ in range(a)]\n",
    "        pool.close()\n",
    "        pool.join()\n",
    "\n",
    "        iteration_counts=[result.get() for result in async_results]\n",
    "    except KeyboardInterrupt:\n",
    "        pool.terminate()\n",
    "        pool.join()\n",
    "\n",
    "        iteration_counts=[result.get() for result in async_results if result.ready()]\n",
    "    finally:\n",
    "        if iteration_counts:\n",
    "            print(f\"Number of Iterations: {len(iteration_counts)}\")\n",
    "            print(f\"Mean number of Iterations: {mean(iteration_counts)}\")\n",
    "            print(f\"for Random Number limit: {b}\")\n",
    "        else:\n",
    "            print(\"No iterations were completed.\")\n",
    "\n",
    "if __name__ == \"__main__\":\n",
    "    a = 100\n",
    "    b = 1000000\n",
    "    start_time=time()\n",
    "    main(a, b)\n",
    "    elapsed_time=time()-start_time\n",
    "    print(f\"Processing Time: {elapsed_time:.2f} seconds\")"
   ]
  },
  {
   "cell_type": "markdown",
   "metadata": {},
   "source": [
    "['J', 'A'] : 21\n",
    "\n",
    "['6'] : 6\n",
    "\n",
    "True\n",
    "\n",
    "['9'] : 9\n",
    "\n",
    "['9', 'Q', '8', 'A'] : 28\n",
    "\n",
    "True\n",
    "\n",
    "['3', '9'] : 12\n",
    "\n",
    "['8'] : 8\n",
    "\n",
    "True\n",
    "\n",
    "['J', 'A', 'A', '2'] : 24\n",
    "\n",
    "False"
   ]
  },
  {
   "cell_type": "code",
   "execution_count": 13,
   "metadata": {},
   "outputs": [
    {
     "name": "stdout",
     "output_type": "stream",
     "text": [
      "[None]\n"
     ]
    }
   ],
   "source": [
    "l = ['J', 'A']\n",
    "print([l.sort()])"
   ]
  },
  {
   "cell_type": "code",
   "execution_count": 1,
   "metadata": {},
   "outputs": [
    {
     "name": "stdout",
     "output_type": "stream",
     "text": [
      "-2\n"
     ]
    }
   ],
   "source": [
    "a=-9//7\n",
    "print(a)"
   ]
  },
  {
   "cell_type": "code",
   "execution_count": 2,
   "metadata": {},
   "outputs": [
    {
     "name": "stdout",
     "output_type": "stream",
     "text": [
      "<class 'str'>\n"
     ]
    }
   ],
   "source": [
    "x=-15\n",
    "y=str(float(x))\n",
    "print(type(y))"
   ]
  },
  {
   "cell_type": "code",
   "execution_count": 8,
   "metadata": {},
   "outputs": [
    {
     "name": "stdout",
     "output_type": "stream",
     "text": [
      "12\n"
     ]
    }
   ],
   "source": [
    "x = 10 + 5 % 3\n",
    "\n",
    "print(x)"
   ]
  }
 ],
 "metadata": {
  "kernelspec": {
   "display_name": "Python 3",
   "language": "python",
   "name": "python3"
  },
  "language_info": {
   "codemirror_mode": {
    "name": "ipython",
    "version": 3
   },
   "file_extension": ".py",
   "mimetype": "text/x-python",
   "name": "python",
   "nbconvert_exporter": "python",
   "pygments_lexer": "ipython3",
   "version": "3.12.3"
  }
 },
 "nbformat": 4,
 "nbformat_minor": 2
}
