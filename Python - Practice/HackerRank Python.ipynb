{
 "cells": [
  {
   "cell_type": "markdown",
   "metadata": {},
   "source": [
  "# This is my Hacker Hank Python expedition\n",
  "1. Given a year, determine whether it is a leap year. If it is a leap year, return the Boolean True, otherwise return False.\n",
  "\n",
  "Note that the code stub provided reads from STDIN and passes arguments to the is_leap function. It is only necessary to complete the is_leap function.\n",
  "\n",
  "link : https://www.hackerrank.com/challenges/write-a-function/problem?isFullScreen=true&h_r=next-challenge&h_v=zen"
   ]
  },
  {
   "cell_type": "code",
   "execution_count": 8,
   "metadata": {},
   "outputs": [
  {
   "name": "stdout",
   "output_type": "stream",
   "text": [
  "True\n"
   ]
  }
   ],
   "source": [
  "def is_leap(year):\n",
  "  leap = False\n",
  "  \n",
  "  if year % 400 == 0:\n",
  "  return True\n",
  "  elif year % 100 == 0:\n",
  "  return False\n",
  "  elif year % 4 == 0:\n",
  "  return True\n",
  "  else:\n",
  "  return leap\n",
  "\n",
  "year = int(input())\n",
  "print(is_leap(year))"
   ]
  }
 ],
 "metadata": {
  "language_info": {
   "codemirror_mode": {
  "name": "ipython",
  "version": 3
   },
   "file_extension": ".py",
   "mimetype": "text/x-python",
   "name": "python",
   "nbconvert_exporter": "python",
   "pygments_lexer": "ipython3",
   "version": 3
  },
  "orig_nbformat": 4
 },
 "nbformat": 4,
 "nbformat_minor": 2
}
